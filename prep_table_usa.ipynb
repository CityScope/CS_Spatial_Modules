{
 "cells": [
  {
   "cell_type": "code",
   "execution_count": 1,
   "metadata": {},
   "outputs": [],
   "source": [
    "from brix import Indicator, Handler\n",
    "import Simulation, US_State\n",
    "import geopandas as gpd\n",
    "from shapely.geometry import Point, shape\n",
    "import json\n",
    "import requests\n",
    "import urllib\n",
    "from geogrid_tools import *"
   ]
  },
  {
   "cell_type": "code",
   "execution_count": 2,
   "metadata": {},
   "outputs": [],
   "source": [
    "table_name='epa'\n",
    "geom_type='block_group'\n",
    "\n",
    "model_radius=5000\n",
    "reference_radius=2500"
   ]
  },
  {
   "cell_type": "markdown",
   "metadata": {},
   "source": [
    "- Create the handler\n",
    "- Get the geogrid\n",
    "- Identify the state\n",
    "- Get the state geometry\n",
    "- find the overlap\n",
    "- Assign the sim, model, reference zones\n",
    "- Append the grid \"zones\" to the actual zones (if the zones properties are updated in one indicator, will they be updated for all?)\n",
    "\n",
    "- all the above in a world object?"
   ]
  },
  {
   "cell_type": "code",
   "execution_count": 3,
   "metadata": {},
   "outputs": [],
   "source": [
    "h=Handler(table_name)"
   ]
  },
  {
   "cell_type": "code",
   "execution_count": 4,
   "metadata": {},
   "outputs": [],
   "source": [
    "# geogrid_data=h.get_geogrid_data(include_geometries=True)"
   ]
  },
  {
   "cell_type": "code",
   "execution_count": 5,
   "metadata": {},
   "outputs": [],
   "source": [
    "\n",
    "# geogrid=geogrid_data.GEOGRID"
   ]
  },
  {
   "cell_type": "code",
   "execution_count": 6,
   "metadata": {},
   "outputs": [],
   "source": [
    "# geogrid=h.get_GEOGRID()\n",
    "# geom = [f['geometry'] for f in geogrid['features']]\n",
    "# geogrid_gdp=gpd.GeoDataFrame({'geometry':geom})"
   ]
  },
  {
   "cell_type": "code",
   "execution_count": 7,
   "metadata": {},
   "outputs": [
    {
     "name": "stderr",
     "output_type": "stream",
     "text": [
      "/tmp/ipykernel_3469565/1794812704.py:5: UserWarning: Geometry is in a geographic CRS. Results from 'centroid' are likely incorrect. Use 'GeoSeries.to_crs()' to re-project geometries to a projected CRS before this operation.\n",
      "\n",
      "  centroids=geogrid['geometry'].centroid\n"
     ]
    },
    {
     "data": {
      "text/html": [
       "<div>\n",
       "<style scoped>\n",
       "    .dataframe tbody tr th:only-of-type {\n",
       "        vertical-align: middle;\n",
       "    }\n",
       "\n",
       "    .dataframe tbody tr th {\n",
       "        vertical-align: top;\n",
       "    }\n",
       "\n",
       "    .dataframe thead th {\n",
       "        text-align: right;\n",
       "    }\n",
       "</style>\n",
       "<table border=\"1\" class=\"dataframe\">\n",
       "  <thead>\n",
       "    <tr style=\"text-align: right;\">\n",
       "      <th></th>\n",
       "      <th>id</th>\n",
       "      <th>interactive</th>\n",
       "      <th>name</th>\n",
       "      <th>geometry</th>\n",
       "      <th>x_centroid</th>\n",
       "      <th>y_centroid</th>\n",
       "    </tr>\n",
       "  </thead>\n",
       "  <tbody>\n",
       "    <tr>\n",
       "      <th>0</th>\n",
       "      <td>0</td>\n",
       "      <td>Web</td>\n",
       "      <td>None</td>\n",
       "      <td>POLYGON ((-122.14014 37.48867, -122.14014 37.4...</td>\n",
       "      <td>-122.139854</td>\n",
       "      <td>37.488442</td>\n",
       "    </tr>\n",
       "    <tr>\n",
       "      <th>1</th>\n",
       "      <td>1</td>\n",
       "      <td>Web</td>\n",
       "      <td>None</td>\n",
       "      <td>POLYGON ((-122.13957 37.48867, -122.13957 37.4...</td>\n",
       "      <td>-122.139291</td>\n",
       "      <td>37.488442</td>\n",
       "    </tr>\n",
       "    <tr>\n",
       "      <th>2</th>\n",
       "      <td>2</td>\n",
       "      <td>Web</td>\n",
       "      <td>None</td>\n",
       "      <td>POLYGON ((-122.13901 37.48867, -122.13901 37.4...</td>\n",
       "      <td>-122.138727</td>\n",
       "      <td>37.488442</td>\n",
       "    </tr>\n",
       "    <tr>\n",
       "      <th>3</th>\n",
       "      <td>3</td>\n",
       "      <td>Web</td>\n",
       "      <td>None</td>\n",
       "      <td>POLYGON ((-122.13845 37.48867, -122.13845 37.4...</td>\n",
       "      <td>-122.138164</td>\n",
       "      <td>37.488442</td>\n",
       "    </tr>\n",
       "    <tr>\n",
       "      <th>4</th>\n",
       "      <td>4</td>\n",
       "      <td>Web</td>\n",
       "      <td>None</td>\n",
       "      <td>POLYGON ((-122.13788 37.48867, -122.13788 37.4...</td>\n",
       "      <td>-122.137600</td>\n",
       "      <td>37.488442</td>\n",
       "    </tr>\n",
       "    <tr>\n",
       "      <th>...</th>\n",
       "      <td>...</td>\n",
       "      <td>...</td>\n",
       "      <td>...</td>\n",
       "      <td>...</td>\n",
       "      <td>...</td>\n",
       "      <td>...</td>\n",
       "    </tr>\n",
       "    <tr>\n",
       "      <th>745</th>\n",
       "      <td>745</td>\n",
       "      <td>Web</td>\n",
       "      <td>None</td>\n",
       "      <td>POLYGON ((-122.12887 37.47564, -122.12887 37.4...</td>\n",
       "      <td>-122.128586</td>\n",
       "      <td>37.475420</td>\n",
       "    </tr>\n",
       "    <tr>\n",
       "      <th>746</th>\n",
       "      <td>746</td>\n",
       "      <td>Web</td>\n",
       "      <td>None</td>\n",
       "      <td>POLYGON ((-122.12830 37.47564, -122.12830 37.4...</td>\n",
       "      <td>-122.128022</td>\n",
       "      <td>37.475420</td>\n",
       "    </tr>\n",
       "    <tr>\n",
       "      <th>747</th>\n",
       "      <td>747</td>\n",
       "      <td>Web</td>\n",
       "      <td>None</td>\n",
       "      <td>POLYGON ((-122.12774 37.47564, -122.12774 37.4...</td>\n",
       "      <td>-122.127459</td>\n",
       "      <td>37.475420</td>\n",
       "    </tr>\n",
       "    <tr>\n",
       "      <th>748</th>\n",
       "      <td>748</td>\n",
       "      <td>Web</td>\n",
       "      <td>None</td>\n",
       "      <td>POLYGON ((-122.12718 37.47564, -122.12718 37.4...</td>\n",
       "      <td>-122.126896</td>\n",
       "      <td>37.475420</td>\n",
       "    </tr>\n",
       "    <tr>\n",
       "      <th>749</th>\n",
       "      <td>749</td>\n",
       "      <td>Web</td>\n",
       "      <td>None</td>\n",
       "      <td>POLYGON ((-122.12661 37.47564, -122.12661 37.4...</td>\n",
       "      <td>-122.126332</td>\n",
       "      <td>37.475420</td>\n",
       "    </tr>\n",
       "  </tbody>\n",
       "</table>\n",
       "<p>750 rows × 6 columns</p>\n",
       "</div>"
      ],
      "text/plain": [
       "      id interactive  name                                           geometry  \\\n",
       "0      0         Web  None  POLYGON ((-122.14014 37.48867, -122.14014 37.4...   \n",
       "1      1         Web  None  POLYGON ((-122.13957 37.48867, -122.13957 37.4...   \n",
       "2      2         Web  None  POLYGON ((-122.13901 37.48867, -122.13901 37.4...   \n",
       "3      3         Web  None  POLYGON ((-122.13845 37.48867, -122.13845 37.4...   \n",
       "4      4         Web  None  POLYGON ((-122.13788 37.48867, -122.13788 37.4...   \n",
       "..   ...         ...   ...                                                ...   \n",
       "745  745         Web  None  POLYGON ((-122.12887 37.47564, -122.12887 37.4...   \n",
       "746  746         Web  None  POLYGON ((-122.12830 37.47564, -122.12830 37.4...   \n",
       "747  747         Web  None  POLYGON ((-122.12774 37.47564, -122.12774 37.4...   \n",
       "748  748         Web  None  POLYGON ((-122.12718 37.47564, -122.12718 37.4...   \n",
       "749  749         Web  None  POLYGON ((-122.12661 37.47564, -122.12661 37.4...   \n",
       "\n",
       "     x_centroid  y_centroid  \n",
       "0   -122.139854   37.488442  \n",
       "1   -122.139291   37.488442  \n",
       "2   -122.138727   37.488442  \n",
       "3   -122.138164   37.488442  \n",
       "4   -122.137600   37.488442  \n",
       "..          ...         ...  \n",
       "745 -122.128586   37.475420  \n",
       "746 -122.128022   37.475420  \n",
       "747 -122.127459   37.475420  \n",
       "748 -122.126896   37.475420  \n",
       "749 -122.126332   37.475420  \n",
       "\n",
       "[750 rows x 6 columns]"
      ]
     },
     "execution_count": 7,
     "metadata": {},
     "output_type": "execute_result"
    }
   ],
   "source": [
    "get_url='https://cityio.media.mit.edu/api/table/'+table_name\n",
    "with urllib.request.urlopen(get_url+'/GEOGRID') as url:\n",
    "    geogrid=gpd.read_file(url.read().decode())\n",
    "\n",
    "centroids=geogrid['geometry'].centroid\n",
    "geogrid['x_centroid']=[c.x for c in centroids]\n",
    "geogrid['y_centroid']=[c.y for c in centroids]\n",
    "geogrid"
   ]
  },
  {
   "cell_type": "code",
   "execution_count": 8,
   "metadata": {},
   "outputs": [],
   "source": [
    "types=json.load(open('./data/default_types.json'))"
   ]
  },
  {
   "cell_type": "code",
   "execution_count": 9,
   "metadata": {},
   "outputs": [
    {
     "name": "stdout",
     "output_type": "stream",
     "text": [
      "Initialise GEOGRID: <Response [200]>\n"
     ]
    }
   ],
   "source": [
    "try:\n",
    "    interactive_zone=gpd.read_file('./tables/{}/interactive.geojson'.format(table_name))\n",
    "    print('using interactive zone')\n",
    "except:\n",
    "    interactive_zone=None\n",
    "properties=init_geogrid(table_name, interactive_zone=interactive_zone, types=types)"
   ]
  },
  {
   "cell_type": "code",
   "execution_count": 10,
   "metadata": {},
   "outputs": [
    {
     "name": "stdout",
     "output_type": "stream",
     "text": [
      "Downloading state outlines\n"
     ]
    }
   ],
   "source": [
    "state_fips=identify_state(properties)"
   ]
  },
  {
   "cell_type": "code",
   "execution_count": null,
   "metadata": {},
   "outputs": [
    {
     "name": "stdout",
     "output_type": "stream",
     "text": [
      "Getting geometry (block_group) for state: California\n"
     ]
    },
    {
     "name": "stderr",
     "output_type": "stream",
     "text": [
      "/home/doorleyr/CS_Spatial_Modules/US_State.py:54: UserWarning: Geometry is in a geographic CRS. Results from 'centroid' are likely incorrect. Use 'GeoSeries.to_crs()' to re-project geometries to a projected CRS before this operation.\n",
      "\n",
      "  centroids=self.geom['geometry'].centroid\n"
     ]
    },
    {
     "name": "stdout",
     "output_type": "stream",
     "text": [
      "Getting WAC data from https://lehd.ces.census.gov/data/lodes/LODES7/\n",
      "\t Formatting WAC data\n",
      "Getting RAC data from https://lehd.ces.census.gov/data/lodes/LODES7/\n",
      "\t Formatting RAC data\n",
      "Getting OD data from https://lehd.ces.census.gov/data/lodes/LODES7/\n",
      "\t Formatting OD data\n"
     ]
    }
   ],
   "source": [
    "st=US_State.US_State(state_fips, year=2018, geom_type=geom_type)\n",
    "st.get_geometry()\n",
    "# st.remove_non_urban_zones()\n",
    "st.get_lodes_data( include=['wac', 'rac', 'od'])\n",
    "st.add_lodes_cols_to_shape()\n",
    "st.geom.plot()"
   ]
  },
  {
   "cell_type": "code",
   "execution_count": null,
   "metadata": {},
   "outputs": [],
   "source": [
    "st.subset_geom_by_distance(centre_x_y=[geogrid.x_centroid.mean(), geogrid.y_centroid.mean()], \n",
    "                                   radius=reference_radius, name='reference_area')\n",
    "\n",
    "st.subset_geom_by_distance(centre_x_y=[geogrid.x_centroid.mean(), geogrid.y_centroid.mean()], \n",
    "                                   radius=model_radius, name='model_area')\n",
    "\n",
    "st.geom=assign_sim_area(gpd.GeoDataFrame(geogrid), st.geom)"
   ]
  },
  {
   "cell_type": "code",
   "execution_count": null,
   "metadata": {},
   "outputs": [],
   "source": [
    "zones=st.geom.rename(columns={col: 'area' for col in st.geom.columns if 'ALAND' in col})"
   ]
  },
  {
   "cell_type": "code",
   "execution_count": null,
   "metadata": {},
   "outputs": [],
   "source": [
    "zones.loc[zones['model_area']].to_file('tables/{}/zones.geojson'.format(table_name), driver='GeoJSON')"
   ]
  },
  {
   "cell_type": "code",
   "execution_count": null,
   "metadata": {},
   "outputs": [],
   "source": [
    "import os\n",
    "if not os.path.isdir('tables/{}'.format(table_name)):\n",
    "    os.mkdir('tables/{}'.format(table_name))"
   ]
  },
  {
   "cell_type": "code",
   "execution_count": null,
   "metadata": {},
   "outputs": [],
   "source": [
    "simpop_df=st.lodes_to_pop_table(\n",
    "    model_subset_name='model_area', sim_subset_name='sim_area')\n",
    "simpop_df.to_csv('tables/{}/simpop_df.csv'.format(table_name), index=False)"
   ]
  },
  {
   "cell_type": "code",
   "execution_count": null,
   "metadata": {},
   "outputs": [],
   "source": [
    "geogrid.to_file('tables/{}/geogrid.geojson'.format(table_name), driver='GeoJSON')"
   ]
  },
  {
   "cell_type": "code",
   "execution_count": null,
   "metadata": {},
   "outputs": [],
   "source": []
  }
 ],
 "metadata": {
  "kernelspec": {
   "display_name": "Python 3 (ipykernel)",
   "language": "python",
   "name": "python3"
  },
  "language_info": {
   "codemirror_mode": {
    "name": "ipython",
    "version": 3
   },
   "file_extension": ".py",
   "mimetype": "text/x-python",
   "name": "python",
   "nbconvert_exporter": "python",
   "pygments_lexer": "ipython3",
   "version": "3.9.0"
  }
 },
 "nbformat": 4,
 "nbformat_minor": 4
}
