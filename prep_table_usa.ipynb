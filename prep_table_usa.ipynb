{
 "cells": [
  {
   "cell_type": "code",
   "execution_count": 1,
   "metadata": {},
   "outputs": [],
   "source": [
    "from brix import Indicator, Handler\n",
    "import OpenCity\n",
    "import geopandas as gpd\n",
    "from shapely.geometry import Point, shape\n",
    "import json\n",
    "import requests\n",
    "import urllib"
   ]
  },
  {
   "cell_type": "code",
   "execution_count": 18,
   "metadata": {},
   "outputs": [],
   "source": [
    "table_name='volpe_2'\n",
    "geom_type='block_group'\n",
    "\n",
    "model_radius=5000\n",
    "reference_radius=2500"
   ]
  },
  {
   "cell_type": "markdown",
   "metadata": {},
   "source": [
    "- Create the handler\n",
    "- Get the geogrid\n",
    "- Identify the state\n",
    "- Get the state geometry\n",
    "- find the overlap\n",
    "- Assign the sim, model, reference zones\n",
    "- Append the grid \"zones\" to the actual zones (if the zones properties are updated in one indicator, will they be updated for all?)\n",
    "\n",
    "- all the above in a world object?"
   ]
  },
  {
   "cell_type": "code",
   "execution_count": 19,
   "metadata": {},
   "outputs": [],
   "source": [
    "h=Handler(table_name)"
   ]
  },
  {
   "cell_type": "code",
   "execution_count": 20,
   "metadata": {},
   "outputs": [],
   "source": [
    "# geogrid_data=h.get_geogrid_data(include_geometries=True)"
   ]
  },
  {
   "cell_type": "code",
   "execution_count": 21,
   "metadata": {},
   "outputs": [],
   "source": [
    "\n",
    "# geogrid=geogrid_data.GEOGRID"
   ]
  },
  {
   "cell_type": "code",
   "execution_count": 22,
   "metadata": {},
   "outputs": [],
   "source": [
    "# geogrid=h.get_GEOGRID()\n",
    "# geom = [f['geometry'] for f in geogrid['features']]\n",
    "# geogrid_gdp=gpd.GeoDataFrame({'geometry':geom})"
   ]
  },
  {
   "cell_type": "code",
   "execution_count": 23,
   "metadata": {},
   "outputs": [
    {
     "name": "stderr",
     "output_type": "stream",
     "text": [
      "<ipython-input-23-e3ea8eae3bb9>:5: UserWarning: Geometry is in a geographic CRS. Results from 'centroid' are likely incorrect. Use 'GeoSeries.to_crs()' to re-project geometries to a projected CRS before this operation.\n",
      "\n",
      "  centroids=geogrid['geometry'].centroid\n"
     ]
    },
    {
     "data": {
      "text/html": [
       "<div>\n",
       "<style scoped>\n",
       "    .dataframe tbody tr th:only-of-type {\n",
       "        vertical-align: middle;\n",
       "    }\n",
       "\n",
       "    .dataframe tbody tr th {\n",
       "        vertical-align: top;\n",
       "    }\n",
       "\n",
       "    .dataframe thead th {\n",
       "        text-align: right;\n",
       "    }\n",
       "</style>\n",
       "<table border=\"1\" class=\"dataframe\">\n",
       "  <thead>\n",
       "    <tr style=\"text-align: right;\">\n",
       "      <th></th>\n",
       "      <th>height</th>\n",
       "      <th>id</th>\n",
       "      <th>interactive</th>\n",
       "      <th>name</th>\n",
       "      <th>geometry</th>\n",
       "      <th>x_centroid</th>\n",
       "      <th>y_centroid</th>\n",
       "    </tr>\n",
       "  </thead>\n",
       "  <tbody>\n",
       "    <tr>\n",
       "      <th>0</th>\n",
       "      <td>20</td>\n",
       "      <td>0</td>\n",
       "      <td>Web</td>\n",
       "      <td>Low Income housing</td>\n",
       "      <td>POLYGON ((-71.08855 42.36884, -71.08860 42.368...</td>\n",
       "      <td>-71.088442</td>\n",
       "      <td>42.368725</td>\n",
       "    </tr>\n",
       "    <tr>\n",
       "      <th>1</th>\n",
       "      <td>4</td>\n",
       "      <td>1</td>\n",
       "      <td>Web</td>\n",
       "      <td>Industrial</td>\n",
       "      <td>POLYGON ((-71.08829 42.36881, -71.08833 42.368...</td>\n",
       "      <td>-71.088179</td>\n",
       "      <td>42.368691</td>\n",
       "    </tr>\n",
       "    <tr>\n",
       "      <th>2</th>\n",
       "      <td>4</td>\n",
       "      <td>2</td>\n",
       "      <td>Web</td>\n",
       "      <td>Industrial</td>\n",
       "      <td>POLYGON ((-71.08802 42.36877, -71.08807 42.368...</td>\n",
       "      <td>-71.087915</td>\n",
       "      <td>42.368657</td>\n",
       "    </tr>\n",
       "    <tr>\n",
       "      <th>3</th>\n",
       "      <td>10</td>\n",
       "      <td>3</td>\n",
       "      <td>Web</td>\n",
       "      <td>Campus</td>\n",
       "      <td>POLYGON ((-71.08776 42.36874, -71.08781 42.368...</td>\n",
       "      <td>-71.087652</td>\n",
       "      <td>42.368623</td>\n",
       "    </tr>\n",
       "    <tr>\n",
       "      <th>4</th>\n",
       "      <td>4</td>\n",
       "      <td>4</td>\n",
       "      <td>Web</td>\n",
       "      <td>Residential</td>\n",
       "      <td>POLYGON ((-71.08750 42.36870, -71.08754 42.368...</td>\n",
       "      <td>-71.087389</td>\n",
       "      <td>42.368588</td>\n",
       "    </tr>\n",
       "    <tr>\n",
       "      <th>...</th>\n",
       "      <td>...</td>\n",
       "      <td>...</td>\n",
       "      <td>...</td>\n",
       "      <td>...</td>\n",
       "      <td>...</td>\n",
       "      <td>...</td>\n",
       "      <td>...</td>\n",
       "    </tr>\n",
       "    <tr>\n",
       "      <th>1844</th>\n",
       "      <td>4</td>\n",
       "      <td>1844</td>\n",
       "      <td>Web</td>\n",
       "      <td>Retail</td>\n",
       "      <td>POLYGON ((-71.08050 42.35934, -71.08054 42.359...</td>\n",
       "      <td>-71.080387</td>\n",
       "      <td>42.359230</td>\n",
       "    </tr>\n",
       "    <tr>\n",
       "      <th>1845</th>\n",
       "      <td>4</td>\n",
       "      <td>1845</td>\n",
       "      <td>Web</td>\n",
       "      <td>Residential Low Density</td>\n",
       "      <td>POLYGON ((-71.08023 42.35931, -71.08028 42.359...</td>\n",
       "      <td>-71.080124</td>\n",
       "      <td>42.359195</td>\n",
       "    </tr>\n",
       "    <tr>\n",
       "      <th>1846</th>\n",
       "      <td>4</td>\n",
       "      <td>1846</td>\n",
       "      <td>Web</td>\n",
       "      <td>Retail</td>\n",
       "      <td>POLYGON ((-71.07997 42.35928, -71.08002 42.359...</td>\n",
       "      <td>-71.079861</td>\n",
       "      <td>42.359161</td>\n",
       "    </tr>\n",
       "    <tr>\n",
       "      <th>1847</th>\n",
       "      <td>10</td>\n",
       "      <td>1847</td>\n",
       "      <td>Web</td>\n",
       "      <td>Campus</td>\n",
       "      <td>POLYGON ((-71.07971 42.35924, -71.07975 42.359...</td>\n",
       "      <td>-71.079598</td>\n",
       "      <td>42.359127</td>\n",
       "    </tr>\n",
       "    <tr>\n",
       "      <th>1848</th>\n",
       "      <td>10</td>\n",
       "      <td>1848</td>\n",
       "      <td>Web</td>\n",
       "      <td>Office</td>\n",
       "      <td>POLYGON ((-71.07944 42.35921, -71.07949 42.359...</td>\n",
       "      <td>-71.079335</td>\n",
       "      <td>42.359093</td>\n",
       "    </tr>\n",
       "  </tbody>\n",
       "</table>\n",
       "<p>1849 rows × 7 columns</p>\n",
       "</div>"
      ],
      "text/plain": [
       "      height    id interactive                     name  \\\n",
       "0         20     0         Web       Low Income housing   \n",
       "1          4     1         Web               Industrial   \n",
       "2          4     2         Web               Industrial   \n",
       "3         10     3         Web                   Campus   \n",
       "4          4     4         Web              Residential   \n",
       "...      ...   ...         ...                      ...   \n",
       "1844       4  1844         Web                   Retail   \n",
       "1845       4  1845         Web  Residential Low Density   \n",
       "1846       4  1846         Web                   Retail   \n",
       "1847      10  1847         Web                   Campus   \n",
       "1848      10  1848         Web                   Office   \n",
       "\n",
       "                                               geometry  x_centroid  \\\n",
       "0     POLYGON ((-71.08855 42.36884, -71.08860 42.368...  -71.088442   \n",
       "1     POLYGON ((-71.08829 42.36881, -71.08833 42.368...  -71.088179   \n",
       "2     POLYGON ((-71.08802 42.36877, -71.08807 42.368...  -71.087915   \n",
       "3     POLYGON ((-71.08776 42.36874, -71.08781 42.368...  -71.087652   \n",
       "4     POLYGON ((-71.08750 42.36870, -71.08754 42.368...  -71.087389   \n",
       "...                                                 ...         ...   \n",
       "1844  POLYGON ((-71.08050 42.35934, -71.08054 42.359...  -71.080387   \n",
       "1845  POLYGON ((-71.08023 42.35931, -71.08028 42.359...  -71.080124   \n",
       "1846  POLYGON ((-71.07997 42.35928, -71.08002 42.359...  -71.079861   \n",
       "1847  POLYGON ((-71.07971 42.35924, -71.07975 42.359...  -71.079598   \n",
       "1848  POLYGON ((-71.07944 42.35921, -71.07949 42.359...  -71.079335   \n",
       "\n",
       "      y_centroid  \n",
       "0      42.368725  \n",
       "1      42.368691  \n",
       "2      42.368657  \n",
       "3      42.368623  \n",
       "4      42.368588  \n",
       "...          ...  \n",
       "1844   42.359230  \n",
       "1845   42.359195  \n",
       "1846   42.359161  \n",
       "1847   42.359127  \n",
       "1848   42.359093  \n",
       "\n",
       "[1849 rows x 7 columns]"
      ]
     },
     "execution_count": 23,
     "metadata": {},
     "output_type": "execute_result"
    }
   ],
   "source": [
    "get_url='https://cityio.media.mit.edu/api/table/'+table_name\n",
    "with urllib.request.urlopen(get_url+'/GEOGRID') as url:\n",
    "    geogrid=gpd.read_file(url.read().decode())\n",
    "\n",
    "centroids=geogrid['geometry'].centroid\n",
    "geogrid['x_centroid']=[c.x for c in centroids]\n",
    "geogrid['y_centroid']=[c.y for c in centroids]\n",
    "geogrid"
   ]
  },
  {
   "cell_type": "code",
   "execution_count": 24,
   "metadata": {},
   "outputs": [],
   "source": [
    "def init_geogrid(table_name, interactive_zone=None):\n",
    "    \"\"\"\n",
    "    initialises the available types on the front-end to a default list from text file\n",
    "    initialises the GEOGRIDDATA to all \"None\"\n",
    "    \"\"\"\n",
    "\n",
    "    get_url='https://cityio.media.mit.edu/api/table/'+table_name\n",
    "    post_url='https://cityio.media.mit.edu/api/table/update/'+table_name\n",
    "    with urllib.request.urlopen(get_url+'/GEOGRID') as url:\n",
    "        geogrid=json.loads(url.read().decode()) \n",
    "    default_types=json.load(open('data/default_types.json'))\n",
    "    geogrid['properties']['types']=default_types\n",
    "\n",
    "    if interactive_zone is not None:\n",
    "        with urllib.request.urlopen(get_url+'/GEOGRID') as url:\n",
    "            geogrid_gpd=gpd.read_file(url.read().decode())\n",
    "        geogrid_intersect_interactive=gpd.overlay(geogrid_gpd, interactive_zone)\n",
    "        intersect_ids=geogrid_intersect_interactive['id'].values\n",
    "    else:\n",
    "        intersect_ids=list(range(len(geogrid['features'])))\n",
    "\n",
    "    for i in range(len(geogrid['features'])):\n",
    "        geogrid['features'][i]['properties']['name']='None'\n",
    "        geogrid['features'][i]['properties']['height']=[0]\n",
    "        if i in intersect_ids:\n",
    "            geogrid['features'][i]['properties']['interactive']='Web'\n",
    "            geogrid['features'][i]['properties']['color']=[150,150,150,150]\n",
    "        else:\n",
    "            geogrid['features'][i]['properties']['interactive']=False\n",
    "            geogrid['features'][i]['properties']['color']=[0,0,0,0]\n",
    "            \n",
    "    r = requests.post(post_url+'/GEOGRID', data = json.dumps(geogrid))\n",
    "    print('Initialise GEOGRID: {}'.format(r))\n",
    "    return geogrid['properties']\n",
    "    \n",
    "def identify_state(properties):\n",
    "    # TODO: if table already existed, just load state from text file\n",
    "    print('Downloading state outlines')\n",
    "    state_outlines=gpd.read_file(\n",
    "        'https://www2.census.gov/geo/tiger/TIGER2019/STATE/tl_2019_us_state.zip')\n",
    "    state_outlines=state_outlines.to_crs(\"EPSG:4326\")\n",
    "    table_lon, table_lat=properties['header']['longitude'], properties['header']['latitude']\n",
    "    table_Point=Point(table_lon, table_lat)\n",
    "    for ind, row in state_outlines.iterrows():\n",
    "        if row['geometry'].contains(table_Point):\n",
    "            return row['GEOID']\n",
    "    return None\n",
    "\n",
    "def assign_sim_area(geogrid, zones):\n",
    "    \"\"\"\n",
    "    find the baseline zones which overlap with the geogrid\n",
    "    these are the simulation area\n",
    "    \"\"\"\n",
    "    zones['copy_GEOID']=zones.index.copy()\n",
    "    grid_intersect_zones=gpd.overlay(geogrid, zones, 'intersection')\n",
    "    zones['sim_area']=zones.index.isin(grid_intersect_zones['copy_GEOID'].unique())\n",
    "    return zones\n",
    "\n",
    "\n",
    "def init_geogrid(table_name, interactive_zone=None):\n",
    "    \"\"\"\n",
    "    initialises the available types on the front-end to a default list from text file\n",
    "    initialises the GEOGRIDDATA to all \"None\"\n",
    "    \"\"\"\n",
    "\n",
    "    get_url='https://cityio.media.mit.edu/api/table/'+table_name\n",
    "    post_url='https://cityio.media.mit.edu/api/table/update/'+table_name\n",
    "    with urllib.request.urlopen(get_url+'/GEOGRID') as url:\n",
    "        geogrid=json.loads(url.read().decode()) \n",
    "    default_types=json.load(open('data/default_types.json'))\n",
    "    geogrid['properties']['types']=default_types\n",
    "\n",
    "    if interactive_zone is not None:\n",
    "        with urllib.request.urlopen(get_url+'/GEOGRID') as url:\n",
    "            geogrid_gpd=gpd.read_file(url.read().decode())\n",
    "        geogrid_intersect_interactive=gpd.overlay(geogrid_gpd, interactive_zone)\n",
    "        intersect_ids=geogrid_intersect_interactive['id'].values\n",
    "    else:\n",
    "        intersect_ids=list(range(len(geogrid['features'])))\n",
    "\n",
    "    for i in range(len(geogrid['features'])):\n",
    "        geogrid['features'][i]['properties']['name']='None'\n",
    "        geogrid['features'][i]['properties']['height']=[0]\n",
    "        if i in intersect_ids:\n",
    "            geogrid['features'][i]['properties']['interactive']='Web'\n",
    "            geogrid['features'][i]['properties']['color']=geogrid['properties']['types']['None']['color']\n",
    "        else:\n",
    "            geogrid['features'][i]['properties']['interactive']=False\n",
    "            geogrid['features'][i]['properties']['color']=[0,0,0,0]\n",
    "            \n",
    "    r = requests.post(post_url+'/GEOGRID', data = json.dumps(geogrid))\n",
    "    print('Initialise GEOGRID: {}'.format(r))\n",
    "    return geogrid['properties']"
   ]
  },
  {
   "cell_type": "code",
   "execution_count": 25,
   "metadata": {},
   "outputs": [
    {
     "name": "stdout",
     "output_type": "stream",
     "text": [
      "using interactive zone\n",
      "Initialise GEOGRID: <Response [200]>\n"
     ]
    }
   ],
   "source": [
    "try:\n",
    "    interactive_zone=gpd.read_file('./tables/{}/interactive.geojson'.format(table_name))\n",
    "    print('using interactive zone')\n",
    "except:\n",
    "    interactive_zone=None\n",
    "properties=init_geogrid(table_name, interactive_zone=interactive_zone)"
   ]
  },
  {
   "cell_type": "code",
   "execution_count": 26,
   "metadata": {},
   "outputs": [
    {
     "name": "stdout",
     "output_type": "stream",
     "text": [
      "Downloading state outlines\n"
     ]
    }
   ],
   "source": [
    "state_fips=identify_state(properties)"
   ]
  },
  {
   "cell_type": "code",
   "execution_count": 27,
   "metadata": {},
   "outputs": [
    {
     "name": "stdout",
     "output_type": "stream",
     "text": [
      "Getting geometry (block_group) for state: Massachusetts\n"
     ]
    },
    {
     "name": "stderr",
     "output_type": "stream",
     "text": [
      "/Volumes/GoogleDrive/My Drive/OpenCity/OpenCity.py:74: UserWarning: Geometry is in a geographic CRS. Results from 'centroid' are likely incorrect. Use 'GeoSeries.to_crs()' to re-project geometries to a projected CRS before this operation.\n",
      "\n",
      "  centroids=self.geom['geometry'].centroid\n"
     ]
    },
    {
     "name": "stdout",
     "output_type": "stream",
     "text": [
      "Getting WAC data from https://lehd.ces.census.gov/data/lodes/LODES7/\n",
      "\t Formatting WAC data\n",
      "Getting RAC data from https://lehd.ces.census.gov/data/lodes/LODES7/\n",
      "\t Formatting RAC data\n",
      "Getting OD data from https://lehd.ces.census.gov/data/lodes/LODES7/\n",
      "\t Formatting OD data\n"
     ]
    },
    {
     "data": {
      "text/plain": [
       "<AxesSubplot:>"
      ]
     },
     "execution_count": 27,
     "metadata": {},
     "output_type": "execute_result"
    },
    {
     "data": {
      "image/png": "[encoded data removed]",
      "text/plain": [
       "<Figure size 432x288 with 1 Axes>"
      ]
     },
     "metadata": {
      "needs_background": "light"
     },
     "output_type": "display_data"
    }
   ],
   "source": [
    "st=OpenCity.US_State(state_fips, year=2018, geom_type=geom_type)\n",
    "st.get_geometry()\n",
    "# st.remove_non_urban_zones()\n",
    "st.get_lodes_data( include=['wac', 'rac', 'od'])\n",
    "st.add_lodes_cols_to_shape()\n",
    "st.geom.plot()"
   ]
  },
  {
   "cell_type": "code",
   "execution_count": 28,
   "metadata": {},
   "outputs": [
    {
     "name": "stdout",
     "output_type": "stream",
     "text": [
      "\t Subsetting zones by distance\n",
      "\t Subsetting zones by distance\n"
     ]
    }
   ],
   "source": [
    "st.subset_geom_by_distance(centre_x_y=[geogrid.x_centroid.mean(), geogrid.y_centroid.mean()], \n",
    "                                   radius=reference_radius, name='reference_area')\n",
    "\n",
    "st.subset_geom_by_distance(centre_x_y=[geogrid.x_centroid.mean(), geogrid.y_centroid.mean()], \n",
    "                                   radius=model_radius, name='model_area')\n",
    "\n",
    "st.geom=assign_sim_area(gpd.GeoDataFrame(geogrid), st.geom)"
   ]
  },
  {
   "cell_type": "code",
   "execution_count": 29,
   "metadata": {},
   "outputs": [],
   "source": [
    "zones=st.geom.rename(columns={col: 'area' for col in st.geom.columns if 'ALAND' in col})"
   ]
  },
  {
   "cell_type": "code",
   "execution_count": 30,
   "metadata": {},
   "outputs": [],
   "source": [
    "zones.loc[zones['model_area']].to_file('tables/{}/zones.geojson'.format(table_name), driver='GeoJSON')"
   ]
  },
  {
   "cell_type": "code",
   "execution_count": 31,
   "metadata": {},
   "outputs": [
    {
     "name": "stdout",
     "output_type": "stream",
     "text": [
      "Using 2453 of 1511197 rows in OD data\n",
      "0 of 2453\n"
     ]
    }
   ],
   "source": [
    "simpop_df=st.lodes_to_pop_table(\n",
    "    model_subset_name='model_area', sim_subset_name='sim_area')\n",
    "simpop_df.to_csv('tables/{}/simpop_df.csv'.format(table_name), index=False)"
   ]
  },
  {
   "cell_type": "code",
   "execution_count": 32,
   "metadata": {},
   "outputs": [],
   "source": [
    "geogrid.to_file('tables/{}/geogrid.geojson'.format(table_name), driver='GeoJSON')"
   ]
  },
  {
   "cell_type": "code",
   "execution_count": null,
   "metadata": {},
   "outputs": [],
   "source": []
  }
 ],
 "metadata": {
  "kernelspec": {
   "display_name": "Python [conda env:brix]",
   "language": "python",
   "name": "conda-env-brix-py"
  },
  "language_info": {
   "codemirror_mode": {
    "name": "ipython",
    "version": 3
   },
   "file_extension": ".py",
   "mimetype": "text/x-python",
   "name": "python",
   "nbconvert_exporter": "python",
   "pygments_lexer": "ipython3",
   "version": "3.9.2"
  }
 },
 "nbformat": 4,
 "nbformat_minor": 4
}
