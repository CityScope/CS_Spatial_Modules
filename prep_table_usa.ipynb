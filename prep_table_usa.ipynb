{
 "cells": [
  {
   "cell_type": "code",
   "execution_count": 25,
   "metadata": {},
   "outputs": [],
   "source": [
    "from brix import Indicator, Handler\n",
    "import Simulation, US_State\n",
    "import geopandas as gpd\n",
    "from shapely.geometry import Point, shape\n",
    "import json\n",
    "import requests\n",
    "import urllib\n",
    "from geogrid_tools import *"
   ]
  },
  {
   "cell_type": "code",
   "execution_count": 26,
   "metadata": {},
   "outputs": [],
   "source": [
    "table_name='epa_'\n",
    "geom_type='block_group'\n",
    "\n",
    "model_radius=15000\n",
    "reference_radius=2500"
   ]
  },
  {
   "cell_type": "markdown",
   "metadata": {},
   "source": [
    "- Create the handler\n",
    "- Get the geogrid\n",
    "- Identify the state\n",
    "- Get the state geometry\n",
    "- find the overlap\n",
    "- Assign the sim, model, reference zones\n",
    "- Append the grid \"zones\" to the actual zones (if the zones properties are updated in one indicator, will they be updated for all?)\n",
    "\n",
    "- all the above in a world object?"
   ]
  },
  {
   "cell_type": "code",
   "execution_count": 27,
   "metadata": {},
   "outputs": [
    {
     "name": "stdout",
     "output_type": "stream",
     "text": [
      "https://cityio.media.mit.edu/api/tables/list/ Attempt: 0\n",
      "https://cityio.media.mit.edu/api/table/epa_/meta/hashes/ Attempt: 0\n"
     ]
    }
   ],
   "source": [
    "h=Handler(table_name)"
   ]
  },
  {
   "cell_type": "code",
   "execution_count": 4,
   "metadata": {},
   "outputs": [],
   "source": [
    "# geogrid_data=h.get_geogrid_data(include_geometries=True)"
   ]
  },
  {
   "cell_type": "code",
   "execution_count": 5,
   "metadata": {},
   "outputs": [],
   "source": [
    "\n",
    "# geogrid=geogrid_data.GEOGRID"
   ]
  },
  {
   "cell_type": "code",
   "execution_count": 6,
   "metadata": {},
   "outputs": [],
   "source": [
    "# geogrid=h.get_GEOGRID()\n",
    "# geom = [f['geometry'] for f in geogrid['features']]\n",
    "# geogrid_gdp=gpd.GeoDataFrame({'geometry':geom})"
   ]
  },
  {
   "cell_type": "code",
   "execution_count": 28,
   "metadata": {},
   "outputs": [
    {
     "name": "stderr",
     "output_type": "stream",
     "text": [
      "/var/folders/30/clhynt5s7fx_3nyyxfl04f780000gn/T/ipykernel_20431/1794812704.py:5: UserWarning: Geometry is in a geographic CRS. Results from 'centroid' are likely incorrect. Use 'GeoSeries.to_crs()' to re-project geometries to a projected CRS before this operation.\n",
      "\n",
      "  centroids=geogrid['geometry'].centroid\n"
     ]
    },
    {
     "data": {
      "text/html": [
       "<div>\n",
       "<style scoped>\n",
       "    .dataframe tbody tr th:only-of-type {\n",
       "        vertical-align: middle;\n",
       "    }\n",
       "\n",
       "    .dataframe tbody tr th {\n",
       "        vertical-align: top;\n",
       "    }\n",
       "\n",
       "    .dataframe thead th {\n",
       "        text-align: right;\n",
       "    }\n",
       "</style>\n",
       "<table border=\"1\" class=\"dataframe\">\n",
       "  <thead>\n",
       "    <tr style=\"text-align: right;\">\n",
       "      <th></th>\n",
       "      <th>id</th>\n",
       "      <th>interactive</th>\n",
       "      <th>name</th>\n",
       "      <th>geometry</th>\n",
       "      <th>x_centroid</th>\n",
       "      <th>y_centroid</th>\n",
       "    </tr>\n",
       "  </thead>\n",
       "  <tbody>\n",
       "    <tr>\n",
       "      <th>0</th>\n",
       "      <td>0</td>\n",
       "      <td>Web</td>\n",
       "      <td>None</td>\n",
       "      <td>POLYGON ((-122.15634 37.47000, -122.15603 37.4...</td>\n",
       "      <td>-122.155916</td>\n",
       "      <td>37.469909</td>\n",
       "    </tr>\n",
       "    <tr>\n",
       "      <th>1</th>\n",
       "      <td>1</td>\n",
       "      <td>Web</td>\n",
       "      <td>None</td>\n",
       "      <td>POLYGON ((-122.15580 37.47025, -122.15549 37.4...</td>\n",
       "      <td>-122.155377</td>\n",
       "      <td>37.470156</td>\n",
       "    </tr>\n",
       "    <tr>\n",
       "      <th>2</th>\n",
       "      <td>2</td>\n",
       "      <td>Web</td>\n",
       "      <td>None</td>\n",
       "      <td>POLYGON ((-122.15526 37.47049, -122.15495 37.4...</td>\n",
       "      <td>-122.154838</td>\n",
       "      <td>37.470403</td>\n",
       "    </tr>\n",
       "    <tr>\n",
       "      <th>3</th>\n",
       "      <td>3</td>\n",
       "      <td>Web</td>\n",
       "      <td>None</td>\n",
       "      <td>POLYGON ((-122.15472 37.47074, -122.15441 37.4...</td>\n",
       "      <td>-122.154298</td>\n",
       "      <td>37.470650</td>\n",
       "    </tr>\n",
       "    <tr>\n",
       "      <th>4</th>\n",
       "      <td>4</td>\n",
       "      <td>Web</td>\n",
       "      <td>None</td>\n",
       "      <td>POLYGON ((-122.15418 37.47099, -122.15387 37.4...</td>\n",
       "      <td>-122.153759</td>\n",
       "      <td>37.470897</td>\n",
       "    </tr>\n",
       "    <tr>\n",
       "      <th>...</th>\n",
       "      <td>...</td>\n",
       "      <td>...</td>\n",
       "      <td>...</td>\n",
       "      <td>...</td>\n",
       "      <td>...</td>\n",
       "      <td>...</td>\n",
       "    </tr>\n",
       "    <tr>\n",
       "      <th>2745</th>\n",
       "      <td>2745</td>\n",
       "      <td>Web</td>\n",
       "      <td>None</td>\n",
       "      <td>POLYGON ((-122.11534 37.45790, -122.11503 37.4...</td>\n",
       "      <td>-122.114920</td>\n",
       "      <td>37.457813</td>\n",
       "    </tr>\n",
       "    <tr>\n",
       "      <th>2746</th>\n",
       "      <td>2746</td>\n",
       "      <td>Web</td>\n",
       "      <td>None</td>\n",
       "      <td>POLYGON ((-122.11480 37.45815, -122.11449 37.4...</td>\n",
       "      <td>-122.114380</td>\n",
       "      <td>37.458060</td>\n",
       "    </tr>\n",
       "    <tr>\n",
       "      <th>2747</th>\n",
       "      <td>2747</td>\n",
       "      <td>Web</td>\n",
       "      <td>None</td>\n",
       "      <td>POLYGON ((-122.11427 37.45840, -122.11396 37.4...</td>\n",
       "      <td>-122.113841</td>\n",
       "      <td>37.458307</td>\n",
       "    </tr>\n",
       "    <tr>\n",
       "      <th>2748</th>\n",
       "      <td>2748</td>\n",
       "      <td>Web</td>\n",
       "      <td>None</td>\n",
       "      <td>POLYGON ((-122.11373 37.45864, -122.11342 37.4...</td>\n",
       "      <td>-122.113302</td>\n",
       "      <td>37.458554</td>\n",
       "    </tr>\n",
       "    <tr>\n",
       "      <th>2749</th>\n",
       "      <td>2749</td>\n",
       "      <td>Web</td>\n",
       "      <td>None</td>\n",
       "      <td>POLYGON ((-122.11319 37.45889, -122.11288 37.4...</td>\n",
       "      <td>-122.112763</td>\n",
       "      <td>37.458800</td>\n",
       "    </tr>\n",
       "  </tbody>\n",
       "</table>\n",
       "<p>2750 rows × 6 columns</p>\n",
       "</div>"
      ],
      "text/plain": [
       "        id interactive  name  \\\n",
       "0        0         Web  None   \n",
       "1        1         Web  None   \n",
       "2        2         Web  None   \n",
       "3        3         Web  None   \n",
       "4        4         Web  None   \n",
       "...    ...         ...   ...   \n",
       "2745  2745         Web  None   \n",
       "2746  2746         Web  None   \n",
       "2747  2747         Web  None   \n",
       "2748  2748         Web  None   \n",
       "2749  2749         Web  None   \n",
       "\n",
       "                                               geometry  x_centroid  \\\n",
       "0     POLYGON ((-122.15634 37.47000, -122.15603 37.4... -122.155916   \n",
       "1     POLYGON ((-122.15580 37.47025, -122.15549 37.4... -122.155377   \n",
       "2     POLYGON ((-122.15526 37.47049, -122.15495 37.4... -122.154838   \n",
       "3     POLYGON ((-122.15472 37.47074, -122.15441 37.4... -122.154298   \n",
       "4     POLYGON ((-122.15418 37.47099, -122.15387 37.4... -122.153759   \n",
       "...                                                 ...         ...   \n",
       "2745  POLYGON ((-122.11534 37.45790, -122.11503 37.4... -122.114920   \n",
       "2746  POLYGON ((-122.11480 37.45815, -122.11449 37.4... -122.114380   \n",
       "2747  POLYGON ((-122.11427 37.45840, -122.11396 37.4... -122.113841   \n",
       "2748  POLYGON ((-122.11373 37.45864, -122.11342 37.4... -122.113302   \n",
       "2749  POLYGON ((-122.11319 37.45889, -122.11288 37.4... -122.112763   \n",
       "\n",
       "      y_centroid  \n",
       "0      37.469909  \n",
       "1      37.470156  \n",
       "2      37.470403  \n",
       "3      37.470650  \n",
       "4      37.470897  \n",
       "...          ...  \n",
       "2745   37.457813  \n",
       "2746   37.458060  \n",
       "2747   37.458307  \n",
       "2748   37.458554  \n",
       "2749   37.458800  \n",
       "\n",
       "[2750 rows x 6 columns]"
      ]
     },
     "execution_count": 28,
     "metadata": {},
     "output_type": "execute_result"
    }
   ],
   "source": [
    "get_url='https://cityio.media.mit.edu/api/table/'+table_name\n",
    "with urllib.request.urlopen(get_url+'/GEOGRID') as url:\n",
    "    geogrid=gpd.read_file(url.read().decode())\n",
    "\n",
    "centroids=geogrid['geometry'].centroid\n",
    "geogrid['x_centroid']=[c.x for c in centroids]\n",
    "geogrid['y_centroid']=[c.y for c in centroids]\n",
    "geogrid"
   ]
  },
  {
   "cell_type": "code",
   "execution_count": 29,
   "metadata": {},
   "outputs": [],
   "source": [
    "types=json.load(open('./data/default_types.json'))"
   ]
  },
  {
   "cell_type": "code",
   "execution_count": 30,
   "metadata": {},
   "outputs": [
    {
     "name": "stdout",
     "output_type": "stream",
     "text": [
      "using interactive zone\n",
      "Initialise GEOGRID: <Response [200]>\n"
     ]
    }
   ],
   "source": [
    "try:\n",
    "    interactive_zone=gpd.read_file('./tables/{}/interactive.geojson'.format(table_name))\n",
    "    print('using interactive zone')\n",
    "except:\n",
    "    interactive_zone=None\n",
    "properties=init_geogrid(table_name, interactive_zone=interactive_zone, types=types)"
   ]
  },
  {
   "cell_type": "code",
   "execution_count": 31,
   "metadata": {},
   "outputs": [
    {
     "name": "stdout",
     "output_type": "stream",
     "text": [
      "Downloading state outlines\n"
     ]
    }
   ],
   "source": [
    "state_fips=identify_state(properties)"
   ]
  },
  {
   "cell_type": "code",
   "execution_count": 32,
   "metadata": {},
   "outputs": [
    {
     "name": "stdout",
     "output_type": "stream",
     "text": [
      "Getting geometry (block_group) for state: California\n"
     ]
    },
    {
     "name": "stderr",
     "output_type": "stream",
     "text": [
      "/Users/ronandoorley/Documents/Media_Lab/CityScope/CS_Spatial_Modules/US_State.py:54: UserWarning: Geometry is in a geographic CRS. Results from 'centroid' are likely incorrect. Use 'GeoSeries.to_crs()' to re-project geometries to a projected CRS before this operation.\n",
      "\n",
      "  centroids=self.geom['geometry'].centroid\n"
     ]
    },
    {
     "name": "stdout",
     "output_type": "stream",
     "text": [
      "Getting WAC data from https://lehd.ces.census.gov/data/lodes/LODES7/\n",
      "\t Formatting WAC data\n",
      "Getting RAC data from https://lehd.ces.census.gov/data/lodes/LODES7/\n",
      "\t Formatting RAC data\n"
     ]
    },
    {
     "data": {
      "text/plain": [
       "<AxesSubplot:>"
      ]
     },
     "execution_count": 32,
     "metadata": {},
     "output_type": "execute_result"
    },
    {
     "data": {
      "image/png": "[encoded data removed]",
      "text/plain": [
       "<Figure size 432x288 with 1 Axes>"
      ]
     },
     "metadata": {
      "needs_background": "light"
     },
     "output_type": "display_data"
    }
   ],
   "source": [
    "st=US_State.US_State(state_fips, year=2018, geom_type=geom_type)\n",
    "st.get_geometry()\n",
    "# st.remove_non_urban_zones()\n",
    "st.get_lodes_data( include=['wac', 'rac', 'od'])\n",
    "st.add_lodes_cols_to_shape()\n",
    "st.geom.plot()"
   ]
  },
  {
   "cell_type": "code",
   "execution_count": 33,
   "metadata": {},
   "outputs": [
    {
     "name": "stdout",
     "output_type": "stream",
     "text": [
      "\t Subsetting zones by distance\n",
      "\t Subsetting zones by distance\n"
     ]
    },
    {
     "name": "stderr",
     "output_type": "stream",
     "text": [
      "/Users/ronandoorley/Documents/Media_Lab/CityScope/CS_Spatial_Modules/geogrid_tools.py:63: UserWarning: CRS mismatch between the CRS of left geometries and the CRS of right geometries.\n",
      "Use `to_crs()` to reproject one of the input geometries to match the CRS of the other.\n",
      "\n",
      "Left CRS: None\n",
      "Right CRS: EPSG:4326\n",
      "\n",
      "  grid_intersect_zones=gpd.overlay(geogrid, zones, 'intersection')\n"
     ]
    }
   ],
   "source": [
    "st.subset_geom_by_distance(centre_x_y=[geogrid.x_centroid.mean(), geogrid.y_centroid.mean()], \n",
    "                                   radius=reference_radius, name='reference_area')\n",
    "\n",
    "st.subset_geom_by_distance(centre_x_y=[geogrid.x_centroid.mean(), geogrid.y_centroid.mean()], \n",
    "                                   radius=model_radius, name='model_area')\n",
    "\n",
    "st.geom=assign_sim_area(gpd.GeoDataFrame(geogrid), st.geom)"
   ]
  },
  {
   "cell_type": "code",
   "execution_count": 34,
   "metadata": {},
   "outputs": [
    {
     "name": "stderr",
     "output_type": "stream",
     "text": [
      "/Users/ronandoorley/Documents/Media_Lab/CityScope/CS_Spatial_Modules/geogrid_tools.py:75: UserWarning: Geometry is in a geographic CRS. Results from 'area' are likely incorrect. Use 'GeoSeries.to_crs()' to re-project geometries to a projected CRS before this operation.\n",
      "\n",
      "  areas_to_filter['zone_area']=areas_to_filter.geometry.area\n",
      "/Users/ronandoorley/Documents/Media_Lab/CityScope/CS_Spatial_Modules/geogrid_tools.py:77: UserWarning: Geometry is in a geographic CRS. Results from 'area' are likely incorrect. Use 'GeoSeries.to_crs()' to re-project geometries to a projected CRS before this operation.\n",
      "\n",
      "  all_intersect['intersect_area']=all_intersect.geometry.area\n"
     ]
    }
   ],
   "source": [
    "geogrid_union=gpd.GeoDataFrame(geometry=[geogrid.geometry.unary_union], data=[], crs=geogrid.crs)\n",
    "sim_geoids=select_geom_by_overlap_threshold(areas_to_filter=st.geom, filter_with=geogrid_union, \n",
    "                                            area_id_col='copy_GEOID', \n",
    "                                            min_prop=0.5)\n",
    "st.geom['sim_area']=False\n",
    "st.geom.loc[sim_geoids, 'sim_area']=True"
   ]
  },
  {
   "cell_type": "code",
   "execution_count": 35,
   "metadata": {},
   "outputs": [
    {
     "data": {
      "text/plain": [
       "<AxesSubplot:>"
      ]
     },
     "execution_count": 35,
     "metadata": {},
     "output_type": "execute_result"
    },
    {
     "data": {
      "image/png": "[encoded data removed]",
      "text/plain": [
       "<Figure size 432x288 with 1 Axes>"
      ]
     },
     "metadata": {
      "needs_background": "light"
     },
     "output_type": "display_data"
    }
   ],
   "source": [
    "st.geom.loc[st.geom['sim_area']].plot()"
   ]
  },
  {
   "cell_type": "code",
   "execution_count": 36,
   "metadata": {},
   "outputs": [
    {
     "name": "stderr",
     "output_type": "stream",
     "text": [
      "/var/folders/30/clhynt5s7fx_3nyyxfl04f780000gn/T/ipykernel_20431/2596693682.py:7: UserWarning: Geometry is in a geographic CRS. Results from 'area' are likely incorrect. Use 'GeoSeries.to_crs()' to re-project geometries to a projected CRS before this operation.\n",
      "\n",
      "  areas_to_filter['zone_area']=areas_to_filter.geometry.area\n",
      "/var/folders/30/clhynt5s7fx_3nyyxfl04f780000gn/T/ipykernel_20431/2596693682.py:9: UserWarning: Geometry is in a geographic CRS. Results from 'area' are likely incorrect. Use 'GeoSeries.to_crs()' to re-project geometries to a projected CRS before this operation.\n",
      "\n",
      "  all_intersect['intersect_area']=all_intersect.geometry.area\n"
     ]
    }
   ],
   "source": [
    "areas_to_filter=st.geom\n",
    "filter_with=geogrid\n",
    "area_id_col='copy_GEOID'\n",
    "min_prop=0.5\n",
    "intersector_id_col='id'\n",
    "\n",
    "areas_to_filter['zone_area']=areas_to_filter.geometry.area\n",
    "all_intersect=gpd.overlay(areas_to_filter, filter_with, 'intersection')\n",
    "all_intersect['intersect_area']=all_intersect.geometry.area\n",
    "all_intersect=all_intersect[[col for col in all_intersect if not col=='zone_area']]\n",
    "all_intersect=all_intersect.merge(areas_to_filter[[area_id_col, 'zone_area']], \n",
    "                                how='left', left_on=area_id_col, right_on=area_id_col)\n",
    "all_intersect['prop_area']=all_intersect['intersect_area']/all_intersect['zone_area']\n",
    "valid_intersect=all_intersect.loc[all_intersect['prop_area']>min_prop]\n",
    "valid_ids=list(valid_intersect[area_id_col])\n",
    "\n"
   ]
  },
  {
   "cell_type": "code",
   "execution_count": 37,
   "metadata": {},
   "outputs": [],
   "source": [
    "zones=st.geom.rename(columns={col: 'area' for col in st.geom.columns if 'ALAND' in col})"
   ]
  },
  {
   "cell_type": "code",
   "execution_count": 38,
   "metadata": {},
   "outputs": [],
   "source": [
    "import os\n",
    "if not os.path.isdir('tables/{}'.format(table_name)):\n",
    "    os.mkdir('tables/{}'.format(table_name))"
   ]
  },
  {
   "cell_type": "code",
   "execution_count": 39,
   "metadata": {},
   "outputs": [],
   "source": [
    "zones.loc[zones['model_area']].to_file('tables/{}/zones.geojson'.format(table_name), driver='GeoJSON')"
   ]
  },
  {
   "cell_type": "code",
   "execution_count": 21,
   "metadata": {},
   "outputs": [
    {
     "name": "stdout",
     "output_type": "stream",
     "text": [
      "Using 2505 of 8853068 rows in OD data\n",
      "0 of 2505\n"
     ]
    }
   ],
   "source": [
    "simpop_df=st.lodes_to_pop_table(\n",
    "    model_subset_name='model_area', sim_subset_name='sim_area')\n",
    "simpop_df.to_csv('tables/{}/simpop_df.csv'.format(table_name), index=False)"
   ]
  },
  {
   "cell_type": "code",
   "execution_count": 40,
   "metadata": {},
   "outputs": [],
   "source": [
    "geogrid.to_file('tables/{}/geogrid.geojson'.format(table_name), driver='GeoJSON')"
   ]
  },
  {
   "cell_type": "code",
   "execution_count": 23,
   "metadata": {},
   "outputs": [],
   "source": [
    "assert len(zones.loc[((zones['sim_area'])&(~zones['reference_area']))])==0"
   ]
  },
  {
   "cell_type": "code",
   "execution_count": 24,
   "metadata": {},
   "outputs": [
    {
     "data": {
      "text/plain": [
       "<AxesSubplot:>"
      ]
     },
     "execution_count": 24,
     "metadata": {},
     "output_type": "execute_result"
    },
    {
     "data": {
      "image/png": "[encoded data removed]",
      "text/plain": [
       "<Figure size 432x288 with 1 Axes>"
      ]
     },
     "metadata": {
      "needs_background": "light"
     },
     "output_type": "display_data"
    }
   ],
   "source": [
    "import matplotlib.pyplot as plt\n",
    "fig, ax= plt.subplots()\n",
    "\n",
    "zones.loc[zones['sim_area']].plot(ax=ax, color='red', alpha=0.2)\n",
    "zones.loc[zones['reference_area']].plot(ax=ax, color='blue', alpha=0.2)"
   ]
  },
  {
   "cell_type": "code",
   "execution_count": null,
   "metadata": {},
   "outputs": [],
   "source": []
  }
 ],
 "metadata": {
  "kernelspec": {
   "display_name": "Python [conda env:cs]",
   "language": "python",
   "name": "conda-env-cs-py"
  },
  "language_info": {
   "codemirror_mode": {
    "name": "ipython",
    "version": 3
   },
   "file_extension": ".py",
   "mimetype": "text/x-python",
   "name": "python",
   "nbconvert_exporter": "python",
   "pygments_lexer": "ipython3",
   "version": "3.9.7"
  }
 },
 "nbformat": 4,
 "nbformat_minor": 4
}
