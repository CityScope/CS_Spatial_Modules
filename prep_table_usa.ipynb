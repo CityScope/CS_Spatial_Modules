{
 "cells": [
  {
   "cell_type": "code",
   "execution_count": 1,
   "metadata": {},
   "outputs": [],
   "source": [
    "from brix import Indicator, Handler\n",
    "import OpenCity\n",
    "import geopandas as gpd\n",
    "from shapely.geometry import Point, shape\n",
    "import json\n",
    "import requests\n",
    "import urllib\n",
    "from geogrid_tools import *"
   ]
  },
  {
   "cell_type": "code",
   "execution_count": 2,
   "metadata": {},
   "outputs": [],
   "source": [
    "table_name='providence_test'\n",
    "geom_type='block_group'\n",
    "\n",
    "model_radius=5000\n",
    "reference_radius=2500"
   ]
  },
  {
   "cell_type": "markdown",
   "metadata": {},
   "source": [
    "- Create the handler\n",
    "- Get the geogrid\n",
    "- Identify the state\n",
    "- Get the state geometry\n",
    "- find the overlap\n",
    "- Assign the sim, model, reference zones\n",
    "- Append the grid \"zones\" to the actual zones (if the zones properties are updated in one indicator, will they be updated for all?)\n",
    "\n",
    "- all the above in a world object?"
   ]
  },
  {
   "cell_type": "code",
   "execution_count": 3,
   "metadata": {},
   "outputs": [
    {
     "name": "stdout",
     "output_type": "stream",
     "text": [
      "https://cityio.media.mit.edu/api/tables/list/ Attempt: 0\n",
      "https://cityio.media.mit.edu/api/table/providence_test/meta/hashes/ Attempt: 0\n"
     ]
    }
   ],
   "source": [
    "h=Handler(table_name)"
   ]
  },
  {
   "cell_type": "code",
   "execution_count": 4,
   "metadata": {},
   "outputs": [],
   "source": [
    "# geogrid_data=h.get_geogrid_data(include_geometries=True)"
   ]
  },
  {
   "cell_type": "code",
   "execution_count": 5,
   "metadata": {},
   "outputs": [],
   "source": [
    "\n",
    "# geogrid=geogrid_data.GEOGRID"
   ]
  },
  {
   "cell_type": "code",
   "execution_count": 6,
   "metadata": {},
   "outputs": [],
   "source": [
    "# geogrid=h.get_GEOGRID()\n",
    "# geom = [f['geometry'] for f in geogrid['features']]\n",
    "# geogrid_gdp=gpd.GeoDataFrame({'geometry':geom})"
   ]
  },
  {
   "cell_type": "code",
   "execution_count": 7,
   "metadata": {},
   "outputs": [
    {
     "name": "stderr",
     "output_type": "stream",
     "text": [
      "<ipython-input-7-e3ea8eae3bb9>:5: UserWarning: Geometry is in a geographic CRS. Results from 'centroid' are likely incorrect. Use 'GeoSeries.to_crs()' to re-project geometries to a projected CRS before this operation.\n",
      "\n",
      "  centroids=geogrid['geometry'].centroid\n"
     ]
    },
    {
     "data": {
      "text/html": [
       "<div>\n",
       "<style scoped>\n",
       "    .dataframe tbody tr th:only-of-type {\n",
       "        vertical-align: middle;\n",
       "    }\n",
       "\n",
       "    .dataframe tbody tr th {\n",
       "        vertical-align: top;\n",
       "    }\n",
       "\n",
       "    .dataframe thead th {\n",
       "        text-align: right;\n",
       "    }\n",
       "</style>\n",
       "<table border=\"1\" class=\"dataframe\">\n",
       "  <thead>\n",
       "    <tr style=\"text-align: right;\">\n",
       "      <th></th>\n",
       "      <th>id</th>\n",
       "      <th>interactive</th>\n",
       "      <th>name</th>\n",
       "      <th>geometry</th>\n",
       "      <th>x_centroid</th>\n",
       "      <th>y_centroid</th>\n",
       "    </tr>\n",
       "  </thead>\n",
       "  <tbody>\n",
       "    <tr>\n",
       "      <th>0</th>\n",
       "      <td>0</td>\n",
       "      <td>Web</td>\n",
       "      <td>None</td>\n",
       "      <td>POLYGON ((-71.42951 41.81539, -71.42951 41.814...</td>\n",
       "      <td>-71.429212</td>\n",
       "      <td>41.815170</td>\n",
       "    </tr>\n",
       "    <tr>\n",
       "      <th>1</th>\n",
       "      <td>1</td>\n",
       "      <td>Web</td>\n",
       "      <td>None</td>\n",
       "      <td>POLYGON ((-71.42891 41.81539, -71.42891 41.814...</td>\n",
       "      <td>-71.428610</td>\n",
       "      <td>41.815170</td>\n",
       "    </tr>\n",
       "    <tr>\n",
       "      <th>2</th>\n",
       "      <td>2</td>\n",
       "      <td>Web</td>\n",
       "      <td>None</td>\n",
       "      <td>POLYGON ((-71.42831 41.81539, -71.42831 41.814...</td>\n",
       "      <td>-71.428009</td>\n",
       "      <td>41.815170</td>\n",
       "    </tr>\n",
       "    <tr>\n",
       "      <th>3</th>\n",
       "      <td>3</td>\n",
       "      <td>Web</td>\n",
       "      <td>None</td>\n",
       "      <td>POLYGON ((-71.42771 41.81539, -71.42771 41.814...</td>\n",
       "      <td>-71.427407</td>\n",
       "      <td>41.815170</td>\n",
       "    </tr>\n",
       "    <tr>\n",
       "      <th>4</th>\n",
       "      <td>4</td>\n",
       "      <td>Web</td>\n",
       "      <td>None</td>\n",
       "      <td>POLYGON ((-71.42711 41.81539, -71.42711 41.814...</td>\n",
       "      <td>-71.426805</td>\n",
       "      <td>41.815170</td>\n",
       "    </tr>\n",
       "    <tr>\n",
       "      <th>...</th>\n",
       "      <td>...</td>\n",
       "      <td>...</td>\n",
       "      <td>...</td>\n",
       "      <td>...</td>\n",
       "      <td>...</td>\n",
       "      <td>...</td>\n",
       "    </tr>\n",
       "    <tr>\n",
       "      <th>395</th>\n",
       "      <td>395</td>\n",
       "      <td>Web</td>\n",
       "      <td>None</td>\n",
       "      <td>POLYGON ((-71.42049 41.80684, -71.42049 41.806...</td>\n",
       "      <td>-71.420187</td>\n",
       "      <td>41.806616</td>\n",
       "    </tr>\n",
       "    <tr>\n",
       "      <th>396</th>\n",
       "      <td>396</td>\n",
       "      <td>Web</td>\n",
       "      <td>None</td>\n",
       "      <td>POLYGON ((-71.41989 41.80684, -71.41989 41.806...</td>\n",
       "      <td>-71.419585</td>\n",
       "      <td>41.806616</td>\n",
       "    </tr>\n",
       "    <tr>\n",
       "      <th>397</th>\n",
       "      <td>397</td>\n",
       "      <td>Web</td>\n",
       "      <td>None</td>\n",
       "      <td>POLYGON ((-71.41928 41.80684, -71.41928 41.806...</td>\n",
       "      <td>-71.418984</td>\n",
       "      <td>41.806616</td>\n",
       "    </tr>\n",
       "    <tr>\n",
       "      <th>398</th>\n",
       "      <td>398</td>\n",
       "      <td>Web</td>\n",
       "      <td>None</td>\n",
       "      <td>POLYGON ((-71.41868 41.80684, -71.41868 41.806...</td>\n",
       "      <td>-71.418382</td>\n",
       "      <td>41.806616</td>\n",
       "    </tr>\n",
       "    <tr>\n",
       "      <th>399</th>\n",
       "      <td>399</td>\n",
       "      <td>Web</td>\n",
       "      <td>None</td>\n",
       "      <td>POLYGON ((-71.41808 41.80684, -71.41808 41.806...</td>\n",
       "      <td>-71.417780</td>\n",
       "      <td>41.806616</td>\n",
       "    </tr>\n",
       "  </tbody>\n",
       "</table>\n",
       "<p>400 rows × 6 columns</p>\n",
       "</div>"
      ],
      "text/plain": [
       "      id interactive  name                                           geometry  \\\n",
       "0      0         Web  None  POLYGON ((-71.42951 41.81539, -71.42951 41.814...   \n",
       "1      1         Web  None  POLYGON ((-71.42891 41.81539, -71.42891 41.814...   \n",
       "2      2         Web  None  POLYGON ((-71.42831 41.81539, -71.42831 41.814...   \n",
       "3      3         Web  None  POLYGON ((-71.42771 41.81539, -71.42771 41.814...   \n",
       "4      4         Web  None  POLYGON ((-71.42711 41.81539, -71.42711 41.814...   \n",
       "..   ...         ...   ...                                                ...   \n",
       "395  395         Web  None  POLYGON ((-71.42049 41.80684, -71.42049 41.806...   \n",
       "396  396         Web  None  POLYGON ((-71.41989 41.80684, -71.41989 41.806...   \n",
       "397  397         Web  None  POLYGON ((-71.41928 41.80684, -71.41928 41.806...   \n",
       "398  398         Web  None  POLYGON ((-71.41868 41.80684, -71.41868 41.806...   \n",
       "399  399         Web  None  POLYGON ((-71.41808 41.80684, -71.41808 41.806...   \n",
       "\n",
       "     x_centroid  y_centroid  \n",
       "0    -71.429212   41.815170  \n",
       "1    -71.428610   41.815170  \n",
       "2    -71.428009   41.815170  \n",
       "3    -71.427407   41.815170  \n",
       "4    -71.426805   41.815170  \n",
       "..          ...         ...  \n",
       "395  -71.420187   41.806616  \n",
       "396  -71.419585   41.806616  \n",
       "397  -71.418984   41.806616  \n",
       "398  -71.418382   41.806616  \n",
       "399  -71.417780   41.806616  \n",
       "\n",
       "[400 rows x 6 columns]"
      ]
     },
     "execution_count": 7,
     "metadata": {},
     "output_type": "execute_result"
    }
   ],
   "source": [
    "get_url='https://cityio.media.mit.edu/api/table/'+table_name\n",
    "with urllib.request.urlopen(get_url+'/GEOGRID') as url:\n",
    "    geogrid=gpd.read_file(url.read().decode())\n",
    "\n",
    "centroids=geogrid['geometry'].centroid\n",
    "geogrid['x_centroid']=[c.x for c in centroids]\n",
    "geogrid['y_centroid']=[c.y for c in centroids]\n",
    "geogrid"
   ]
  },
  {
   "cell_type": "code",
   "execution_count": 9,
   "metadata": {},
   "outputs": [],
   "source": [
    "types=json.load(open('./data/default_types.json'))"
   ]
  },
  {
   "cell_type": "code",
   "execution_count": 11,
   "metadata": {},
   "outputs": [
    {
     "name": "stdout",
     "output_type": "stream",
     "text": [
      "Initialise GEOGRID: <Response [200]>\n"
     ]
    }
   ],
   "source": [
    "try:\n",
    "    interactive_zone=gpd.read_file('./tables/{}/interactive.geojson'.format(table_name))\n",
    "    print('using interactive zone')\n",
    "except:\n",
    "    interactive_zone=None\n",
    "properties=init_geogrid(table_name, interactive_zone=interactive_zone, types=types)"
   ]
  },
  {
   "cell_type": "code",
   "execution_count": 26,
   "metadata": {},
   "outputs": [
    {
     "name": "stdout",
     "output_type": "stream",
     "text": [
      "Downloading state outlines\n"
     ]
    }
   ],
   "source": [
    "state_fips=identify_state(properties)"
   ]
  },
  {
   "cell_type": "code",
   "execution_count": 27,
   "metadata": {},
   "outputs": [
    {
     "name": "stdout",
     "output_type": "stream",
     "text": [
      "Getting geometry (block_group) for state: Rhode Island\n"
     ]
    },
    {
     "name": "stderr",
     "output_type": "stream",
     "text": [
      "/Volumes/GoogleDrive/My Drive/OpenCity/OpenCity.py:74: UserWarning: Geometry is in a geographic CRS. Results from 'centroid' are likely incorrect. Use 'GeoSeries.to_crs()' to re-project geometries to a projected CRS before this operation.\n",
      "\n",
      "  centroids=self.geom['geometry'].centroid\n"
     ]
    },
    {
     "name": "stdout",
     "output_type": "stream",
     "text": [
      "Getting WAC data from https://lehd.ces.census.gov/data/lodes/LODES7/\n",
      "\t Formatting WAC data\n",
      "Getting RAC data from https://lehd.ces.census.gov/data/lodes/LODES7/\n",
      "\t Formatting RAC data\n",
      "Getting OD data from https://lehd.ces.census.gov/data/lodes/LODES7/\n",
      "\t Formatting OD data\n"
     ]
    },
    {
     "data": {
      "text/plain": [
       "<AxesSubplot:>"
      ]
     },
     "execution_count": 27,
     "metadata": {},
     "output_type": "execute_result"
    },
    {
     "data": {
      "image/png": "[encoded data removed]",
      "text/plain": [
       "<Figure size 432x288 with 1 Axes>"
      ]
     },
     "metadata": {
      "needs_background": "light"
     },
     "output_type": "display_data"
    }
   ],
   "source": [
    "st=OpenCity.US_State(state_fips, year=2018, geom_type=geom_type)\n",
    "st.get_geometry()\n",
    "# st.remove_non_urban_zones()\n",
    "st.get_lodes_data( include=['wac', 'rac', 'od'])\n",
    "st.add_lodes_cols_to_shape()\n",
    "st.geom.plot()"
   ]
  },
  {
   "cell_type": "code",
   "execution_count": 28,
   "metadata": {},
   "outputs": [
    {
     "name": "stdout",
     "output_type": "stream",
     "text": [
      "\t Subsetting zones by distance\n",
      "\t Subsetting zones by distance\n"
     ]
    }
   ],
   "source": [
    "st.subset_geom_by_distance(centre_x_y=[geogrid.x_centroid.mean(), geogrid.y_centroid.mean()], \n",
    "                                   radius=reference_radius, name='reference_area')\n",
    "\n",
    "st.subset_geom_by_distance(centre_x_y=[geogrid.x_centroid.mean(), geogrid.y_centroid.mean()], \n",
    "                                   radius=model_radius, name='model_area')\n",
    "\n",
    "st.geom=assign_sim_area(gpd.GeoDataFrame(geogrid), st.geom)"
   ]
  },
  {
   "cell_type": "code",
   "execution_count": 29,
   "metadata": {},
   "outputs": [],
   "source": [
    "zones=st.geom.rename(columns={col: 'area' for col in st.geom.columns if 'ALAND' in col})"
   ]
  },
  {
   "cell_type": "code",
   "execution_count": 30,
   "metadata": {},
   "outputs": [],
   "source": [
    "zones.loc[zones['model_area']].to_file('tables/{}/zones.geojson'.format(table_name), driver='GeoJSON')"
   ]
  },
  {
   "cell_type": "code",
   "execution_count": 31,
   "metadata": {},
   "outputs": [
    {
     "name": "stdout",
     "output_type": "stream",
     "text": [
      "Using 1715 of 154176 rows in OD data\n",
      "0 of 1715\n"
     ]
    }
   ],
   "source": [
    "simpop_df=st.lodes_to_pop_table(\n",
    "    model_subset_name='model_area', sim_subset_name='sim_area')\n",
    "simpop_df.to_csv('tables/{}/simpop_df.csv'.format(table_name), index=False)"
   ]
  },
  {
   "cell_type": "code",
   "execution_count": 32,
   "metadata": {},
   "outputs": [],
   "source": [
    "geogrid.to_file('tables/{}/geogrid.geojson'.format(table_name), driver='GeoJSON')"
   ]
  },
  {
   "cell_type": "code",
   "execution_count": null,
   "metadata": {},
   "outputs": [],
   "source": []
  }
 ],
 "metadata": {
  "kernelspec": {
   "display_name": "Python [conda env:brix]",
   "language": "python",
   "name": "conda-env-brix-py"
  },
  "language_info": {
   "codemirror_mode": {
    "name": "ipython",
    "version": 3
   },
   "file_extension": ".py",
   "mimetype": "text/x-python",
   "name": "python",
   "nbconvert_exporter": "python",
   "pygments_lexer": "ipython3",
   "version": "3.9.2"
  }
 },
 "nbformat": 4,
 "nbformat_minor": 4
}
