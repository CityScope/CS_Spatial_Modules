{
 "cells": [
  {
   "cell_type": "code",
   "execution_count": 1,
   "id": "2e20b172-59ba-422a-b5ed-64635ed87791",
   "metadata": {},
   "outputs": [],
   "source": [
    "import sys\n",
    "sys.path.append('../')"
   ]
  },
  {
   "cell_type": "code",
   "execution_count": 2,
   "id": "19eb57fc-eb9b-46e8-a2a6-e681b9da8393",
   "metadata": {},
   "outputs": [],
   "source": [
    "from Proximity import prox_model, Proximity_Indicator\n",
    "from brix import Indicator, Handler, Grid_maker\n",
    "import US_State\n",
    "import datetime\n",
    "import geopandas as gpd\n",
    "import json\n",
    "import requests"
   ]
  },
  {
   "cell_type": "markdown",
   "id": "e810429c-d8ce-44ab-9398-70bdb188efff",
   "metadata": {},
   "source": [
    "# In this example, we will:\n",
    "    - initialise a CityScope table using brix\n",
    "    - download some census data filterrd to the area surrounding the grid\n",
    "    - create and deploy a proximity indicator"
   ]
  },
  {
   "cell_type": "markdown",
   "id": "3a5ff61a-b210-44ff-85f4-e40880594511",
   "metadata": {},
   "source": [
    "# Initialise the table"
   ]
  },
  {
   "cell_type": "code",
   "execution_count": 3,
   "id": "f29538c5-9b29-4fe3-a746-0c324a3e6566",
   "metadata": {},
   "outputs": [],
   "source": [
    "table_name='epa'\n",
    "state_fips=6\n",
    "geom_type='block'"
   ]
  },
  {
   "cell_type": "code",
   "execution_count": 4,
   "id": "28081797-9527-4f8d-8dc9-b25f623a9b2c",
   "metadata": {},
   "outputs": [
    {
     "name": "stdout",
     "output_type": "stream",
     "text": [
      "https://cityio.media.mit.edu/api/tables/list/ Attempt: 0\n",
      "Table epa already exists\n",
      "Calculating initial coordinates of each cell\n",
      "Defining properties and headers\n"
     ]
    },
    {
     "name": "stderr",
     "output_type": "stream",
     "text": [
      "/opt/anaconda3/envs/prox/lib/python3.10/site-packages/brix/grid_maker.py:82: UserWarning: Table epa already exists\n",
      "  warn(f'Table {self.table_name} already exists')\n"
     ]
    }
   ],
   "source": [
    "lat,lon = 37.47, -122.15634055\n",
    "G = Grid_maker(table_name, lat, lon, \n",
    "               cell_size=55, nrows=50, ncols=50, rotation=30)"
   ]
  },
  {
   "cell_type": "code",
   "execution_count": 20,
   "id": "cad015cc-67c4-4048-9d49-409481724ba8",
   "metadata": {},
   "outputs": [],
   "source": [
    "geogrid=G.get_grid_geojson()"
   ]
  },
  {
   "cell_type": "markdown",
   "id": "f4cce2df-3fb7-4c58-b119-d91c364a5531",
   "metadata": {},
   "source": [
    "### Define the cell types"
   ]
  },
  {
   "cell_type": "code",
   "execution_count": 22,
   "id": "7b5dac89-3183-4456-9aec-c23e3011a0a5",
   "metadata": {},
   "outputs": [],
   "source": [
    "types=json.load(open('../data/default_types.json'))\n",
    "geogrid['properties']['types']=types"
   ]
  },
  {
   "cell_type": "markdown",
   "id": "0dfd4650-b7a6-48d6-9466-d6281bba82d8",
   "metadata": {},
   "source": [
    "### Initialise the grid cells all to None type"
   ]
  },
  {
   "cell_type": "code",
   "execution_count": 23,
   "id": "97cce8b5-8a45-4f6e-af19-e62b1f0bb74b",
   "metadata": {},
   "outputs": [],
   "source": [
    "for i in range(len(geogrid['features'])):\n",
    "    geogrid['features'][i]['properties']['name']='None'\n",
    "    geogrid['features'][i]['properties']['color']=types['None']['color']"
   ]
  },
  {
   "cell_type": "markdown",
   "id": "43ea55a9-a20c-4f68-929b-19e95f221bab",
   "metadata": {},
   "source": [
    "### Set some cells to be interactive based on overlap with a boundary"
   ]
  },
  {
   "cell_type": "code",
   "execution_count": 24,
   "id": "257014eb-709e-49a5-8466-e53e77fa9a88",
   "metadata": {},
   "outputs": [],
   "source": [
    "interactive_area=gpd.read_file(\n",
    "\"\"\"\n",
    "{\n",
    "  \"type\": \"FeatureCollection\",\n",
    "  \"features\": [\n",
    "    {\n",
    "      \"type\": \"Feature\",\n",
    "      \"properties\": {},\n",
    "      \"geometry\": {\n",
    "        \"type\": \"Polygon\",\n",
    "        \"coordinates\": [\n",
    "          [\n",
    "            [\n",
    "              -122.1340012550354,\n",
    "              37.48372979560496\n",
    "            ],\n",
    "            [\n",
    "              -122.13342189788817,\n",
    "              37.482384632757686\n",
    "            ],\n",
    "            [\n",
    "              -122.13419437408449,\n",
    "              37.47972829068993\n",
    "            ],\n",
    "            [\n",
    "              -122.13535308837889,\n",
    "              37.47724214141305\n",
    "            ],\n",
    "            [\n",
    "              -122.13432312011719,\n",
    "              37.47727619881123\n",
    "            ],\n",
    "            [\n",
    "              -122.13428020477295,\n",
    "              37.474108794382126\n",
    "            ],\n",
    "            [\n",
    "              -122.13052511215209,\n",
    "              37.47436423519954\n",
    "            ],\n",
    "            [\n",
    "              -122.13061094284058,\n",
    "              37.475692513376735\n",
    "            ],\n",
    "            [\n",
    "              -122.12966680526732,\n",
    "              37.47575211504922\n",
    "            ],\n",
    "            [\n",
    "              -122.12964534759521,\n",
    "              37.47693562413104\n",
    "            ],\n",
    "            [\n",
    "              -122.1289587020874,\n",
    "              37.47696968166888\n",
    "            ],\n",
    "            [\n",
    "              -122.13181257247923,\n",
    "              37.47937069896909\n",
    "            ],\n",
    "            [\n",
    "              -122.129967212677,\n",
    "              37.48372979560496\n",
    "            ],\n",
    "            [\n",
    "              -122.1340012550354,\n",
    "              37.48372979560496\n",
    "            ]\n",
    "          ]\n",
    "        ]\n",
    "      }\n",
    "    }\n",
    "  ]\n",
    "}\n",
    "\"\"\")"
   ]
  },
  {
   "cell_type": "code",
   "execution_count": 25,
   "id": "a365ba8b-19eb-483e-b9b5-9a01c694bbec",
   "metadata": {},
   "outputs": [],
   "source": [
    "overlap_ids=gpd.overlay(interactive_area,\n",
    "                        gpd.read_file(json.dumps(geogrid)), \n",
    "                        'intersection')['id'].values"
   ]
  },
  {
   "cell_type": "code",
   "execution_count": 30,
   "id": "c7ae1308-ed88-491d-b901-cc343d6c35d2",
   "metadata": {},
   "outputs": [],
   "source": [
    "for i in range(len(geogrid['features'])):\n",
    "    if i in overlap_ids:\n",
    "        geogrid['features'][i]['properties']['interactive']=True\n",
    "    else:\n",
    "        geogrid['features'][i]['properties']['interactive']=False\n",
    "        geogrid['features'][i]['properties']['color']=[50,50,50,50]"
   ]
  },
  {
   "cell_type": "markdown",
   "id": "bf466686-4b04-4077-8149-dcf8309f22ec",
   "metadata": {},
   "source": [
    "### Send the grid data to CityIO"
   ]
  },
  {
   "cell_type": "code",
   "execution_count": 31,
   "id": "bb5b31ec-13f5-4dab-bb02-a3a22652b081",
   "metadata": {},
   "outputs": [],
   "source": [
    "headers = {'Content-Type': 'application/json'}\n",
    "url='https://cityio.media.mit.edu/api/table/{}'.format(table_name)\n",
    "r = requests.post(url+'/GEOGRID', data = json.dumps(geogrid), headers=headers)"
   ]
  },
  {
   "cell_type": "markdown",
   "id": "5271fbc6-e429-443c-b9d2-32236d519c01",
   "metadata": {},
   "source": [
    "For the change to be reflected on the front-end, we need to update the current grid state based on the changes to the GEOGRID"
   ]
  },
  {
   "cell_type": "code",
   "execution_count": 32,
   "id": "7d4e2db7-33f6-48fe-9549-cbfe00c436ca",
   "metadata": {},
   "outputs": [
    {
     "name": "stdout",
     "output_type": "stream",
     "text": [
      "https://cityio.media.mit.edu/api/table/epa/GEOGRID/ Attempt: 0\n",
      "Proceeding without reviewing GEOGRIDDATA\n",
      "https://cityio.media.mit.edu/api/table/epa/meta/hashes/ Attempt: 0\n",
      "GEOGRIDDATA successfully updated: wTFjHvG8e6CSSBeuuwjArjh2fcP5GUNMpwkeTgRWdif\n"
     ]
    }
   ],
   "source": [
    "G.reset_geogrid_data()"
   ]
  },
  {
   "cell_type": "markdown",
   "id": "72ce4784-063f-46f8-984f-2f1d0724b245",
   "metadata": {},
   "source": [
    "The front-end is now ready but there are no analysis modules running yet so nothing happens when we interact with the grid"
   ]
  },
  {
   "cell_type": "markdown",
   "id": "128faed7-c035-4b8e-8f69-109a8682bf17",
   "metadata": {},
   "source": [
    "# Set up a back end module"
   ]
  },
  {
   "cell_type": "markdown",
   "id": "c4e66fe8-10d4-4fbb-ae54-a8ae604c1974",
   "metadata": {},
   "source": [
    "### Create the Handler"
   ]
  },
  {
   "cell_type": "code",
   "execution_count": 4,
   "id": "15402c35-1b06-4194-9b73-96ef4c12d208",
   "metadata": {},
   "outputs": [
    {
     "name": "stdout",
     "output_type": "stream",
     "text": [
      "https://cityio.media.mit.edu/api/tables/list/ Attempt: 0\n",
      "https://cityio.media.mit.edu/api/table/epa/meta/hashes/ Attempt: 0\n"
     ]
    }
   ],
   "source": [
    "H=Handler(table_name)"
   ]
  },
  {
   "cell_type": "markdown",
   "id": "db3c7f0d-9e28-4ef0-be3f-659553251185",
   "metadata": {},
   "source": [
    "To intialise the proximity indicator, we need geodataframes of (i) the static places/POIs and (ii) the GEOGRID"
   ]
  },
  {
   "cell_type": "code",
   "execution_count": 5,
   "id": "59dd0e5a-bc4e-415e-a6db-99c44a19e775",
   "metadata": {},
   "outputs": [
    {
     "name": "stdout",
     "output_type": "stream",
     "text": [
      "https://cityio.media.mit.edu/api/table/epa/GEOGRIDDATA/ Attempt: 0\n",
      "https://cityio.media.mit.edu/api/table/epa/GEOGRID/ Attempt: 0\n"
     ]
    },
    {
     "name": "stderr",
     "output_type": "stream",
     "text": [
      "/opt/anaconda3/envs/prox/lib/python3.10/site-packages/brix/classes.py:981: FutureWarning: In a future version of pandas all arguments of DataFrame.drop except for the argument 'labels' will be keyword-only.\n",
      "  geos = gpd.GeoDataFrame(geos.drop('geometry',1),geometry=geos['geometry'].apply(lambda x: shape(x))) # no crs to avoid warning\n",
      "/opt/anaconda3/envs/prox/lib/python3.10/site-packages/brix/classes.py:251: FutureWarning: In a future version of pandas all arguments of DataFrame.drop except for the argument 'labels' will be keyword-only.\n",
      "  geogrid_data = gpd.GeoDataFrame(geogrid_data.drop('geometry',1),geometry=geogrid_data['geometry'].apply(lambda x: shape(x)),crs='EPSG:4326')\n"
     ]
    }
   ],
   "source": [
    "geogrid=H.get_geogrid_data(include_geometries=True).as_df()"
   ]
  },
  {
   "cell_type": "markdown",
   "id": "c04b0071-6030-44d3-b960-adda4b5b3150",
   "metadata": {},
   "source": [
    "### Get some baseline places data by downloading geometres and demographic data from census"
   ]
  },
  {
   "cell_type": "code",
   "execution_count": null,
   "id": "113bb035-3f83-4d1f-b723-555f599fecc8",
   "metadata": {},
   "outputs": [
    {
     "name": "stdout",
     "output_type": "stream",
     "text": [
      "Getting geometry (block) for state: California\n"
     ]
    }
   ],
   "source": [
    "st=US_State.US_State(state_fips=state_fips, year=2019, geom_type=geom_type)\n",
    "st.get_geometry()\n",
    "st.get_lodes_data( include=['wac', 'rac'])\n",
    "st.add_lodes_cols_to_shape()"
   ]
  },
  {
   "cell_type": "markdown",
   "id": "f554418d-b060-4b94-8e34-d08fb7e3cbcc",
   "metadata": {},
   "source": [
    "Subset the geometry by distance from the grid to reduce the size "
   ]
  },
  {
   "cell_type": "code",
   "execution_count": null,
   "id": "c4aca29c-e2e9-4105-8d6c-c0c5c5cca2c9",
   "metadata": {},
   "outputs": [],
   "source": [
    "st.subset_geom_by_distance(centre_x_y=[lon, lat], \n",
    "                                   radius=5000, name='model_area')\n",
    "zones_subset=st.return_geometry('model_area')\n",
    "zones_subset.explore()"
   ]
  },
  {
   "cell_type": "markdown",
   "id": "f1985fb3-28c9-42c0-8080-d34772d70160",
   "metadata": {},
   "source": [
    "### Define the proximity targets\n",
    "- column is the column of the GeoDataFrame corresponding to this POI. The column can be binary (indicating whther the row is one these POIs) or numerical (indicating the capacity of the POI contained in this place.\n",
    "- 'from' represents the relevant source location for this POI. eg. if we want a POI (eg. employment) to be located close to where people live, then 'from' should be the column representing residential population.\n",
    "- 'max' is used in the linear normalisation of indicators. If the proximity result is equal to or greater than the max, the score will be 1."
   ]
  },
  {
   "cell_type": "code",
   "execution_count": null,
   "id": "43aef6b4-3a05-49eb-a00b-123afb2f706a",
   "metadata": {},
   "outputs": [],
   "source": [
    "target_settings={'housing': {'column': 'res_total','max': 100000, 'from': 'emp_total'},\n",
    "                 'healthcare': {'column': 'emp_naics_62','max': 10000, 'from': 'res_total'},\n",
    "                 'jobs': {'column': 'emp_total','max': 100000, 'from': 'res_total'},\n",
    "                'shopping': {'column': 'emp_naics_44-45','max': 10000, 'from': 'res_total'},\n",
    "                'education': {'column': 'emp_naics_61','max': 10000, 'from': 'res_total'},\n",
    "                'entertainment': {'column': 'emp_naics_71','max': 10000, 'from': 'res_total'}}"
   ]
  },
  {
   "cell_type": "markdown",
   "id": "81943b05-ab78-4f57-80bf-7468a0c5f378",
   "metadata": {},
   "source": [
    "### Create the proximity indicator.\n",
    "- 'max_dist' is the network search radius in meters. eg. for 15 minutes walking accessibility, use max_dist=1200 (assuming average espeed of 4.8km/hr)"
   ]
  },
  {
   "cell_type": "code",
   "execution_count": null,
   "id": "4dc5dc95-8e44-49cf-b912-6a5aa3207b7c",
   "metadata": {},
   "outputs": [],
   "source": [
    "p=Proximity_Indicator(static_places=zones_subset, geogrid=geogrid, \n",
    "                      max_dist=2400, target_settings=target_settings)"
   ]
  },
  {
   "cell_type": "code",
   "execution_count": null,
   "id": "faebc725-cf70-4263-8b1f-8481535c269a",
   "metadata": {},
   "outputs": [],
   "source": [
    "H.add_indicator(p)\n",
    "H.listen()"
   ]
  },
  {
   "cell_type": "code",
   "execution_count": null,
   "id": "98dc9d6b-18bd-41ad-9983-8196f3db8af6",
   "metadata": {},
   "outputs": [],
   "source": []
  }
 ],
 "metadata": {
  "kernelspec": {
   "display_name": "Python [conda env:prox]",
   "language": "python",
   "name": "conda-env-prox-py"
  },
  "language_info": {
   "codemirror_mode": {
    "name": "ipython",
    "version": 3
   },
   "file_extension": ".py",
   "mimetype": "text/x-python",
   "name": "python",
   "nbconvert_exporter": "python",
   "pygments_lexer": "ipython3",
   "version": "3.10.4"
  }
 },
 "nbformat": 4,
 "nbformat_minor": 5
}
