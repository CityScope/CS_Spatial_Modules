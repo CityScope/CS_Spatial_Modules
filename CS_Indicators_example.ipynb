{
 "cells": [
  {
   "cell_type": "code",
   "execution_count": 1,
   "metadata": {},
   "outputs": [],
   "source": [
    "import CS_Indicators as CS\n",
    "from brix import Indicator, Handler\n",
    "import PreCompOsmNet\n",
    "import Simulation\n",
    "import geopandas as gpd\n",
    "import pandas as pd"
   ]
  },
  {
   "cell_type": "code",
   "execution_count": 2,
   "metadata": {},
   "outputs": [],
   "source": [
    "# import sklearn"
   ]
  },
  {
   "cell_type": "code",
   "execution_count": 3,
   "metadata": {},
   "outputs": [],
   "source": [
    "table_name='epa'"
   ]
  },
  {
   "cell_type": "markdown",
   "metadata": {},
   "source": [
    "### Load the Saved Data"
   ]
  },
  {
   "cell_type": "code",
   "execution_count": 4,
   "metadata": {},
   "outputs": [],
   "source": [
    "geogrid=gpd.read_file('tables/{}/geogrid.geojson'.format(table_name))\n",
    "zones=gpd.read_file('tables/{}/zones.geojson'.format(table_name))\n",
    "zones['GEOID']=zones['GEOID'].astype(int)\n",
    "zones=zones.set_index('GEOID')\n",
    "simpop_df=pd.read_csv('tables/{}/simpop_df.csv'.format(table_name))"
   ]
  },
  {
   "cell_type": "markdown",
   "metadata": {},
   "source": [
    "### LODES industry is not useful- look up NAICS from wac instead\n",
    "- TODO: do this in the script which prepares the USA data"
   ]
  },
  {
   "cell_type": "code",
   "execution_count": 5,
   "metadata": {},
   "outputs": [],
   "source": [
    "import random\n",
    "naics_cols=[col for col in zones.columns if 'naics' in col]\n",
    "simpop_df['naics']=0\n",
    "for ind, row in simpop_df.iterrows():\n",
    "    if zones.loc[row['work_geoid'], 'emp_total']>0:\n",
    "        simpop_df.loc[ind, 'naics']=random.choices(naics_cols, weights=zones.loc[row['work_geoid'], naics_cols].values, k=1)[0]\n",
    "    else:\n",
    "        simpop_df.loc[ind, 'naics']=random.choices(naics_cols, k=1)[0]"
   ]
  },
  {
   "cell_type": "code",
   "execution_count": 6,
   "metadata": {},
   "outputs": [],
   "source": [
    "simpop_df=simpop_df.drop('industry', axis=1)"
   ]
  },
  {
   "cell_type": "markdown",
   "metadata": {},
   "source": [
    "### Create the mobility system"
   ]
  },
  {
   "cell_type": "code",
   "execution_count": 7,
   "metadata": {},
   "outputs": [
    {
     "name": "stdout",
     "output_type": "stream",
     "text": [
      "getting internal roads\n",
      "Buffer : 200\n",
      "getting external roads\n",
      "\t Simplified from 1413 to 970 edges and 957 to 607 nodes\n",
      "\t Pre-computing paths\n"
     ]
    }
   ],
   "source": [
    "networks, mode_dicts, route_lengths=PreCompOsmNet.create_2_scale_osmnx_network(\n",
    "    zones.loc[zones['sim_area']], zones.loc[zones['model_area']],\n",
    "    add_modes=[{'name': 'walk', 'speed': 4800/3600},\n",
    "               {'name': 'cycle', 'speed': 14000/3600},\n",
    "               {'name': 'pt', 'speed': 25000/3600}])\n",
    "modes={mode: Simulation.Mode(mode_dicts[mode]) for mode in mode_dicts}\n",
    "mob_sys=Simulation.MobilitySystem(modes=modes, networks=networks)"
   ]
  },
  {
   "cell_type": "code",
   "execution_count": 8,
   "metadata": {},
   "outputs": [],
   "source": [
    "import numpy as np\n",
    "\n",
    "class Default_Mode_Choice_model():\n",
    "    def __init__(self):\n",
    "        pass\n",
    "    \n",
    "    def predict_modes(self, all_trips_df):\n",
    "        options=['drive', 'cycle', 'walk', 'pt']\n",
    "        all_trips_df['mode']='drive'\n",
    "        ind_u1500=all_trips_df['route_distance']<1500\n",
    "        ind_1500_5k=((all_trips_df['route_distance']>1500)&(all_trips_df['route_distance']<5000))\n",
    "        ind_5k_10k=((all_trips_df['route_distance']>5000)&(all_trips_df['route_distance']<10000))\n",
    "        ind_10kplus=all_trips_df['route_distance']>10000\n",
    "\n",
    "        all_trips_df.loc[ind_u1500==True, 'mode']=np.random.choice(\n",
    "            options, size=sum(ind_u1500), \n",
    "            replace=True, p=[0.1, 0.2, 0.6, 0.1])\n",
    "\n",
    "        all_trips_df.loc[ind_1500_5k==True, 'mode']=np.random.choice(\n",
    "            options, size=sum(ind_1500_5k), \n",
    "            replace=True, p=[0.25, 0.15, 0.3, 0.3])\n",
    "\n",
    "        all_trips_df.loc[ind_5k_10k==True, 'mode']=np.random.choice(\n",
    "            options, size=sum(ind_5k_10k), \n",
    "            replace=True, p=[0.6, 0.04, 0.01, 0.35])\n",
    "\n",
    "        all_trips_df.loc[ind_10kplus==True, 'mode']=np.random.choice(\n",
    "            options, size=sum(ind_10kplus), \n",
    "            replace=True, p=[0.9, 0.01, 0.01, 0.08])\n",
    "        return all_trips_df\n",
    "\n",
    "mode_descriptions = [{\"name\": 'drive',\n",
    "                    'color': \"#e41a1d\"},\n",
    "                     {\"name\": 'cycle',\n",
    "                    'color': \"#377eb8\"},\n",
    "                     {\"name\": 'walk',\n",
    "                    'color': \"#4daf4a\"},\n",
    "                     {\"name\": 'pt',\n",
    "                    'color': \"#ffff33\"},\n",
    "                    ]"
   ]
  },
  {
   "cell_type": "markdown",
   "metadata": {},
   "source": [
    "### Create and run the Cityscope model"
   ]
  },
  {
   "cell_type": "code",
   "execution_count": 9,
   "metadata": {},
   "outputs": [
    {
     "name": "stdout",
     "output_type": "stream",
     "text": [
      "https://cityio.media.mit.edu/api/tables/list/ Attempt: 0\n",
      "https://cityio.media.mit.edu/api/table/epa/meta/hashes/ Attempt: 0\n",
      "https://cityio.media.mit.edu/api/table/epa/GEOGRID/ Attempt: 0\n",
      "Proceeding without reviewing GEOGRIDDATA\n",
      "https://cityio.media.mit.edu/api/table/epa/meta/hashes/ Attempt: 0\n",
      "GEOGRIDDATA successfully updated: 9ppgMoPt6nVeJrGBzKefsrhFcyr2UFReaRF7pksagmxQ\n"
     ]
    }
   ],
   "source": [
    "H=Handler(table_name=table_name)\n",
    "H.reset_geogrid_data()"
   ]
  },
  {
   "cell_type": "code",
   "execution_count": 10,
   "metadata": {},
   "outputs": [
    {
     "name": "stdout",
     "output_type": "stream",
     "text": [
      "Init simulation\n",
      "Getting internal nodes\n"
     ]
    },
    {
     "name": "stderr",
     "output_type": "stream",
     "text": [
      "/Users/ronandoorley/Documents/Media_Lab/CityScope/CS_Spatial_Modules/CS_Indicators.py:619: UserWarning: Geometry is in a geographic CRS. Results from 'centroid' are likely incorrect. Use 'GeoSeries.to_crs()' to re-project geometries to a projected CRS before this operation.\n",
      "\n",
      "  centroids=grid_zones['geometry'].centroid\n",
      "/opt/anaconda3/envs/cs/lib/python3.9/site-packages/osmnx/distance.py:426: UserWarning: The `get_nearest_nodes` function has been deprecated and will be removed in a future release. Use the more efficient `distance.nearest_nodes` instead.\n",
      "  warnings.warn(msg)\n"
     ]
    },
    {
     "name": "stdout",
     "output_type": "stream",
     "text": [
      "Finding closest nodes to every zone centroid\n",
      "Computing zone-zone dist mat\n"
     ]
    }
   ],
   "source": [
    "m=CS.Mobility_indicator(zones, geogrid, table_name, simpop_df, mob_sys,\n",
    "                       mode_choice_model=Default_Mode_Choice_model(),\n",
    "                       mode_descriptions=mode_descriptions,\n",
    "                       route_lengths=route_lengths)"
   ]
  },
  {
   "cell_type": "code",
   "execution_count": 11,
   "metadata": {},
   "outputs": [
    {
     "name": "stdout",
     "output_type": "stream",
     "text": [
      "Setting up Proximity Indicator\n",
      "\t Downloading graph for reference area\n",
      "\t Getting central nodes\n",
      "\t Finding all reachable geometries from each geometry\n",
      "\t Calculating baseline scores\n",
      "https://cityio.media.mit.edu/api/table/epa/GEOGRIDDATA/ Attempt: 0\n"
     ]
    },
    {
     "name": "stderr",
     "output_type": "stream",
     "text": [
      "/opt/anaconda3/envs/cs/lib/python3.9/site-packages/brix/classes.py:981: FutureWarning: In a future version of pandas all arguments of DataFrame.drop except for the argument 'labels' will be keyword-only\n",
      "  geos = gpd.GeoDataFrame(geos.drop('geometry',1),geometry=geos['geometry'].apply(lambda x: shape(x))) # no crs to avoid warning\n"
     ]
    },
    {
     "name": "stdout",
     "output_type": "stream",
     "text": [
      "Dens Ind: 0:00:00.001319\n",
      "https://cityio.media.mit.edu/api/table/epa/GEOGRIDDATA/ Attempt: 0\n",
      "Prox Ind: 0:00:00.014884\n",
      "Prox HM: 0:00:00.001701\n",
      "https://cityio.media.mit.edu/api/table/epa/GEOGRIDDATA/ Attempt: 0\n",
      "Starting MM Update\n",
      "Schedules and locations\n",
      "OD\n",
      "Trip table\n",
      "Route table\n",
      "DeckGL\n"
     ]
    },
    {
     "name": "stderr",
     "output_type": "stream",
     "text": [
      "/Users/ronandoorley/Documents/Media_Lab/CityScope/CS_Spatial_Modules/Simulation.py:407: SettingWithCopyWarning: \n",
      "A value is trying to be set on a copy of a slice from a DataFrame.\n",
      "Try using .loc[row_indexer,col_indexer] = value instead\n",
      "\n",
      "See the caveats in the documentation: https://pandas.pydata.org/pandas-docs/stable/user_guide/indexing.html#returning-a-view-versus-a-copy\n",
      "  route_table_this_mode['node_path']=routes['node_path']\n",
      "/Users/ronandoorley/Documents/Media_Lab/CityScope/CS_Spatial_Modules/Simulation.py:408: SettingWithCopyWarning: \n",
      "A value is trying to be set on a copy of a slice from a DataFrame.\n",
      "Try using .loc[row_indexer,col_indexer] = value instead\n",
      "\n",
      "See the caveats in the documentation: https://pandas.pydata.org/pandas-docs/stable/user_guide/indexing.html#returning-a-view-versus-a-copy\n",
      "  route_table_this_mode['attributes']=routes['attributes']\n"
     ]
    },
    {
     "name": "stdout",
     "output_type": "stream",
     "text": [
      "Post ABM: <Response [200]>\n",
      "Post OD: <Response [200]>\n",
      "Finished MM Update\n",
      "\t calculation took 0:00:00.143160\n",
      "\t trips post took 0:00:02.822747\n"
     ]
    }
   ],
   "source": [
    "d=CS.Density_Indicator(zones=zones)\n",
    "p=CS.Proximity_Indicator(zones=zones, geogrid=geogrid)\n",
    "\n",
    "\n",
    "H.add_indicators([\n",
    "    d, p, \n",
    "    m\n",
    "])\n",
    "\n",
    "# H.add_indicator(m)"
   ]
  },
  {
   "cell_type": "code",
   "execution_count": 12,
   "metadata": {},
   "outputs": [],
   "source": [
    "# self=m\n",
    "# import datetime\n",
    "# print('Starting MM Update')\n",
    "# start_calc=datetime.datetime.now()\n",
    "# new_simpop=self.geogrid_updates(geogrid_data)\n",
    "# new_simpop_df=pd.DataFrame(new_simpop)\n",
    "# combined_simpop=self.base_simpop_df.append(new_simpop_df)\n",
    "# sample_simpop_df=combined_simpop.sample(min(self.N_max, len(combined_simpop)))\n",
    "# od_output, deckgl_trips, ind=self.simulate(sample_simpop_df)"
   ]
  },
  {
   "cell_type": "code",
   "execution_count": 13,
   "metadata": {},
   "outputs": [
    {
     "name": "stdout",
     "output_type": "stream",
     "text": [
      "https://cityio.media.mit.edu/api/table/epa/GEOGRIDDATA/ Attempt: 0\n",
      "Starting MM Update\n",
      "Schedules and locations\n",
      "OD\n",
      "Trip table\n",
      "Route table\n",
      "DeckGL\n"
     ]
    },
    {
     "name": "stderr",
     "output_type": "stream",
     "text": [
      "/Users/ronandoorley/Documents/Media_Lab/CityScope/CS_Spatial_Modules/Simulation.py:407: SettingWithCopyWarning: \n",
      "A value is trying to be set on a copy of a slice from a DataFrame.\n",
      "Try using .loc[row_indexer,col_indexer] = value instead\n",
      "\n",
      "See the caveats in the documentation: https://pandas.pydata.org/pandas-docs/stable/user_guide/indexing.html#returning-a-view-versus-a-copy\n",
      "  route_table_this_mode['node_path']=routes['node_path']\n",
      "/Users/ronandoorley/Documents/Media_Lab/CityScope/CS_Spatial_Modules/Simulation.py:408: SettingWithCopyWarning: \n",
      "A value is trying to be set on a copy of a slice from a DataFrame.\n",
      "Try using .loc[row_indexer,col_indexer] = value instead\n",
      "\n",
      "See the caveats in the documentation: https://pandas.pydata.org/pandas-docs/stable/user_guide/indexing.html#returning-a-view-versus-a-copy\n",
      "  route_table_this_mode['attributes']=routes['attributes']\n"
     ]
    },
    {
     "name": "stdout",
     "output_type": "stream",
     "text": [
      "Post ABM: <Response [200]>\n",
      "Post OD: <Response [200]>\n",
      "Finished MM Update\n",
      "\t calculation took 0:00:00.177965\n",
      "\t trips post took 0:00:02.347151\n",
      "{'name': 'Active Mobility', 'raw_value': 0.064, 'value': 0.064, 'ref_value': 0.1, 'viz_type': 'radar'}\n",
      "Prox Ind: 0:00:00.010384\n",
      "Prox HM: 0:00:00.001186\n",
      "{'heatmap': {'type': 'FeatureCollection', 'properties': ['housing', 'employment', 'healthcare', 'hospitality', 'shopping'], 'features': [{'type': 'Feature', 'properties': [0.22448026162111656, 0.5534474780194355, 0.8661016949152542, 0.17541766109785203, 0.028070175438596492], 'geometry': {'type': 'Point', 'coordinates': [-122.13660830090879, 37.478019366165746]}}, {'type': 'Feature', 'properties': [0.22448026162111656, 0.5534474780194355, 0.8661016949152542, 0.17541766109785203, 0.028070175438596492], 'geometry': {'type': 'Point', 'coordinates': [-122.13610583682592, 37.478222536477425]}}, {'type': 'Feature', 'properties': [0.22448026162111656, 0.5534474780194355, 0.8661016949152542, 0.17541766109785203, 0.028070175438596492], 'geometry': {'type': 'Point', 'coordinates': [-122.13560336973951, 37.478425704480365]}}, {'type': 'Feature', 'properties': [-0.1117729502452698, -0.0034706154558074966, -0.03389830508474576, 0.0, 0.0], 'geometry': {'type': 'Point', 'coordinates': [-122.1351008996496, 37.47862887017454]}}, {'type': 'Feature', 'properties': [-0.1117729502452698, -0.0034706154558074966, -0.03389830508474576, 0.0, 0.0], 'geometry': {'type': 'Point', 'coordinates': [-122.13459842655612, 37.47883203355992]}}, {'type': 'Feature', 'properties': [0.0962391964494277, 0.5138824618232299, 0.6389830508474577, 0.13842482100238662, 0.028070175438596492], 'geometry': {'type': 'Point', 'coordinates': [-122.13409595045918, 37.479035194636474]}}, {'type': 'Feature', 'properties': [0.0962391964494277, 0.5138824618232299, 0.6389830508474577, 0.13842482100238662, 0.028070175438596492], 'geometry': {'type': 'Point', 'coordinates': [-122.13359347135875, 37.47923835340416]}}, {'type': 'Feature', 'properties': [0.0962391964494277, 0.5138824618232299, 0.6389830508474577, 0.13842482100238662, 0.028070175438596492], 'geometry': {'type': 'Point', 'coordinates': [-122.13309098925477, 37.47944150986297]}}, {'type': 'Feature', 'properties': [-0.1117729502452698, -0.0034706154558074966, -0.03389830508474576, 0.0, 0.0], 'geometry': {'type': 'Point', 'coordinates': [-122.13258850414734, 37.479644664012895]}}, {'type': 'Feature', 'properties': [-0.1117729502452698, -0.0034706154558074966, -0.03389830508474576, 0.0, 0.0], 'geometry': {'type': 'Point', 'coordinates': [-122.1320860160364, 37.4798478158539]}}, {'type': 'Feature', 'properties': [-0.1117729502452698, -0.0034706154558074966, -0.03389830508474576, 0.0, 0.0], 'geometry': {'type': 'Point', 'coordinates': [-122.13158352492201, 37.48005096538595]}}, {'type': 'Feature', 'properties': [0.22448026162111656, 0.5534474780194355, 0.8661016949152542, 0.17541766109785203, 0.028070175438596492], 'geometry': {'type': 'Point', 'coordinates': [-122.13635336777254, 37.47761892583093]}}, {'type': 'Feature', 'properties': [0.22448026162111656, 0.5534474780194355, 0.8661016949152542, 0.17541766109785203, 0.028070175438596492], 'geometry': {'type': 'Point', 'coordinates': [-122.13585090588765, 37.47782209484684]}}, {'type': 'Feature', 'properties': [0.22448026162111656, 0.5534474780194355, 0.8661016949152542, 0.17541766109785203, 0.028070175438596492], 'geometry': {'type': 'Point', 'coordinates': [-122.13534844099934, 37.47802526155405]}}, {'type': 'Feature', 'properties': [0.22448026162111656, 0.5534474780194355, 0.8661016949152542, 0.17541766109785203, 0.028070175438596492], 'geometry': {'type': 'Point', 'coordinates': [-122.13484597310746, 37.47822842595247]}}, {'type': 'Feature', 'properties': [-0.1117729502452698, -0.0034706154558074966, -0.03389830508474576, 0.0, 0.0], 'geometry': {'type': 'Point', 'coordinates': [-122.13434350221212, 37.47843158804211]}}, {'type': 'Feature', 'properties': [-0.1117729502452698, -0.0034706154558074966, -0.03389830508474576, 0.0, 0.0], 'geometry': {'type': 'Point', 'coordinates': [-122.13384102831333, 37.478634747822944]}}, {'type': 'Feature', 'properties': [0.0962391964494277, 0.5138824618232299, 0.6389830508474577, 0.13842482100238662, 0.028070175438596492], 'geometry': {'type': 'Point', 'coordinates': [-122.13333855141107, 37.47883790529493]}}, {'type': 'Feature', 'properties': [-0.1117729502452698, -0.0034706154558074966, -0.03389830508474576, 0.0, 0.0], 'geometry': {'type': 'Point', 'coordinates': [-122.13283607150538, 37.479041060458044]}}, {'type': 'Feature', 'properties': [-0.1117729502452698, -0.0034706154558074966, -0.03389830508474576, 0.0, 0.0], 'geometry': {'type': 'Point', 'coordinates': [-122.13233358859628, 37.4792442133123]}}, {'type': 'Feature', 'properties': [-0.1117729502452698, -0.0034706154558074966, -0.03389830508474576, 0.0, 0.0], 'geometry': {'type': 'Point', 'coordinates': [-122.1318311026837, 37.47944736385763]}}, {'type': 'Feature', 'properties': [-0.1117729502452698, -0.0034706154558074966, -0.03389830508474576, 0.0, 0.0], 'geometry': {'type': 'Point', 'coordinates': [-122.13132861376775, 37.479650512094025]}}, {'type': 'Feature', 'properties': [0.22448026162111656, 0.5534474780194355, 0.8661016949152542, 0.17541766109785203, 0.028070175438596492], 'geometry': {'type': 'Point', 'coordinates': [-122.13609843763986, 37.47721848508389]}}, {'type': 'Feature', 'properties': [0.22448026162111656, 0.5534474780194355, 0.8661016949152542, 0.17541766109785203, 0.028070175438596492], 'geometry': {'type': 'Point', 'coordinates': [-122.13559597795293, 37.47742165280405]}}, {'type': 'Feature', 'properties': [0.22448026162111656, 0.5534474780194355, 0.8661016949152542, 0.17541766109785203, 0.028070175438596492], 'geometry': {'type': 'Point', 'coordinates': [-122.13509351526258, 37.477624818215496]}}, {'type': 'Feature', 'properties': [0.22448026162111656, 0.5534474780194355, 0.8661016949152542, 0.17541766109785203, 0.028070175438596492], 'geometry': {'type': 'Point', 'coordinates': [-122.13459104956875, 37.47782798131818]}}, {'type': 'Feature', 'properties': [-0.018453632328895117, 0.010411846367422489, 0.10508474576271186, 0.011933174224343675, 0.0035087719298245615], 'geometry': {'type': 'Point', 'coordinates': [-122.13408858087158, 37.4780311421121]}}, {'type': 'Feature', 'properties': [-0.1117729502452698, -0.0034706154558074966, -0.03389830508474576, 0.0, 0.0], 'geometry': {'type': 'Point', 'coordinates': [-122.13358610917096, 37.478234300597215]}}, {'type': 'Feature', 'properties': [-0.1117729502452698, -0.0034706154558074966, -0.03389830508474576, 0.0, 0.0], 'geometry': {'type': 'Point', 'coordinates': [-122.1330836344669, 37.4784374567735]}}, {'type': 'Feature', 'properties': [-0.1117729502452698, -0.0034706154558074966, -0.03389830508474576, 0.0, 0.0], 'geometry': {'type': 'Point', 'coordinates': [-122.13258115675949, 37.478640610640944]}}, {'type': 'Feature', 'properties': [-0.1117729502452698, -0.0034706154558074966, -0.03389830508474576, 0.0, 0.0], 'geometry': {'type': 'Point', 'coordinates': [-122.13207867604868, 37.4788437621995]}}, {'type': 'Feature', 'properties': [-0.1117729502452698, -0.0034706154558074966, -0.03389830508474576, 0.0, 0.0], 'geometry': {'type': 'Point', 'coordinates': [-122.13157619233449, 37.47904691144917]}}, {'type': 'Feature', 'properties': [-0.1117729502452698, -0.0034706154558074966, -0.03389830508474576, 0.0, 0.0], 'geometry': {'type': 'Point', 'coordinates': [-122.13107370561687, 37.47925005838991]}}, {'type': 'Feature', 'properties': [0.22448026162111656, 0.5534474780194355, 0.8661016949152542, 0.17541766109785203, 0.028070175438596492], 'geometry': {'type': 'Point', 'coordinates': [-122.13584351051055, 37.47681804392465]}}, {'type': 'Feature', 'properties': [0.22448026162111656, 0.5534474780194355, 0.8661016949152542, 0.17541766109785203, 0.028070175438596492], 'geometry': {'type': 'Point', 'coordinates': [-122.13534105302163, 37.477021210349065]}}, {'type': 'Feature', 'properties': [0.22448026162111656, 0.5534474780194355, 0.8661016949152542, 0.17541766109785203, 0.028070175438596492], 'geometry': {'type': 'Point', 'coordinates': [-122.13483859252926, 37.47722437446475]}}, {'type': 'Feature', 'properties': [-0.018453632328895117, 0.010411846367422489, 0.10508474576271186, 0.011933174224343675, 0.0035087719298245615], 'geometry': {'type': 'Point', 'coordinates': [-122.13433612903354, 37.47742753627171]}}, {'type': 'Feature', 'properties': [-0.018453632328895117, 0.010411846367422489, 0.10508474576271186, 0.011933174224343675, 0.0035087719298245615], 'geometry': {'type': 'Point', 'coordinates': [-122.13383366253443, 37.4776306957699]}}, {'type': 'Feature', 'properties': [-0.1117729502452698, -0.0034706154558074966, -0.03389830508474576, 0.0, 0.0], 'geometry': {'type': 'Point', 'coordinates': [-122.13333119303194, 37.4778338529593]}}, {'type': 'Feature', 'properties': [-0.1117729502452698, -0.0034706154558074966, -0.03389830508474576, 0.0, 0.0], 'geometry': {'type': 'Point', 'coordinates': [-122.13282872052613, 37.478037007839895]}}, {'type': 'Feature', 'properties': [-0.1117729502452698, -0.0034706154558074966, -0.03389830508474576, 0.0, 0.0], 'geometry': {'type': 'Point', 'coordinates': [-122.13232624501694, 37.47824016041165]}}, {'type': 'Feature', 'properties': [-0.1117729502452698, -0.0034706154558074966, -0.03389830508474576, 0.0, 0.0], 'geometry': {'type': 'Point', 'coordinates': [-122.13182376650445, 37.47844331067454]}}, {'type': 'Feature', 'properties': [-0.1117729502452698, -0.0034706154558074966, -0.03389830508474576, 0.0, 0.0], 'geometry': {'type': 'Point', 'coordinates': [-122.1313212849886, 37.478646458628546]}}, {'type': 'Feature', 'properties': [-0.1117729502452698, -0.0034706154558074966, -0.03389830508474576, 0.0, 0.0], 'geometry': {'type': 'Point', 'coordinates': [-122.13081880046941, 37.478849604273634]}}, {'type': 'Feature', 'properties': [0.31347815930857276, 0.5719574271170754, 0.8966101694915254, 0.1766109785202864, 0.028070175438596492], 'geometry': {'type': 'Point', 'coordinates': [-122.13558858638469, 37.476417602353244]}}, {'type': 'Feature', 'properties': [-0.018453632328895117, 0.010411846367422489, 0.10508474576271186, 0.011933174224343675, 0.0035087719298245615], 'geometry': {'type': 'Point', 'coordinates': [-122.13508613109364, 37.476620767481904]}}, {'type': 'Feature', 'properties': [-0.018453632328895117, 0.010411846367422489, 0.10508474576271186, 0.011933174224343675, 0.0035087719298245615], 'geometry': {'type': 'Point', 'coordinates': [-122.13458367279932, 37.47682393030184]}}, {'type': 'Feature', 'properties': [-0.018453632328895117, 0.010411846367422489, 0.10508474576271186, 0.011933174224343675, 0.0035087719298245615], 'geometry': {'type': 'Point', 'coordinates': [-122.13408121150165, 37.477027090813074]}}, {'type': 'Feature', 'properties': [-0.018453632328895117, 0.010411846367422489, 0.10508474576271186, 0.011933174224343675, 0.0035087719298245615], 'geometry': {'type': 'Point', 'coordinates': [-122.13357874720067, 37.477230249015555]}}, {'type': 'Feature', 'properties': [-0.018453632328895117, 0.010411846367422489, 0.10508474576271186, 0.011933174224343675, 0.0035087719298245615], 'geometry': {'type': 'Point', 'coordinates': [-122.13307627989633, 37.47743340490925]}}, {'type': 'Feature', 'properties': [-0.018453632328895117, 0.010411846367422489, 0.10508474576271186, 0.011933174224343675, 0.0035087719298245615], 'geometry': {'type': 'Point', 'coordinates': [-122.13257380958872, 37.47763655849415]}}, {'type': 'Feature', 'properties': [-0.1117729502452698, -0.0034706154558074966, -0.03389830508474576, 0.0, 0.0], 'geometry': {'type': 'Point', 'coordinates': [-122.13207133627776, 37.47783970977023]}}, {'type': 'Feature', 'properties': [-0.1117729502452698, -0.0034706154558074966, -0.03389830508474576, 0.0, 0.0], 'geometry': {'type': 'Point', 'coordinates': [-122.13156885996354, 37.47804285873744]}}, {'type': 'Feature', 'properties': [-0.1117729502452698, -0.0034706154558074966, -0.03389830508474576, 0.0, 0.0], 'geometry': {'type': 'Point', 'coordinates': [-122.13106638064603, 37.47824600539579]}}, {'type': 'Feature', 'properties': [-0.1117729502452698, -0.0034706154558074966, -0.03389830508474576, 0.0, 0.0], 'geometry': {'type': 'Point', 'coordinates': [-122.1305638983253, 37.47844914974523]}}, {'type': 'Feature', 'properties': [0.31347815930857276, 0.5719574271170754, 0.8966101694915254, 0.1766109785202864, 0.028070175438596492], 'geometry': {'type': 'Point', 'coordinates': [-122.13533366526214, 37.4760171603697]}}, {'type': 'Feature', 'properties': [0.07054426535856108, 0.02892179546506247, 0.13559322033898305, 0.013126491646778043, 0.0035087719298245615], 'geometry': {'type': 'Point', 'coordinates': [-122.13483121216908, 37.476220324202586]}}, {'type': 'Feature', 'properties': [0.07054426535856108, 0.02892179546506247, 0.13559322033898305, 0.013126491646778043, 0.0035087719298245615], 'geometry': {'type': 'Point', 'coordinates': [-122.13432875607275, 37.476423485726805]}}, {'type': 'Feature', 'properties': [-0.018453632328895117, 0.010411846367422489, 0.10508474576271186, 0.011933174224343675, 0.0035087719298245615], 'geometry': {'type': 'Point', 'coordinates': [-122.13382629697308, 37.476626644942314]}}, {'type': 'Feature', 'properties': [-0.018453632328895117, 0.010411846367422489, 0.10508474576271186, 0.011933174224343675, 0.0035087719298245615], 'geometry': {'type': 'Point', 'coordinates': [-122.1333238348702, 37.47682980184908]}}, {'type': 'Feature', 'properties': [-0.018453632328895117, 0.010411846367422489, 0.10508474576271186, 0.011933174224343675, 0.0035087719298245615], 'geometry': {'type': 'Point', 'coordinates': [-122.13282136976402, 37.477032956447076]}}, {'type': 'Feature', 'properties': [-0.018453632328895117, 0.010411846367422489, 0.10508474576271186, 0.011933174224343675, 0.0035087719298245615], 'geometry': {'type': 'Point', 'coordinates': [-122.13231890165459, 37.477236108736285]}}, {'type': 'Feature', 'properties': [-0.1117729502452698, -0.0034706154558074966, -0.03389830508474576, 0.0, 0.0], 'geometry': {'type': 'Point', 'coordinates': [-122.13181643054186, 37.47743925871668]}}, {'type': 'Feature', 'properties': [-0.1117729502452698, -0.0034706154558074966, -0.03389830508474576, 0.0, 0.0], 'geometry': {'type': 'Point', 'coordinates': [-122.13131395642594, 37.47764240638823]}}, {'type': 'Feature', 'properties': [-0.1117729502452698, -0.0034706154558074966, -0.03389830508474576, 0.0, 0.0], 'geometry': {'type': 'Point', 'coordinates': [-122.13081147930676, 37.47784555175092]}}, {'type': 'Feature', 'properties': [-0.1117729502452698, -0.0034706154558074966, -0.03389830508474576, 0.0, 0.0], 'geometry': {'type': 'Point', 'coordinates': [-122.13030899918436, 37.47804869480473]}}, {'type': 'Feature', 'properties': [0.31347815930857276, 0.5719574271170754, 0.8966101694915254, 0.1766109785202864, 0.028070175438596492], 'geometry': {'type': 'Point', 'coordinates': [-122.13507874714293, 37.47561671797403]}}, {'type': 'Feature', 'properties': [0.07054426535856108, 0.02892179546506247, 0.13559322033898305, 0.013126491646778043, 0.0035087719298245615], 'geometry': {'type': 'Point', 'coordinates': [-122.13457629624779, 37.47581988051118]}}, {'type': 'Feature', 'properties': [0.07054426535856108, 0.02892179546506247, 0.13559322033898305, 0.013126491646778043, 0.0035087719298245615], 'geometry': {'type': 'Point', 'coordinates': [-122.13407384234941, 37.476023040739676]}}, {'type': 'Feature', 'properties': [0.07054426535856108, 0.02892179546506247, 0.13559322033898305, 0.013126491646778043, 0.0035087719298245615], 'geometry': {'type': 'Point', 'coordinates': [-122.13357138544784, 37.47622619865946]}}, {'type': 'Feature', 'properties': [-0.018453632328895117, 0.010411846367422489, 0.10508474576271186, 0.011933174224343675, 0.0035087719298245615], 'geometry': {'type': 'Point', 'coordinates': [-122.13306892554299, 37.47642935427051]}}, {'type': 'Feature', 'properties': [-0.018453632328895117, 0.010411846367422489, 0.10508474576271186, 0.011933174224343675, 0.0035087719298245615], 'geometry': {'type': 'Point', 'coordinates': [-122.13256646263495, 37.47663250757281]}}, {'type': 'Feature', 'properties': [-0.018453632328895117, 0.010411846367422489, 0.10508474576271186, 0.011933174224343675, 0.0035087719298245615], 'geometry': {'type': 'Point', 'coordinates': [-122.13206399672369, 37.47683565856633]}}, {'type': 'Feature', 'properties': [-0.1117729502452698, -0.0034706154558074966, -0.03389830508474576, 0.0, 0.0], 'geometry': {'type': 'Point', 'coordinates': [-122.13156152780925, 37.477038807251056]}}, {'type': 'Feature', 'properties': [-0.1117729502452698, -0.0034706154558074966, -0.03389830508474576, 0.0, 0.0], 'geometry': {'type': 'Point', 'coordinates': [-122.13105905589157, 37.47724195362695]}}, {'type': 'Feature', 'properties': [-0.1117729502452698, -0.0034706154558074966, -0.03389830508474576, 0.0, 0.0], 'geometry': {'type': 'Point', 'coordinates': [-122.13055658097075, 37.477445097693995]}}, {'type': 'Feature', 'properties': [-0.1117729502452698, -0.0034706154558074966, -0.03389830508474576, 0.0, 0.0], 'geometry': {'type': 'Point', 'coordinates': [-122.13005410304672, 37.47764823945215]}}, {'type': 'Feature', 'properties': [0.07054426535856108, 0.02892179546506247, 0.13559322033898305, 0.013126491646778043, 0.0035087719298245615], 'geometry': {'type': 'Point', 'coordinates': [-122.13482383202694, 37.47521627516628]}}, {'type': 'Feature', 'properties': [0.07054426535856108, 0.02892179546506247, 0.13559322033898305, 0.013126491646778043, 0.0035087719298245615], 'geometry': {'type': 'Point', 'coordinates': [-122.13432138332978, 37.47541943640771]}}, {'type': 'Feature', 'properties': [0.07054426535856108, 0.02892179546506247, 0.13559322033898305, 0.013126491646778043, 0.0035087719298245615], 'geometry': {'type': 'Point', 'coordinates': [-122.13381893162936, 37.47562259534047]}}, {'type': 'Feature', 'properties': [0.07054426535856108, 0.02892179546506247, 0.13559322033898305, 0.013126491646778043, 0.0035087719298245615], 'geometry': {'type': 'Point', 'coordinates': [-122.13331647692577, 37.47582575196452]}}, {'type': 'Feature', 'properties': [-0.018453632328895117, 0.010411846367422489, 0.10508474576271186, 0.011933174224343675, 0.0035087719298245615], 'geometry': {'type': 'Point', 'coordinates': [-122.13281401921903, 37.47602890627988]}}, {'type': 'Feature', 'properties': [-0.018453632328895117, 0.010411846367422489, 0.10508474576271186, 0.011933174224343675, 0.0035087719298245615], 'geometry': {'type': 'Point', 'coordinates': [-122.13231155850912, 37.476232058286485]}}, {'type': 'Feature', 'properties': [-0.1117729502452698, -0.0034706154558074966, -0.03389830508474576, 0.0, 0.0], 'geometry': {'type': 'Point', 'coordinates': [-122.13180909479601, 37.47643520798432]}}, {'type': 'Feature', 'properties': [-0.1117729502452698, -0.0034706154558074966, -0.03389830508474576, 0.0, 0.0], 'geometry': {'type': 'Point', 'coordinates': [-122.13130662807978, 37.47663835537339]}}, {'type': 'Feature', 'properties': [-0.1117729502452698, -0.0034706154558074966, -0.03389830508474576, 0.0, 0.0], 'geometry': {'type': 'Point', 'coordinates': [-122.13080415836039, 37.47684150045362]}}, {'type': 'Feature', 'properties': [-0.1117729502452698, -0.0034706154558074966, -0.03389830508474576, 0.0, 0.0], 'geometry': {'type': 'Point', 'coordinates': [-122.13030168563786, 37.477044643225014]}}, {'type': 'Feature', 'properties': [-0.1117729502452698, -0.0034706154558074966, -0.03389830508474576, 0.0, 0.0], 'geometry': {'type': 'Point', 'coordinates': [-122.1297992099122, 37.477247783687545]}}, {'type': 'Feature', 'properties': [0.07054426535856108, 0.02892179546506247, 0.13559322033898305, 0.013126491646778043, 0.0035087719298245615], 'geometry': {'type': 'Point', 'coordinates': [-122.13456891991419, 37.474815831946515]}}, {'type': 'Feature', 'properties': [0.07054426535856108, 0.02892179546506247, 0.13559322033898305, 0.013126491646778043, 0.0035087719298245615], 'geometry': {'type': 'Point', 'coordinates': [-122.13406647341489, 37.47501899189218]}}, {'type': 'Feature', 'properties': [0.07054426535856108, 0.02892179546506247, 0.13559322033898305, 0.013126491646778043, 0.0035087719298245615], 'geometry': {'type': 'Point', 'coordinates': [-122.13356402391246, 37.4752221495292]}}, {'type': 'Feature', 'properties': [0.07054426535856108, 0.02892179546506247, 0.13559322033898305, 0.013126491646778043, 0.0035087719298245615], 'geometry': {'type': 'Point', 'coordinates': [-122.13306157140696, 37.475425304857566]}}, {'type': 'Feature', 'properties': [0.07054426535856108, 0.02892179546506247, 0.13559322033898305, 0.013126491646778043, 0.0035087719298245615], 'geometry': {'type': 'Point', 'coordinates': [-122.13255911589825, 37.4756284578772]}}, {'type': 'Feature', 'properties': [0.07054426535856108, 0.02892179546506247, 0.13559322033898305, 0.013126491646778043, 0.0035087719298245615], 'geometry': {'type': 'Point', 'coordinates': [-122.13205665738646, 37.47583160858814]}}, {'type': 'Feature', 'properties': [-0.1117729502452698, -0.0034706154558074966, -0.03389830508474576, 0.0, 0.0], 'geometry': {'type': 'Point', 'coordinates': [-122.13155419587153, 37.4760347569903]}}, {'type': 'Feature', 'properties': [-0.1117729502452698, -0.0034706154558074966, -0.03389830508474576, 0.0, 0.0], 'geometry': {'type': 'Point', 'coordinates': [-122.13105173135348, 37.47623790308367]}}, {'type': 'Feature', 'properties': [-0.1117729502452698, -0.0034706154558074966, -0.03389830508474576, 0.0, 0.0], 'geometry': {'type': 'Point', 'coordinates': [-122.13054926383238, 37.47644104686827]}}, {'type': 'Feature', 'properties': [-0.1117729502452698, -0.0034706154558074966, -0.03389830508474576, 0.0, 0.0], 'geometry': {'type': 'Point', 'coordinates': [-122.13004679330811, 37.476644188344025]}}, {'type': 'Feature', 'properties': [-0.1117729502452698, -0.0034706154558074966, -0.03389830508474576, 0.0, 0.0], 'geometry': {'type': 'Point', 'coordinates': [-122.12954431978082, 37.47684732751092]}}, {'type': 'Feature', 'properties': [0.07054426535856108, 0.02892179546506247, 0.13559322033898305, 0.013126491646778043, 0.0035087719298245615], 'geometry': {'type': 'Point', 'coordinates': [-122.13431401080452, 37.47441538831469]}}, {'type': 'Feature', 'properties': [0.07054426535856108, 0.02892179546506247, 0.13559322033898305, 0.013126491646778043, 0.0035087719298245615], 'geometry': {'type': 'Point', 'coordinates': [-122.13381156650321, 37.47461854696464]}}, {'type': 'Feature', 'properties': [-0.018453632328895117, 0.010411846367422489, 0.10508474576271186, 0.011933174224343675, 0.0035087719298245615], 'geometry': {'type': 'Point', 'coordinates': [-122.13330911919873, 37.47482170330595]}}, {'type': 'Feature', 'properties': [-0.018453632328895117, 0.010411846367422489, 0.10508474576271186, 0.011933174224343675, 0.0035087719298245615], 'geometry': {'type': 'Point', 'coordinates': [-122.1328066688912, 37.475024857338596]}}, {'type': 'Feature', 'properties': [0.07054426535856108, 0.02892179546506247, 0.13559322033898305, 0.013126491646778043, 0.0035087719298245615], 'geometry': {'type': 'Point', 'coordinates': [-122.13230421558056, 37.47522800906255]}}, {'type': 'Feature', 'properties': [0.07054426535856108, 0.02892179546506247, 0.13559322033898305, 0.013126491646778043, 0.0035087719298245615], 'geometry': {'type': 'Point', 'coordinates': [-122.13180175926685, 37.47543115847778]}}, {'type': 'Feature', 'properties': [0.07054426535856108, 0.02892179546506247, 0.13559322033898305, 0.013126491646778043, 0.0035087719298245615], 'geometry': {'type': 'Point', 'coordinates': [-122.13129929995007, 37.475634305584265]}}, {'type': 'Feature', 'properties': [-0.1117729502452698, -0.0034706154558074966, -0.03389830508474576, 0.0, 0.0], 'geometry': {'type': 'Point', 'coordinates': [-122.13079683763026, 37.475837450381995]}}, {'type': 'Feature', 'properties': [-0.1117729502452698, -0.0034706154558074966, -0.03389830508474576, 0.0, 0.0], 'geometry': {'type': 'Point', 'coordinates': [-122.13029437230739, 37.47604059287092]}}, {'type': 'Feature', 'properties': [-0.1117729502452698, -0.0034706154558074966, -0.03389830508474576, 0.0, 0.0], 'geometry': {'type': 'Point', 'coordinates': [-122.12979190398144, 37.476243733051035]}}, {'type': 'Feature', 'properties': [-0.1117729502452698, -0.0034706154558074966, -0.03389830508474576, 0.0, 0.0], 'geometry': {'type': 'Point', 'coordinates': [-122.12928943265256, 37.47644687092231]}}, {'type': 'Feature', 'properties': [0.2831114225648213, 0.08051827857473393, 0.4152542372881356, 0.05250596658711217, 0.03859649122807018], 'geometry': {'type': 'Point', 'coordinates': [-122.13405910469804, 37.474014944270905]}}, {'type': 'Feature', 'properties': [0.2831114225648213, 0.08051827857473393, 0.4152542372881356, 0.05250596658711217, 0.03859649122807018], 'geometry': {'type': 'Point', 'coordinates': [-122.13355666259456, 37.47421810162512]}}, {'type': 'Feature', 'properties': [0.07054426535856108, 0.02892179546506247, 0.13559322033898305, 0.013126491646778043, 0.0035087719298245615], 'geometry': {'type': 'Point', 'coordinates': [-122.13305421748808, 37.474421256670695]}}, {'type': 'Feature', 'properties': [0.07054426535856108, 0.02892179546506247, 0.13559322033898305, 0.013126491646778043, 0.0035087719298245615], 'geometry': {'type': 'Point', 'coordinates': [-122.13255176937852, 37.474624409407646]}}, {'type': 'Feature', 'properties': [0.07054426535856108, 0.02892179546506247, 0.13559322033898305, 0.013126491646778043, 0.0035087719298245615], 'geometry': {'type': 'Point', 'coordinates': [-122.13204931826597, 37.4748275598359]}}, {'type': 'Feature', 'properties': [0.07054426535856108, 0.02892179546506247, 0.13559322033898305, 0.013126491646778043, 0.0035087719298245615], 'geometry': {'type': 'Point', 'coordinates': [-122.13154686415037, 37.47503070795544]}}, {'type': 'Feature', 'properties': [-0.018453632328895117, 0.010411846367422489, 0.10508474576271186, 0.011933174224343675, 0.0035087719298245615], 'geometry': {'type': 'Point', 'coordinates': [-122.13104440703175, 37.47523385376628]}}, {'type': 'Feature', 'properties': [-0.018453632328895117, 0.010411846367422489, 0.10508474576271186, 0.011933174224343675, 0.0035087719298245615], 'geometry': {'type': 'Point', 'coordinates': [-122.13054194691013, 37.47543699726834]}}, {'type': 'Feature', 'properties': [-0.1117729502452698, -0.0034706154558074966, -0.03389830508474576, 0.0, 0.0], 'geometry': {'type': 'Point', 'coordinates': [-122.13003948378547, 37.47564013846163]}}, {'type': 'Feature', 'properties': [-0.1117729502452698, -0.0034706154558074966, -0.03389830508474576, 0.0, 0.0], 'geometry': {'type': 'Point', 'coordinates': [-122.12953701765784, 37.47584327734611]}}, {'type': 'Feature', 'properties': [-0.1117729502452698, -0.0034706154558074966, -0.03389830508474576, 0.0, 0.0], 'geometry': {'type': 'Point', 'coordinates': [-122.12903454852724, 37.476046413921765]}}, {'type': 'Feature', 'properties': [0.2831114225648213, 0.08051827857473393, 0.4152542372881356, 0.05250596658711217, 0.03859649122807018], 'geometry': {'type': 'Point', 'coordinates': [-122.13380420159456, 37.473614499815135]}}, {'type': 'Feature', 'properties': [0.07054426535856108, 0.02892179546506247, 0.13559322033898305, 0.013126491646778043, 0.0035087719298245615], 'geometry': {'type': 'Point', 'coordinates': [-122.13330176168898, 37.47381765587362]}}, {'type': 'Feature', 'properties': [0.07054426535856108, 0.02892179546506247, 0.13559322033898305, 0.013126491646778043, 0.0035087719298245615], 'geometry': {'type': 'Point', 'coordinates': [-122.13279931878046, 37.474020809623504]}}, {'type': 'Feature', 'properties': [0.07054426535856108, 0.02892179546506247, 0.13559322033898305, 0.013126491646778043, 0.0035087719298245615], 'geometry': {'type': 'Point', 'coordinates': [-122.13229687286889, 37.47422396106474]}}, {'type': 'Feature', 'properties': [0.07054426535856108, 0.02892179546506247, 0.13559322033898305, 0.013126491646778043, 0.0035087719298245615], 'geometry': {'type': 'Point', 'coordinates': [-122.13179442395439, 37.474427110197304]}}, {'type': 'Feature', 'properties': [0.07054426535856108, 0.02892179546506247, 0.13559322033898305, 0.013126491646778043, 0.0035087719298245615], 'geometry': {'type': 'Point', 'coordinates': [-122.1312919720369, 37.47463025702119]}}, {'type': 'Feature', 'properties': [-0.018453632328895117, 0.010411846367422489, 0.10508474576271186, 0.011933174224343675, 0.0035087719298245615], 'geometry': {'type': 'Point', 'coordinates': [-122.1307895171164, 37.47483340153634]}}, {'type': 'Feature', 'properties': [-0.018453632328895117, 0.010411846367422489, 0.10508474576271186, 0.011933174224343675, 0.0035087719298245615], 'geometry': {'type': 'Point', 'coordinates': [-122.13028705919297, 37.47503654374276]}}, {'type': 'Feature', 'properties': [-0.018453632328895117, 0.010411846367422489, 0.10508474576271186, 0.011933174224343675, 0.0035087719298245615], 'geometry': {'type': 'Point', 'coordinates': [-122.12978459826655, 37.4752396836404]}}, {'type': 'Feature', 'properties': [-0.1117729502452698, -0.0034706154558074966, -0.03389830508474576, 0.0, 0.0], 'geometry': {'type': 'Point', 'coordinates': [-122.12928213433723, 37.475442821229265]}}, {'type': 'Feature', 'properties': [-0.1117729502452698, -0.0034706154558074966, -0.03389830508474576, 0.0, 0.0], 'geometry': {'type': 'Point', 'coordinates': [-122.12877966740498, 37.475645956509304]}}, {'type': 'Feature', 'properties': [0.2831114225648213, 0.08051827857473393, 0.4152542372881356, 0.05250596658711217, 0.03859649122807018], 'geometry': {'type': 'Point', 'coordinates': [-122.13354930149416, 37.47321405494745]}}, {'type': 'Feature', 'properties': [0.2831114225648213, 0.08051827857473393, 0.4152542372881356, 0.05250596658711217, 0.03859649122807018], 'geometry': {'type': 'Point', 'coordinates': [-122.13304686378646, 37.473417209710206]}}, {'type': 'Feature', 'properties': [0.07054426535856108, 0.02892179546506247, 0.13559322033898305, 0.013126491646778043, 0.0035087719298245615], 'geometry': {'type': 'Point', 'coordinates': [-122.13254442307586, 37.47362036216438]}}, {'type': 'Feature', 'properties': [0.07054426535856108, 0.02892179546506247, 0.13559322033898305, 0.013126491646778043, 0.0035087719298245615], 'geometry': {'type': 'Point', 'coordinates': [-122.13204197936228, 37.47382351230993]}}, {'type': 'Feature', 'properties': [0.07054426535856108, 0.02892179546506247, 0.13559322033898305, 0.013126491646778043, 0.0035087719298245615], 'geometry': {'type': 'Point', 'coordinates': [-122.13153953264577, 37.4740266601468]}}, {'type': 'Feature', 'properties': [-0.018453632328895117, 0.010411846367422489, 0.10508474576271186, 0.011933174224343675, 0.0035087719298245615], 'geometry': {'type': 'Point', 'coordinates': [-122.13103708292634, 37.474229805675]}}, {'type': 'Feature', 'properties': [-0.018453632328895117, 0.010411846367422489, 0.10508474576271186, 0.011933174224343675, 0.0035087719298245615], 'geometry': {'type': 'Point', 'coordinates': [-122.13053463020401, 37.4744329488945]}}, {'type': 'Feature', 'properties': [-0.018453632328895117, 0.010411846367422489, 0.10508474576271186, 0.011933174224343675, 0.0035087719298245615], 'geometry': {'type': 'Point', 'coordinates': [-122.13003217447873, 37.47463608980526]}}, {'type': 'Feature', 'properties': [-0.018453632328895117, 0.010411846367422489, 0.10508474576271186, 0.011933174224343675, 0.0035087719298245615], 'geometry': {'type': 'Point', 'coordinates': [-122.12952971575059, 37.47483922840728]}}, {'type': 'Feature', 'properties': [-0.1117729502452698, -0.0034706154558074966, -0.03389830508474576, 0.0, 0.0], 'geometry': {'type': 'Point', 'coordinates': [-122.12902725401953, 37.47504236470051]}}, {'type': 'Feature', 'properties': [-0.1117729502452698, -0.0034706154558074966, -0.03389830508474576, 0.0, 0.0], 'geometry': {'type': 'Point', 'coordinates': [-122.12852478928556, 37.475245498684934]}}, {'type': 'Feature', 'properties': [0.2831114225648213, 0.08051827857473393, 0.4152542372881356, 0.05250596658711217, 0.03859649122807018], 'geometry': {'type': 'Point', 'coordinates': [-122.13329440439662, 37.47281360966785]}}, {'type': 'Feature', 'properties': [0.2831114225648213, 0.08051827857473393, 0.4152542372881356, 0.05250596658711217, 0.03859649122807018], 'geometry': {'type': 'Point', 'coordinates': [-122.13279196888688, 37.47301676313491]}}, {'type': 'Feature', 'properties': [0.16760102779724365, 0.03944932901434521, 0.16101694915254236, 0.013126491646778043, 0.0035087719298245615], 'geometry': {'type': 'Point', 'coordinates': [-122.13228953037418, 37.47321991429337]}}, {'type': 'Feature', 'properties': [0.16760102779724365, 0.03944932901434521, 0.16101694915254236, 0.013126491646778043, 0.0035087719298245615], 'geometry': {'type': 'Point', 'coordinates': [-122.13178708885856, 37.4734230631432]}}, {'type': 'Feature', 'properties': [0.07054426535856108, 0.02892179546506247, 0.13559322033898305, 0.013126491646778043, 0.0035087719298245615], 'geometry': {'type': 'Point', 'coordinates': [-122.13128464434011, 37.47362620968441]}}, {'type': 'Feature', 'properties': [0.07054426535856108, 0.02892179546506247, 0.13559322033898305, 0.013126491646778043, 0.0035087719298245615], 'geometry': {'type': 'Point', 'coordinates': [-122.13078219681876, 37.47382935391695]}}, {'type': 'Feature', 'properties': [0.07054426535856108, 0.02892179546506247, 0.13559322033898305, 0.013126491646778043, 0.0035087719298245615], 'geometry': {'type': 'Point', 'coordinates': [-122.1302797462945, 37.474032495840774]}}, {'type': 'Feature', 'properties': [-0.018453632328895117, 0.010411846367422489, 0.10508474576271186, 0.011933174224343675, 0.0035087719298245615], 'geometry': {'type': 'Point', 'coordinates': [-122.12977729276749, 37.474235635455905]}}, {'type': 'Feature', 'properties': [-0.1117729502452698, -0.0034706154558074966, -0.03389830508474576, 0.0, 0.0], 'geometry': {'type': 'Point', 'coordinates': [-122.12927483623751, 37.474438772762284]}}, {'type': 'Feature', 'properties': [-0.1117729502452698, -0.0034706154558074966, -0.03389830508474576, 0.0, 0.0], 'geometry': {'type': 'Point', 'coordinates': [-122.12877237670473, 37.47464190775989]}}, {'type': 'Feature', 'properties': [-0.1117729502452698, -0.0034706154558074966, -0.03389830508474576, 0.0, 0.0], 'geometry': {'type': 'Point', 'coordinates': [-122.1282699141691, 37.474845040448706]}}, {'type': 'Feature', 'properties': [0.2831114225648213, 0.08051827857473393, 0.4152542372881356, 0.05250596658711217, 0.03859649122807018], 'geometry': {'type': 'Point', 'coordinates': [-122.13303951030204, 37.472413163976384]}}, {'type': 'Feature', 'properties': [0.38016818500350386, 0.09104581212401666, 0.4406779661016949, 0.05250596658711217, 0.03859649122807018], 'geometry': {'type': 'Point', 'coordinates': [-122.13253707699016, 37.47261631614773]}}, {'type': 'Feature', 'properties': [0.38016818500350386, 0.09104581212401666, 0.4406779661016949, 0.05250596658711217, 0.03859649122807018], 'geometry': {'type': 'Point', 'coordinates': [-122.13203464067541, 37.47281946601049]}}, {'type': 'Feature', 'properties': [0.38016818500350386, 0.09104581212401666, 0.4406779661016949, 0.05250596658711217, 0.03859649122807018], 'geometry': {'type': 'Point', 'coordinates': [-122.13153220135779, 37.47302261356464]}}, {'type': 'Feature', 'properties': [0.07054426535856108, 0.02892179546506247, 0.13559322033898305, 0.013126491646778043, 0.0035087719298245615], 'geometry': {'type': 'Point', 'coordinates': [-122.13102975903732, 37.473225758810166]}}, {'type': 'Feature', 'properties': [0.07054426535856108, 0.02892179546506247, 0.13559322033898305, 0.013126491646778043, 0.0035087719298245615], 'geometry': {'type': 'Point', 'coordinates': [-122.13052731371404, 37.473428901747035]}}, {'type': 'Feature', 'properties': [0.07054426535856108, 0.02892179546506247, 0.13559322033898305, 0.013126491646778043, 0.0035087719298245615], 'geometry': {'type': 'Point', 'coordinates': [-122.13002486538794, 37.473632042375215]}}, {'type': 'Feature', 'properties': [0.07054426535856108, 0.02892179546506247, 0.13559322033898305, 0.013126491646778043, 0.0035087719298245615], 'geometry': {'type': 'Point', 'coordinates': [-122.12952241405902, 37.4738351806947]}}, {'type': 'Feature', 'properties': [-0.1117729502452698, -0.0034706154558074966, -0.03389830508474576, 0.0, 0.0], 'geometry': {'type': 'Point', 'coordinates': [-122.12901995972729, 37.47403831670546]}}, {'type': 'Feature', 'properties': [-0.1117729502452698, -0.0034706154558074966, -0.03389830508474576, 0.0, 0.0], 'geometry': {'type': 'Point', 'coordinates': [-122.12851750239277, 37.47424145040745]}}, {'type': 'Feature', 'properties': [-0.1117729502452698, -0.0034706154558074966, -0.03389830508474576, 0.0, 0.0], 'geometry': {'type': 'Point', 'coordinates': [-122.12801504205547, 37.474444581800654]}}]}, 'numeric': [{'name': 'walkable_housing', 'value': 0.027998450351111665, 'raw_value': 1196.722731906218, 'ref_value': 0.027998450351111665, 'viz_type': 'radar'}, {'name': 'walkable_employment', 'value': 0.19307323778174973, 'raw_value': 1698.9250673854447, 'ref_value': 0.19307323778174973, 'viz_type': 'radar'}, {'name': 'walkable_healthcare', 'value': 0.35408515692813747, 'raw_value': 228.9102425876011, 'ref_value': 0.35408515692813747, 'viz_type': 'radar'}, {'name': 'walkable_hospitality', 'value': 0.09339526146839155, 'raw_value': 78.26522911051212, 'ref_value': 0.09339526146839155, 'viz_type': 'radar'}, {'name': 'walkable_shopping', 'value': 0.11332647656878043, 'raw_value': 129.1921832884097, 'ref_value': 0.11332647656878043, 'viz_type': 'radar'}]}\n",
      "Dens Ind: 0:00:00.001653\n",
      "[{'name': 'Res Density', 'raw_value': 0.0005900377767312957, 'value': 0.0005900377767312957, 'ref_value': 0.0005900377767312957}, {'name': 'Emp Density', 'raw_value': 0.000780090375974934, 'value': 0.000780090375974934, 'ref_value': 0.000780090375974934}, {'name': 'Live Work Score', 'raw_value': 0.7563710499490316, 'value': 0.7563710499490316, 'ref_value': 0.7563710499490316}, {'name': 'Industry Diversity', 'raw_value': 0.6934262374103078, 'value': 0.6934262374103078, 'ref_value': 0.6934262374103078}, {'name': 'Income Diversity', 'raw_value': 0.9319676018147283, 'value': 0.9319676018147283, 'ref_value': 0.9319676018147283}]\n"
     ]
    }
   ],
   "source": [
    "geogrid_data=H.get_geogrid_data()\n",
    "print(m.return_indicator(geogrid_data))\n",
    "print(p.return_indicator(geogrid_data))\n",
    "print(d.return_indicator(geogrid_data))"
   ]
  },
  {
   "cell_type": "code",
   "execution_count": null,
   "metadata": {},
   "outputs": [
    {
     "name": "stdout",
     "output_type": "stream",
     "text": [
      "Table URL: https://cityscope.media.mit.edu/CS_cityscopeJS/?cityscope=epa\n",
      "Testing indicators\n",
      "https://cityio.media.mit.edu/api/table/epa/GEOGRIDDATA/ Attempt: 0\n",
      "Dens Ind: 0:00:00.003377\n",
      "Prox Ind: 0:00:00.013634\n",
      "Prox HM: 0:00:00.001432\n",
      "Starting MM Update\n",
      "Schedules and locations\n",
      "OD\n",
      "Trip table\n",
      "Route table\n",
      "DeckGL\n"
     ]
    },
    {
     "name": "stderr",
     "output_type": "stream",
     "text": [
      "/Users/ronandoorley/Documents/Media_Lab/CityScope/CS_Spatial_Modules/Simulation.py:407: SettingWithCopyWarning: \n",
      "A value is trying to be set on a copy of a slice from a DataFrame.\n",
      "Try using .loc[row_indexer,col_indexer] = value instead\n",
      "\n",
      "See the caveats in the documentation: https://pandas.pydata.org/pandas-docs/stable/user_guide/indexing.html#returning-a-view-versus-a-copy\n",
      "  route_table_this_mode['node_path']=routes['node_path']\n",
      "/Users/ronandoorley/Documents/Media_Lab/CityScope/CS_Spatial_Modules/Simulation.py:408: SettingWithCopyWarning: \n",
      "A value is trying to be set on a copy of a slice from a DataFrame.\n",
      "Try using .loc[row_indexer,col_indexer] = value instead\n",
      "\n",
      "See the caveats in the documentation: https://pandas.pydata.org/pandas-docs/stable/user_guide/indexing.html#returning-a-view-versus-a-copy\n",
      "  route_table_this_mode['attributes']=routes['attributes']\n"
     ]
    },
    {
     "name": "stdout",
     "output_type": "stream",
     "text": [
      "Post ABM: <Response [200]>\n",
      "Post OD: <Response [200]>\n",
      "Finished MM Update\n",
      "\t calculation took 0:00:00.129374\n",
      "\t trips post took 0:00:02.811361\n",
      "Performing initial update\n",
      "Updating geogrid_data\n",
      "https://cityio.media.mit.edu/api/table/epa/GEOGRIDDATA/ Attempt: 0\n",
      "https://cityio.media.mit.edu/api/table/epa/meta/hashes/ Attempt: 0\n",
      "Updating table with hash: 9ppgMoPt6nVeJrGBzKefsrhFcyr2UFReaRF7pksagmxQ\n",
      "https://cityio.media.mit.edu/api/table/epa/GEOGRIDDATA/ Attempt: 0\n",
      "Dens Ind: 0:00:00.002210\n",
      "Prox Ind: 0:00:00.011890\n",
      "Prox HM: 0:00:00.001388\n",
      "Starting MM Update\n",
      "Schedules and locations\n",
      "OD\n",
      "Trip table\n",
      "Route table\n",
      "DeckGL\n"
     ]
    },
    {
     "name": "stderr",
     "output_type": "stream",
     "text": [
      "/Users/ronandoorley/Documents/Media_Lab/CityScope/CS_Spatial_Modules/Simulation.py:407: SettingWithCopyWarning: \n",
      "A value is trying to be set on a copy of a slice from a DataFrame.\n",
      "Try using .loc[row_indexer,col_indexer] = value instead\n",
      "\n",
      "See the caveats in the documentation: https://pandas.pydata.org/pandas-docs/stable/user_guide/indexing.html#returning-a-view-versus-a-copy\n",
      "  route_table_this_mode['node_path']=routes['node_path']\n",
      "/Users/ronandoorley/Documents/Media_Lab/CityScope/CS_Spatial_Modules/Simulation.py:408: SettingWithCopyWarning: \n",
      "A value is trying to be set on a copy of a slice from a DataFrame.\n",
      "Try using .loc[row_indexer,col_indexer] = value instead\n",
      "\n",
      "See the caveats in the documentation: https://pandas.pydata.org/pandas-docs/stable/user_guide/indexing.html#returning-a-view-versus-a-copy\n",
      "  route_table_this_mode['attributes']=routes['attributes']\n"
     ]
    },
    {
     "name": "stdout",
     "output_type": "stream",
     "text": [
      "Post ABM: <Response [200]>\n",
      "Post OD: <Response [200]>\n",
      "Finished MM Update\n",
      "\t calculation took 0:00:00.202527\n",
      "\t trips post took 0:00:01.922680\n",
      "Done with update\n",
      "Local grid hash: 9ppgMoPt6nVeJrGBzKefsrhFcyr2UFReaRF7pksagmxQ\n",
      "https://cityio.media.mit.edu/api/table/epa/meta/hashes/ Attempt: 0\n",
      "https://cityio.media.mit.edu/api/table/epa/meta/hashes/ Attempt: 0\n",
      "https://cityio.media.mit.edu/api/table/epa/meta/hashes/ Attempt: 0\n",
      "https://cityio.media.mit.edu/api/table/epa/meta/hashes/ Attempt: 0\n",
      "https://cityio.media.mit.edu/api/table/epa/meta/hashes/ Attempt: 0\n",
      "https://cityio.media.mit.edu/api/table/epa/meta/hashes/ Attempt: 0\n",
      "https://cityio.media.mit.edu/api/table/epa/meta/hashes/ Attempt: 0\n",
      "https://cityio.media.mit.edu/api/table/epa/meta/hashes/ Attempt: 0\n",
      "https://cityio.media.mit.edu/api/table/epa/meta/hashes/ Attempt: 0\n",
      "https://cityio.media.mit.edu/api/table/epa/meta/hashes/ Attempt: 0\n",
      "https://cityio.media.mit.edu/api/table/epa/meta/hashes/ Attempt: 0\n",
      "https://cityio.media.mit.edu/api/table/epa/meta/hashes/ Attempt: 0\n",
      "https://cityio.media.mit.edu/api/table/epa/meta/hashes/ Attempt: 0\n",
      "https://cityio.media.mit.edu/api/table/epa/meta/hashes/ Attempt: 0\n",
      "https://cityio.media.mit.edu/api/table/epa/meta/hashes/ Attempt: 0\n",
      "https://cityio.media.mit.edu/api/table/epa/meta/hashes/ Attempt: 0\n",
      "https://cityio.media.mit.edu/api/table/epa/meta/hashes/ Attempt: 0\n",
      "https://cityio.media.mit.edu/api/table/epa/meta/hashes/ Attempt: 0\n",
      "https://cityio.media.mit.edu/api/table/epa/meta/hashes/ Attempt: 0\n",
      "https://cityio.media.mit.edu/api/table/epa/meta/hashes/ Attempt: 0\n",
      "https://cityio.media.mit.edu/api/table/epa/meta/hashes/ Attempt: 0\n",
      "https://cityio.media.mit.edu/api/table/epa/meta/hashes/ Attempt: 0\n",
      "https://cityio.media.mit.edu/api/table/epa/meta/hashes/ Attempt: 0\n",
      "https://cityio.media.mit.edu/api/table/epa/meta/hashes/ Attempt: 0\n",
      "https://cityio.media.mit.edu/api/table/epa/meta/hashes/ Attempt: 0\n",
      "https://cityio.media.mit.edu/api/table/epa/meta/hashes/ Attempt: 0\n",
      "https://cityio.media.mit.edu/api/table/epa/meta/hashes/ Attempt: 0\n",
      "https://cityio.media.mit.edu/api/table/epa/meta/hashes/ Attempt: 0\n",
      "https://cityio.media.mit.edu/api/table/epa/meta/hashes/ Attempt: 0\n",
      "https://cityio.media.mit.edu/api/table/epa/meta/hashes/ Attempt: 0\n",
      "https://cityio.media.mit.edu/api/table/epa/meta/hashes/ Attempt: 0\n",
      "https://cityio.media.mit.edu/api/table/epa/meta/hashes/ Attempt: 0\n",
      "https://cityio.media.mit.edu/api/table/epa/meta/hashes/ Attempt: 0\n",
      "https://cityio.media.mit.edu/api/table/epa/meta/hashes/ Attempt: 0\n",
      "https://cityio.media.mit.edu/api/table/epa/meta/hashes/ Attempt: 0\n",
      "https://cityio.media.mit.edu/api/table/epa/meta/hashes/ Attempt: 0\n",
      "https://cityio.media.mit.edu/api/table/epa/meta/hashes/ Attempt: 0\n",
      "https://cityio.media.mit.edu/api/table/epa/meta/hashes/ Attempt: 0\n",
      "https://cityio.media.mit.edu/api/table/epa/meta/hashes/ Attempt: 0\n",
      "https://cityio.media.mit.edu/api/table/epa/meta/hashes/ Attempt: 0\n",
      "https://cityio.media.mit.edu/api/table/epa/meta/hashes/ Attempt: 0\n",
      "https://cityio.media.mit.edu/api/table/epa/meta/hashes/ Attempt: 0\n",
      "https://cityio.media.mit.edu/api/table/epa/meta/hashes/ Attempt: 0\n",
      "https://cityio.media.mit.edu/api/table/epa/meta/hashes/ Attempt: 0\n",
      "https://cityio.media.mit.edu/api/table/epa/meta/hashes/ Attempt: 0\n",
      "https://cityio.media.mit.edu/api/table/epa/meta/hashes/ Attempt: 0\n",
      "https://cityio.media.mit.edu/api/table/epa/meta/hashes/ Attempt: 0\n",
      "https://cityio.media.mit.edu/api/table/epa/meta/hashes/ Attempt: 0\n",
      "https://cityio.media.mit.edu/api/table/epa/meta/hashes/ Attempt: 0\n",
      "https://cityio.media.mit.edu/api/table/epa/meta/hashes/ Attempt: 0\n",
      "https://cityio.media.mit.edu/api/table/epa/meta/hashes/ Attempt: 0\n",
      "https://cityio.media.mit.edu/api/table/epa/meta/hashes/ Attempt: 0\n",
      "https://cityio.media.mit.edu/api/table/epa/meta/hashes/ Attempt: 0\n",
      "https://cityio.media.mit.edu/api/table/epa/meta/hashes/ Attempt: 0\n",
      "https://cityio.media.mit.edu/api/table/epa/meta/hashes/ Attempt: 0\n",
      "https://cityio.media.mit.edu/api/table/epa/meta/hashes/ Attempt: 0\n",
      "https://cityio.media.mit.edu/api/table/epa/meta/hashes/ Attempt: 0\n",
      "https://cityio.media.mit.edu/api/table/epa/meta/hashes/ Attempt: 0\n",
      "https://cityio.media.mit.edu/api/table/epa/meta/hashes/ Attempt: 0\n",
      "https://cityio.media.mit.edu/api/table/epa/meta/hashes/ Attempt: 0\n",
      "https://cityio.media.mit.edu/api/table/epa/meta/hashes/ Attempt: 0\n",
      "https://cityio.media.mit.edu/api/table/epa/meta/hashes/ Attempt: 0\n",
      "https://cityio.media.mit.edu/api/table/epa/meta/hashes/ Attempt: 0\n",
      "https://cityio.media.mit.edu/api/table/epa/meta/hashes/ Attempt: 0\n",
      "https://cityio.media.mit.edu/api/table/epa/meta/hashes/ Attempt: 0\n",
      "https://cityio.media.mit.edu/api/table/epa/meta/hashes/ Attempt: 0\n",
      "https://cityio.media.mit.edu/api/table/epa/meta/hashes/ Attempt: 0\n",
      "https://cityio.media.mit.edu/api/table/epa/meta/hashes/ Attempt: 0\n",
      "https://cityio.media.mit.edu/api/table/epa/meta/hashes/ Attempt: 0\n",
      "https://cityio.media.mit.edu/api/table/epa/meta/hashes/ Attempt: 0\n",
      "https://cityio.media.mit.edu/api/table/epa/meta/hashes/ Attempt: 0\n",
      "https://cityio.media.mit.edu/api/table/epa/meta/hashes/ Attempt: 0\n",
      "https://cityio.media.mit.edu/api/table/epa/meta/hashes/ Attempt: 0\n",
      "https://cityio.media.mit.edu/api/table/epa/meta/hashes/ Attempt: 0\n",
      "https://cityio.media.mit.edu/api/table/epa/meta/hashes/ Attempt: 0\n",
      "https://cityio.media.mit.edu/api/table/epa/meta/hashes/ Attempt: 0\n",
      "https://cityio.media.mit.edu/api/table/epa/meta/hashes/ Attempt: 0\n",
      "https://cityio.media.mit.edu/api/table/epa/meta/hashes/ Attempt: 0\n",
      "https://cityio.media.mit.edu/api/table/epa/meta/hashes/ Attempt: 0\n",
      "https://cityio.media.mit.edu/api/table/epa/meta/hashes/ Attempt: 0\n",
      "https://cityio.media.mit.edu/api/table/epa/meta/hashes/ Attempt: 0\n",
      "https://cityio.media.mit.edu/api/table/epa/meta/hashes/ Attempt: 0\n",
      "https://cityio.media.mit.edu/api/table/epa/meta/hashes/ Attempt: 0\n",
      "https://cityio.media.mit.edu/api/table/epa/meta/hashes/ Attempt: 0\n",
      "https://cityio.media.mit.edu/api/table/epa/meta/hashes/ Attempt: 0\n",
      "https://cityio.media.mit.edu/api/table/epa/meta/hashes/ Attempt: 0\n",
      "https://cityio.media.mit.edu/api/table/epa/meta/hashes/ Attempt: 0\n",
      "https://cityio.media.mit.edu/api/table/epa/meta/hashes/ Attempt: 0\n",
      "https://cityio.media.mit.edu/api/table/epa/meta/hashes/ Attempt: 0\n",
      "https://cityio.media.mit.edu/api/table/epa/meta/hashes/ Attempt: 0\n",
      "https://cityio.media.mit.edu/api/table/epa/meta/hashes/ Attempt: 0\n",
      "https://cityio.media.mit.edu/api/table/epa/meta/hashes/ Attempt: 0\n",
      "https://cityio.media.mit.edu/api/table/epa/meta/hashes/ Attempt: 0\n",
      "https://cityio.media.mit.edu/api/table/epa/meta/hashes/ Attempt: 0\n",
      "https://cityio.media.mit.edu/api/table/epa/meta/hashes/ Attempt: 0\n",
      "https://cityio.media.mit.edu/api/table/epa/meta/hashes/ Attempt: 0\n",
      "https://cityio.media.mit.edu/api/table/epa/meta/hashes/ Attempt: 0\n",
      "https://cityio.media.mit.edu/api/table/epa/meta/hashes/ Attempt: 0\n",
      "https://cityio.media.mit.edu/api/table/epa/meta/hashes/ Attempt: 0\n",
      "https://cityio.media.mit.edu/api/table/epa/meta/hashes/ Attempt: 0\n",
      "https://cityio.media.mit.edu/api/table/epa/meta/hashes/ Attempt: 0\n",
      "https://cityio.media.mit.edu/api/table/epa/meta/hashes/ Attempt: 0\n",
      "https://cityio.media.mit.edu/api/table/epa/meta/hashes/ Attempt: 0\n",
      "https://cityio.media.mit.edu/api/table/epa/meta/hashes/ Attempt: 0\n",
      "https://cityio.media.mit.edu/api/table/epa/meta/hashes/ Attempt: 0\n",
      "https://cityio.media.mit.edu/api/table/epa/meta/hashes/ Attempt: 0\n",
      "https://cityio.media.mit.edu/api/table/epa/meta/hashes/ Attempt: 0\n",
      "https://cityio.media.mit.edu/api/table/epa/meta/hashes/ Attempt: 0\n",
      "https://cityio.media.mit.edu/api/table/epa/meta/hashes/ Attempt: 0\n",
      "https://cityio.media.mit.edu/api/table/epa/meta/hashes/ Attempt: 0\n",
      "https://cityio.media.mit.edu/api/table/epa/meta/hashes/ Attempt: 0\n",
      "https://cityio.media.mit.edu/api/table/epa/meta/hashes/ Attempt: 0\n",
      "https://cityio.media.mit.edu/api/table/epa/meta/hashes/ Attempt: 0\n",
      "https://cityio.media.mit.edu/api/table/epa/meta/hashes/ Attempt: 0\n",
      "https://cityio.media.mit.edu/api/table/epa/meta/hashes/ Attempt: 0\n",
      "https://cityio.media.mit.edu/api/table/epa/meta/hashes/ Attempt: 0\n",
      "https://cityio.media.mit.edu/api/table/epa/meta/hashes/ Attempt: 0\n",
      "https://cityio.media.mit.edu/api/table/epa/meta/hashes/ Attempt: 0\n",
      "https://cityio.media.mit.edu/api/table/epa/meta/hashes/ Attempt: 0\n",
      "https://cityio.media.mit.edu/api/table/epa/meta/hashes/ Attempt: 0\n"
     ]
    },
    {
     "name": "stdout",
     "output_type": "stream",
     "text": [
      "https://cityio.media.mit.edu/api/table/epa/meta/hashes/ Attempt: 0\n",
      "https://cityio.media.mit.edu/api/table/epa/meta/hashes/ Attempt: 0\n",
      "https://cityio.media.mit.edu/api/table/epa/meta/hashes/ Attempt: 0\n",
      "https://cityio.media.mit.edu/api/table/epa/meta/hashes/ Attempt: 0\n",
      "https://cityio.media.mit.edu/api/table/epa/meta/hashes/ Attempt: 0\n",
      "https://cityio.media.mit.edu/api/table/epa/meta/hashes/ Attempt: 0\n",
      "https://cityio.media.mit.edu/api/table/epa/meta/hashes/ Attempt: 0\n",
      "https://cityio.media.mit.edu/api/table/epa/meta/hashes/ Attempt: 0\n",
      "https://cityio.media.mit.edu/api/table/epa/meta/hashes/ Attempt: 0\n",
      "https://cityio.media.mit.edu/api/table/epa/meta/hashes/ Attempt: 0\n",
      "https://cityio.media.mit.edu/api/table/epa/meta/hashes/ Attempt: 0\n",
      "https://cityio.media.mit.edu/api/table/epa/meta/hashes/ Attempt: 0\n",
      "https://cityio.media.mit.edu/api/table/epa/meta/hashes/ Attempt: 0\n",
      "https://cityio.media.mit.edu/api/table/epa/meta/hashes/ Attempt: 0\n",
      "https://cityio.media.mit.edu/api/table/epa/meta/hashes/ Attempt: 0\n",
      "https://cityio.media.mit.edu/api/table/epa/meta/hashes/ Attempt: 0\n",
      "https://cityio.media.mit.edu/api/table/epa/meta/hashes/ Attempt: 0\n",
      "https://cityio.media.mit.edu/api/table/epa/meta/hashes/ Attempt: 0\n",
      "https://cityio.media.mit.edu/api/table/epa/meta/hashes/ Attempt: 0\n",
      "https://cityio.media.mit.edu/api/table/epa/meta/hashes/ Attempt: 0\n",
      "https://cityio.media.mit.edu/api/table/epa/meta/hashes/ Attempt: 0\n",
      "https://cityio.media.mit.edu/api/table/epa/meta/hashes/ Attempt: 0\n",
      "https://cityio.media.mit.edu/api/table/epa/meta/hashes/ Attempt: 0\n",
      "https://cityio.media.mit.edu/api/table/epa/meta/hashes/ Attempt: 0\n",
      "https://cityio.media.mit.edu/api/table/epa/meta/hashes/ Attempt: 0\n",
      "https://cityio.media.mit.edu/api/table/epa/meta/hashes/ Attempt: 0\n",
      "https://cityio.media.mit.edu/api/table/epa/meta/hashes/ Attempt: 0\n",
      "https://cityio.media.mit.edu/api/table/epa/meta/hashes/ Attempt: 0\n",
      "https://cityio.media.mit.edu/api/table/epa/meta/hashes/ Attempt: 0\n",
      "https://cityio.media.mit.edu/api/table/epa/meta/hashes/ Attempt: 0\n",
      "https://cityio.media.mit.edu/api/table/epa/meta/hashes/ Attempt: 0\n",
      "https://cityio.media.mit.edu/api/table/epa/meta/hashes/ Attempt: 0\n",
      "https://cityio.media.mit.edu/api/table/epa/meta/hashes/ Attempt: 0\n",
      "https://cityio.media.mit.edu/api/table/epa/meta/hashes/ Attempt: 0\n",
      "https://cityio.media.mit.edu/api/table/epa/meta/hashes/ Attempt: 0\n",
      "https://cityio.media.mit.edu/api/table/epa/meta/hashes/ Attempt: 0\n",
      "https://cityio.media.mit.edu/api/table/epa/meta/hashes/ Attempt: 0\n",
      "https://cityio.media.mit.edu/api/table/epa/meta/hashes/ Attempt: 0\n",
      "https://cityio.media.mit.edu/api/table/epa/meta/hashes/ Attempt: 0\n",
      "https://cityio.media.mit.edu/api/table/epa/meta/hashes/ Attempt: 0\n",
      "https://cityio.media.mit.edu/api/table/epa/meta/hashes/ Attempt: 0\n",
      "https://cityio.media.mit.edu/api/table/epa/meta/hashes/ Attempt: 0\n",
      "https://cityio.media.mit.edu/api/table/epa/meta/hashes/ Attempt: 0\n",
      "https://cityio.media.mit.edu/api/table/epa/meta/hashes/ Attempt: 0\n",
      "https://cityio.media.mit.edu/api/table/epa/meta/hashes/ Attempt: 0\n",
      "https://cityio.media.mit.edu/api/table/epa/meta/hashes/ Attempt: 0\n",
      "https://cityio.media.mit.edu/api/table/epa/meta/hashes/ Attempt: 0\n",
      "https://cityio.media.mit.edu/api/table/epa/meta/hashes/ Attempt: 0\n",
      "https://cityio.media.mit.edu/api/table/epa/meta/hashes/ Attempt: 0\n",
      "https://cityio.media.mit.edu/api/table/epa/meta/hashes/ Attempt: 0\n",
      "https://cityio.media.mit.edu/api/table/epa/meta/hashes/ Attempt: 0\n",
      "https://cityio.media.mit.edu/api/table/epa/meta/hashes/ Attempt: 0\n",
      "https://cityio.media.mit.edu/api/table/epa/meta/hashes/ Attempt: 0\n",
      "https://cityio.media.mit.edu/api/table/epa/meta/hashes/ Attempt: 0\n",
      "https://cityio.media.mit.edu/api/table/epa/meta/hashes/ Attempt: 0\n",
      "https://cityio.media.mit.edu/api/table/epa/meta/hashes/ Attempt: 0\n",
      "https://cityio.media.mit.edu/api/table/epa/meta/hashes/ Attempt: 0\n",
      "https://cityio.media.mit.edu/api/table/epa/meta/hashes/ Attempt: 0\n",
      "https://cityio.media.mit.edu/api/table/epa/meta/hashes/ Attempt: 0\n",
      "https://cityio.media.mit.edu/api/table/epa/meta/hashes/ Attempt: 0\n",
      "https://cityio.media.mit.edu/api/table/epa/meta/hashes/ Attempt: 0\n",
      "https://cityio.media.mit.edu/api/table/epa/meta/hashes/ Attempt: 0\n",
      "https://cityio.media.mit.edu/api/table/epa/meta/hashes/ Attempt: 0\n",
      "https://cityio.media.mit.edu/api/table/epa/meta/hashes/ Attempt: 0\n",
      "https://cityio.media.mit.edu/api/table/epa/meta/hashes/ Attempt: 0\n",
      "https://cityio.media.mit.edu/api/table/epa/meta/hashes/ Attempt: 0\n",
      "https://cityio.media.mit.edu/api/table/epa/meta/hashes/ Attempt: 0\n"
     ]
    }
   ],
   "source": [
    "H.listen()"
   ]
  },
  {
   "cell_type": "code",
   "execution_count": null,
   "metadata": {},
   "outputs": [],
   "source": []
  }
 ],
 "metadata": {
  "anaconda-cloud": {},
  "kernelspec": {
   "display_name": "Python [conda env:cs]",
   "language": "python",
   "name": "conda-env-cs-py"
  },
  "language_info": {
   "codemirror_mode": {
    "name": "ipython",
    "version": 3
   },
   "file_extension": ".py",
   "mimetype": "text/x-python",
   "name": "python",
   "nbconvert_exporter": "python",
   "pygments_lexer": "ipython3",
   "version": "3.9.7"
  }
 },
 "nbformat": 4,
 "nbformat_minor": 2
}
