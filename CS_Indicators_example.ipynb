{
 "cells": [
  {
   "cell_type": "code",
   "execution_count": 1,
   "metadata": {},
   "outputs": [],
   "source": [
    "import CS_Indicators as CS\n",
    "from brix import Indicator, Handler\n",
    "import PreCompOsmNet\n",
    "import Simulation\n",
    "import geopandas as gpd\n",
    "import pandas as pd"
   ]
  },
  {
   "cell_type": "code",
   "execution_count": 2,
   "metadata": {},
   "outputs": [],
   "source": [
    "table_name='providence_test'"
   ]
  },
  {
   "cell_type": "markdown",
   "metadata": {},
   "source": [
    "### Load the Saved Data"
   ]
  },
  {
   "cell_type": "code",
   "execution_count": 3,
   "metadata": {},
   "outputs": [],
   "source": [
    "geogrid=gpd.read_file('tables/{}/geogrid.geojson'.format(table_name))\n",
    "zones=gpd.read_file('tables/{}/zones.geojson'.format(table_name))\n",
    "zones['GEOID']=zones['GEOID'].astype(int)\n",
    "zones=zones.set_index('GEOID')\n",
    "simpop_df=pd.read_csv('tables/{}/simpop_df.csv'.format(table_name))"
   ]
  },
  {
   "cell_type": "markdown",
   "metadata": {},
   "source": [
    "### Create the mobility system"
   ]
  },
  {
   "cell_type": "code",
   "execution_count": 4,
   "metadata": {},
   "outputs": [
    {
     "name": "stdout",
     "output_type": "stream",
     "text": [
      "getting internal roads\n",
      "Buffer : 200\n",
      "Doesnt contain external link types\n",
      "Buffer : 400\n",
      "getting external roads\n",
      "\t Simplified from 2143 to 1891 edges and 929 to 750 nodes\n",
      "\t Pre-computing paths\n"
     ]
    }
   ],
   "source": [
    "networks, mode_dicts, route_lengths=PreCompOsmNet.create_2_scale_osmnx_network(\n",
    "    zones.loc[zones['sim_area']], zones.loc[zones['model_area']],\n",
    "    add_modes=[{'name': 'walk', 'speed': 4800/3600},\n",
    "               {'name': 'cycle', 'speed': 14000/3600},\n",
    "               {'name': 'pt', 'speed': 25000/3600}])\n",
    "modes={mode: Simulation.Mode(mode_dicts[mode]) for mode in mode_dicts}\n",
    "mob_sys=Simulation.MobilitySystem(modes=modes, networks=networks)"
   ]
  },
  {
   "cell_type": "code",
   "execution_count": 5,
   "metadata": {},
   "outputs": [],
   "source": [
    "import numpy as np\n",
    "\n",
    "class Default_Mode_Choice_model():\n",
    "    def __init__(self):\n",
    "        pass\n",
    "    \n",
    "    def predict_modes(self, all_trips_df):\n",
    "        options=['drive', 'cycle', 'walk', 'pt']\n",
    "        all_trips_df['mode']='drive'\n",
    "        ind_u1500=all_trips_df['route_distance']<1500\n",
    "        ind_1500_5k=((all_trips_df['route_distance']>1500)&(all_trips_df['route_distance']<5000))\n",
    "        ind_5k_10k=((all_trips_df['route_distance']>5000)&(all_trips_df['route_distance']<10000))\n",
    "        ind_10kplus=all_trips_df['route_distance']>10000\n",
    "\n",
    "        all_trips_df.loc[ind_u1500==True, 'mode']=np.random.choice(\n",
    "            options, size=sum(ind_u1500), \n",
    "            replace=True, p=[0.1, 0.2, 0.6, 0.1])\n",
    "\n",
    "        all_trips_df.loc[ind_1500_5k==True, 'mode']=np.random.choice(\n",
    "            options, size=sum(ind_1500_5k), \n",
    "            replace=True, p=[0.25, 0.15, 0.3, 0.3])\n",
    "\n",
    "        all_trips_df.loc[ind_5k_10k==True, 'mode']=np.random.choice(\n",
    "            options, size=sum(ind_5k_10k), \n",
    "            replace=True, p=[0.6, 0.04, 0.01, 0.35])\n",
    "\n",
    "        all_trips_df.loc[ind_10kplus==True, 'mode']=np.random.choice(\n",
    "            options, size=sum(ind_10kplus), \n",
    "            replace=True, p=[0.9, 0.01, 0.01, 0.08])\n",
    "        return all_trips_df\n",
    "\n",
    "mode_descriptions = [{\"name\": 'drive',\n",
    "                    'color': \"#e41a1d\"},\n",
    "                     {\"name\": 'cycle',\n",
    "                    'color': \"#377eb8\"},\n",
    "                     {\"name\": 'walk',\n",
    "                    'color': \"#4daf4a\"},\n",
    "                     {\"name\": 'pt',\n",
    "                    'color': \"#ffff33\"},\n",
    "                    ]"
   ]
  },
  {
   "cell_type": "markdown",
   "metadata": {},
   "source": [
    "### Create and run the Cityscope model"
   ]
  },
  {
   "cell_type": "code",
   "execution_count": 6,
   "metadata": {},
   "outputs": [
    {
     "name": "stdout",
     "output_type": "stream",
     "text": [
      "https://cityio.media.mit.edu/api/tables/list/ Attempt: 0\n",
      "https://cityio.media.mit.edu/api/table/providence_test/meta/hashes/ Attempt: 0\n",
      "https://cityio.media.mit.edu/api/table/providence_test/GEOGRID/ Attempt: 0\n",
      "Proceeding without reviewing GEOGRIDDATA\n",
      "https://cityio.media.mit.edu/api/table/providence_test/meta/hashes/ Attempt: 0\n",
      "GEOGRIDDATA successfully updated: 6i37RGg4CAEQAvtSa6fnnPaPCRjYMxc65r5q6Spcd5XY\n"
     ]
    }
   ],
   "source": [
    "H=Handler(table_name=table_name)\n",
    "H.reset_geogrid_data()"
   ]
  },
  {
   "cell_type": "code",
   "execution_count": null,
   "metadata": {},
   "outputs": [],
   "source": []
  },
  {
   "cell_type": "code",
   "execution_count": 7,
   "metadata": {},
   "outputs": [
    {
     "name": "stdout",
     "output_type": "stream",
     "text": [
      "Init simulation\n"
     ]
    },
    {
     "name": "stderr",
     "output_type": "stream",
     "text": [
      "/Volumes/GoogleDrive/My Drive/Media Lab/NuevoScope/CS_Spatial_Modules/CS_Indicators.py:599: UserWarning: Geometry is in a geographic CRS. Results from 'centroid' are likely incorrect. Use 'GeoSeries.to_crs()' to re-project geometries to a projected CRS before this operation.\n",
      "\n",
      "  centroids=grid_zones['geometry'].centroid\n"
     ]
    },
    {
     "name": "stdout",
     "output_type": "stream",
     "text": [
      "Getting internal nodes\n",
      "Finding closest nodes to every zone centroid\n",
      "Computing zone-zone dist mat\n"
     ]
    },
    {
     "name": "stderr",
     "output_type": "stream",
     "text": [
      "/Users/doorleyr/anaconda3/envs/brix/lib/python3.9/site-packages/osmnx/distance.py:426: UserWarning: The `get_nearest_nodes` function has been deprecated and will be removed in a future release. Use the more efficient `distance.nearest_nodes` instead.\n",
      "  warnings.warn(msg)\n"
     ]
    },
    {
     "name": "stdout",
     "output_type": "stream",
     "text": [
      "https://cityio.media.mit.edu/api/table/providence_test/GEOGRIDDATA/ Attempt: 0\n",
      "Starting MM Update\n",
      "Schedules and locations\n",
      "OD\n",
      "Trip table\n",
      "Route table\n",
      "DeckGL\n"
     ]
    },
    {
     "name": "stderr",
     "output_type": "stream",
     "text": [
      "/Volumes/GoogleDrive/My Drive/Media Lab/NuevoScope/CS_Spatial_Modules/Simulation.py:406: SettingWithCopyWarning: \n",
      "A value is trying to be set on a copy of a slice from a DataFrame.\n",
      "Try using .loc[row_indexer,col_indexer] = value instead\n",
      "\n",
      "See the caveats in the documentation: https://pandas.pydata.org/pandas-docs/stable/user_guide/indexing.html#returning-a-view-versus-a-copy\n",
      "  route_table_this_mode['node_path']=routes['node_path']\n",
      "/Volumes/GoogleDrive/My Drive/Media Lab/NuevoScope/CS_Spatial_Modules/Simulation.py:407: SettingWithCopyWarning: \n",
      "A value is trying to be set on a copy of a slice from a DataFrame.\n",
      "Try using .loc[row_indexer,col_indexer] = value instead\n",
      "\n",
      "See the caveats in the documentation: https://pandas.pydata.org/pandas-docs/stable/user_guide/indexing.html#returning-a-view-versus-a-copy\n",
      "  route_table_this_mode['attributes']=routes['attributes']\n"
     ]
    },
    {
     "name": "stdout",
     "output_type": "stream",
     "text": [
      "Post ABM: <Response [200]>\n",
      "Post OD: <Response [200]>\n",
      "Finished MM Update\n",
      "\t calculation took 0:00:00.274961\n",
      "\t trips post took 0:00:01.631541\n"
     ]
    }
   ],
   "source": [
    "# d=CS.Density_Indicator(zones=zones)\n",
    "# p=CS.Proximity_Indicator(zones=zones, geogrid=geogrid)\n",
    "\n",
    "\n",
    "m=CS.Mobility_indicator(zones, geogrid, table_name, simpop_df, mob_sys,\n",
    "#                        mode_choice_model=new_mode_choice_model,\n",
    "#                        mode_descriptions=mode_descriptions,\n",
    "                       route_lengths=route_lengths)\n",
    "H.add_indicators([\n",
    "#     d, p, \n",
    "    m\n",
    "])\n",
    "\n",
    "# H.add_indicator(m)"
   ]
  },
  {
   "cell_type": "code",
   "execution_count": 8,
   "metadata": {},
   "outputs": [
    {
     "name": "stdout",
     "output_type": "stream",
     "text": [
      "https://cityio.media.mit.edu/api/table/providence_test/GEOGRIDDATA/ Attempt: 0\n",
      "Starting MM Update\n",
      "Schedules and locations\n",
      "OD\n",
      "Trip table\n",
      "Route table\n"
     ]
    },
    {
     "name": "stderr",
     "output_type": "stream",
     "text": [
      "/Volumes/GoogleDrive/My Drive/Media Lab/NuevoScope/CS_Spatial_Modules/Simulation.py:406: SettingWithCopyWarning: \n",
      "A value is trying to be set on a copy of a slice from a DataFrame.\n",
      "Try using .loc[row_indexer,col_indexer] = value instead\n",
      "\n",
      "See the caveats in the documentation: https://pandas.pydata.org/pandas-docs/stable/user_guide/indexing.html#returning-a-view-versus-a-copy\n",
      "  route_table_this_mode['node_path']=routes['node_path']\n",
      "/Volumes/GoogleDrive/My Drive/Media Lab/NuevoScope/CS_Spatial_Modules/Simulation.py:407: SettingWithCopyWarning: \n",
      "A value is trying to be set on a copy of a slice from a DataFrame.\n",
      "Try using .loc[row_indexer,col_indexer] = value instead\n",
      "\n",
      "See the caveats in the documentation: https://pandas.pydata.org/pandas-docs/stable/user_guide/indexing.html#returning-a-view-versus-a-copy\n",
      "  route_table_this_mode['attributes']=routes['attributes']\n"
     ]
    },
    {
     "name": "stdout",
     "output_type": "stream",
     "text": [
      "DeckGL\n",
      "Post ABM: <Response [200]>\n",
      "Post OD: <Response [200]>\n",
      "Finished MM Update\n",
      "\t calculation took 0:00:00.350264\n",
      "\t trips post took 0:00:01.808504\n"
     ]
    },
    {
     "data": {
      "text/plain": [
       "{'name': 'Active Mobility',\n",
       " 'raw_value': 0.36,\n",
       " 'value': 0.36,\n",
       " 'ref_value': 0.1,\n",
       " 'viz_type': 'radar'}"
      ]
     },
     "execution_count": 8,
     "metadata": {},
     "output_type": "execute_result"
    }
   ],
   "source": [
    "geogrid_data=H.get_geogrid_data()\n",
    "m.return_indicator(geogrid_data)"
   ]
  },
  {
   "cell_type": "code",
   "execution_count": 9,
   "metadata": {},
   "outputs": [
    {
     "name": "stdout",
     "output_type": "stream",
     "text": [
      "Table URL: https://cityscope.media.mit.edu/CS_cityscopeJS/?cityscope=providence_test\n",
      "Testing indicators\n",
      "https://cityio.media.mit.edu/api/table/providence_test/GEOGRIDDATA/ Attempt: 0\n",
      "Starting MM Update\n",
      "Schedules and locations\n",
      "OD\n",
      "Trip table\n",
      "Route table\n"
     ]
    },
    {
     "name": "stderr",
     "output_type": "stream",
     "text": [
      "/Volumes/GoogleDrive/My Drive/Media Lab/NuevoScope/CS_Spatial_Modules/Simulation.py:406: SettingWithCopyWarning: \n",
      "A value is trying to be set on a copy of a slice from a DataFrame.\n",
      "Try using .loc[row_indexer,col_indexer] = value instead\n",
      "\n",
      "See the caveats in the documentation: https://pandas.pydata.org/pandas-docs/stable/user_guide/indexing.html#returning-a-view-versus-a-copy\n",
      "  route_table_this_mode['node_path']=routes['node_path']\n",
      "/Volumes/GoogleDrive/My Drive/Media Lab/NuevoScope/CS_Spatial_Modules/Simulation.py:407: SettingWithCopyWarning: \n",
      "A value is trying to be set on a copy of a slice from a DataFrame.\n",
      "Try using .loc[row_indexer,col_indexer] = value instead\n",
      "\n",
      "See the caveats in the documentation: https://pandas.pydata.org/pandas-docs/stable/user_guide/indexing.html#returning-a-view-versus-a-copy\n",
      "  route_table_this_mode['attributes']=routes['attributes']\n"
     ]
    },
    {
     "name": "stdout",
     "output_type": "stream",
     "text": [
      "DeckGL\n",
      "Post ABM: <Response [200]>\n",
      "Post OD: <Response [200]>\n",
      "Finished MM Update\n",
      "\t calculation took 0:00:00.355578\n",
      "\t trips post took 0:00:01.927393\n",
      "Performing initial update\n",
      "Updating geogrid_data\n",
      "https://cityio.media.mit.edu/api/table/providence_test/GEOGRIDDATA/ Attempt: 0\n",
      "https://cityio.media.mit.edu/api/table/providence_test/meta/hashes/ Attempt: 0\n",
      "Updating table with hash: 6i37RGg4CAEQAvtSa6fnnPaPCRjYMxc65r5q6Spcd5XY\n",
      "https://cityio.media.mit.edu/api/table/providence_test/GEOGRIDDATA/ Attempt: 0\n",
      "Starting MM Update\n",
      "Schedules and locations\n",
      "OD\n",
      "Trip table\n",
      "Route table\n",
      "DeckGL\n"
     ]
    },
    {
     "name": "stderr",
     "output_type": "stream",
     "text": [
      "/Volumes/GoogleDrive/My Drive/Media Lab/NuevoScope/CS_Spatial_Modules/Simulation.py:406: SettingWithCopyWarning: \n",
      "A value is trying to be set on a copy of a slice from a DataFrame.\n",
      "Try using .loc[row_indexer,col_indexer] = value instead\n",
      "\n",
      "See the caveats in the documentation: https://pandas.pydata.org/pandas-docs/stable/user_guide/indexing.html#returning-a-view-versus-a-copy\n",
      "  route_table_this_mode['node_path']=routes['node_path']\n",
      "/Volumes/GoogleDrive/My Drive/Media Lab/NuevoScope/CS_Spatial_Modules/Simulation.py:407: SettingWithCopyWarning: \n",
      "A value is trying to be set on a copy of a slice from a DataFrame.\n",
      "Try using .loc[row_indexer,col_indexer] = value instead\n",
      "\n",
      "See the caveats in the documentation: https://pandas.pydata.org/pandas-docs/stable/user_guide/indexing.html#returning-a-view-versus-a-copy\n",
      "  route_table_this_mode['attributes']=routes['attributes']\n"
     ]
    },
    {
     "name": "stdout",
     "output_type": "stream",
     "text": [
      "Post ABM: <Response [200]>\n",
      "Post OD: <Response [200]>\n",
      "Finished MM Update\n",
      "\t calculation took 0:00:00.243582\n",
      "\t trips post took 0:00:01.607559\n",
      "Done with update\n",
      "Local grid hash: 6i37RGg4CAEQAvtSa6fnnPaPCRjYMxc65r5q6Spcd5XY\n",
      "https://cityio.media.mit.edu/api/table/providence_test/meta/hashes/ Attempt: 0\n",
      "https://cityio.media.mit.edu/api/table/providence_test/meta/hashes/ Attempt: 0\n",
      "https://cityio.media.mit.edu/api/table/providence_test/meta/hashes/ Attempt: 0\n",
      "https://cityio.media.mit.edu/api/table/providence_test/meta/hashes/ Attempt: 0\n",
      "https://cityio.media.mit.edu/api/table/providence_test/meta/hashes/ Attempt: 0\n",
      "https://cityio.media.mit.edu/api/table/providence_test/meta/hashes/ Attempt: 0\n",
      "https://cityio.media.mit.edu/api/table/providence_test/meta/hashes/ Attempt: 0\n",
      "https://cityio.media.mit.edu/api/table/providence_test/meta/hashes/ Attempt: 0\n",
      "https://cityio.media.mit.edu/api/table/providence_test/meta/hashes/ Attempt: 0\n",
      "https://cityio.media.mit.edu/api/table/providence_test/meta/hashes/ Attempt: 0\n",
      "https://cityio.media.mit.edu/api/table/providence_test/meta/hashes/ Attempt: 0\n",
      "https://cityio.media.mit.edu/api/table/providence_test/meta/hashes/ Attempt: 0\n",
      "https://cityio.media.mit.edu/api/table/providence_test/meta/hashes/ Attempt: 0\n",
      "https://cityio.media.mit.edu/api/table/providence_test/meta/hashes/ Attempt: 0\n",
      "https://cityio.media.mit.edu/api/table/providence_test/meta/hashes/ Attempt: 0\n",
      "https://cityio.media.mit.edu/api/table/providence_test/meta/hashes/ Attempt: 0\n",
      "https://cityio.media.mit.edu/api/table/providence_test/meta/hashes/ Attempt: 0\n",
      "https://cityio.media.mit.edu/api/table/providence_test/meta/hashes/ Attempt: 0\n",
      "https://cityio.media.mit.edu/api/table/providence_test/meta/hashes/ Attempt: 0\n",
      "https://cityio.media.mit.edu/api/table/providence_test/meta/hashes/ Attempt: 0\n",
      "https://cityio.media.mit.edu/api/table/providence_test/meta/hashes/ Attempt: 0\n",
      "https://cityio.media.mit.edu/api/table/providence_test/meta/hashes/ Attempt: 0\n",
      "https://cityio.media.mit.edu/api/table/providence_test/meta/hashes/ Attempt: 0\n",
      "https://cityio.media.mit.edu/api/table/providence_test/meta/hashes/ Attempt: 0\n",
      "https://cityio.media.mit.edu/api/table/providence_test/meta/hashes/ Attempt: 0\n",
      "https://cityio.media.mit.edu/api/table/providence_test/meta/hashes/ Attempt: 0\n",
      "https://cityio.media.mit.edu/api/table/providence_test/meta/hashes/ Attempt: 0\n",
      "https://cityio.media.mit.edu/api/table/providence_test/meta/hashes/ Attempt: 0\n",
      "https://cityio.media.mit.edu/api/table/providence_test/meta/hashes/ Attempt: 0\n",
      "https://cityio.media.mit.edu/api/table/providence_test/meta/hashes/ Attempt: 0\n",
      "https://cityio.media.mit.edu/api/table/providence_test/meta/hashes/ Attempt: 0\n",
      "https://cityio.media.mit.edu/api/table/providence_test/meta/hashes/ Attempt: 0\n",
      "https://cityio.media.mit.edu/api/table/providence_test/meta/hashes/ Attempt: 0\n",
      "https://cityio.media.mit.edu/api/table/providence_test/meta/hashes/ Attempt: 0\n",
      "https://cityio.media.mit.edu/api/table/providence_test/meta/hashes/ Attempt: 0\n",
      "https://cityio.media.mit.edu/api/table/providence_test/meta/hashes/ Attempt: 0\n",
      "https://cityio.media.mit.edu/api/table/providence_test/meta/hashes/ Attempt: 0\n",
      "https://cityio.media.mit.edu/api/table/providence_test/meta/hashes/ Attempt: 0\n",
      "https://cityio.media.mit.edu/api/table/providence_test/meta/hashes/ Attempt: 0\n",
      "https://cityio.media.mit.edu/api/table/providence_test/meta/hashes/ Attempt: 0\n",
      "https://cityio.media.mit.edu/api/table/providence_test/meta/hashes/ Attempt: 0\n",
      "https://cityio.media.mit.edu/api/table/providence_test/meta/hashes/ Attempt: 0\n",
      "https://cityio.media.mit.edu/api/table/providence_test/meta/hashes/ Attempt: 0\n",
      "https://cityio.media.mit.edu/api/table/providence_test/meta/hashes/ Attempt: 0\n",
      "https://cityio.media.mit.edu/api/table/providence_test/meta/hashes/ Attempt: 0\n",
      "https://cityio.media.mit.edu/api/table/providence_test/meta/hashes/ Attempt: 0\n",
      "https://cityio.media.mit.edu/api/table/providence_test/meta/hashes/ Attempt: 0\n",
      "https://cityio.media.mit.edu/api/table/providence_test/meta/hashes/ Attempt: 0\n",
      "https://cityio.media.mit.edu/api/table/providence_test/meta/hashes/ Attempt: 0\n",
      "https://cityio.media.mit.edu/api/table/providence_test/meta/hashes/ Attempt: 0\n",
      "https://cityio.media.mit.edu/api/table/providence_test/meta/hashes/ Attempt: 0\n",
      "https://cityio.media.mit.edu/api/table/providence_test/meta/hashes/ Attempt: 0\n",
      "https://cityio.media.mit.edu/api/table/providence_test/meta/hashes/ Attempt: 0\n",
      "https://cityio.media.mit.edu/api/table/providence_test/meta/hashes/ Attempt: 0\n",
      "https://cityio.media.mit.edu/api/table/providence_test/meta/hashes/ Attempt: 0\n",
      "https://cityio.media.mit.edu/api/table/providence_test/meta/hashes/ Attempt: 0\n",
      "https://cityio.media.mit.edu/api/table/providence_test/meta/hashes/ Attempt: 0\n",
      "https://cityio.media.mit.edu/api/table/providence_test/meta/hashes/ Attempt: 0\n",
      "https://cityio.media.mit.edu/api/table/providence_test/meta/hashes/ Attempt: 0\n",
      "https://cityio.media.mit.edu/api/table/providence_test/meta/hashes/ Attempt: 0\n",
      "https://cityio.media.mit.edu/api/table/providence_test/meta/hashes/ Attempt: 0\n",
      "https://cityio.media.mit.edu/api/table/providence_test/meta/hashes/ Attempt: 0\n",
      "https://cityio.media.mit.edu/api/table/providence_test/meta/hashes/ Attempt: 0\n",
      "https://cityio.media.mit.edu/api/table/providence_test/meta/hashes/ Attempt: 0\n",
      "https://cityio.media.mit.edu/api/table/providence_test/meta/hashes/ Attempt: 0\n",
      "https://cityio.media.mit.edu/api/table/providence_test/meta/hashes/ Attempt: 0\n",
      "https://cityio.media.mit.edu/api/table/providence_test/meta/hashes/ Attempt: 0\n",
      "https://cityio.media.mit.edu/api/table/providence_test/meta/hashes/ Attempt: 0\n",
      "https://cityio.media.mit.edu/api/table/providence_test/meta/hashes/ Attempt: 0\n",
      "https://cityio.media.mit.edu/api/table/providence_test/meta/hashes/ Attempt: 0\n",
      "https://cityio.media.mit.edu/api/table/providence_test/meta/hashes/ Attempt: 0\n",
      "https://cityio.media.mit.edu/api/table/providence_test/meta/hashes/ Attempt: 0\n",
      "https://cityio.media.mit.edu/api/table/providence_test/meta/hashes/ Attempt: 0\n",
      "https://cityio.media.mit.edu/api/table/providence_test/meta/hashes/ Attempt: 0\n",
      "https://cityio.media.mit.edu/api/table/providence_test/meta/hashes/ Attempt: 0\n",
      "https://cityio.media.mit.edu/api/table/providence_test/meta/hashes/ Attempt: 0\n",
      "https://cityio.media.mit.edu/api/table/providence_test/meta/hashes/ Attempt: 0\n",
      "https://cityio.media.mit.edu/api/table/providence_test/meta/hashes/ Attempt: 0\n",
      "https://cityio.media.mit.edu/api/table/providence_test/meta/hashes/ Attempt: 0\n",
      "https://cityio.media.mit.edu/api/table/providence_test/meta/hashes/ Attempt: 0\n",
      "https://cityio.media.mit.edu/api/table/providence_test/meta/hashes/ Attempt: 0\n",
      "https://cityio.media.mit.edu/api/table/providence_test/meta/hashes/ Attempt: 0\n",
      "https://cityio.media.mit.edu/api/table/providence_test/meta/hashes/ Attempt: 0\n",
      "https://cityio.media.mit.edu/api/table/providence_test/meta/hashes/ Attempt: 0\n",
      "https://cityio.media.mit.edu/api/table/providence_test/meta/hashes/ Attempt: 0\n",
      "https://cityio.media.mit.edu/api/table/providence_test/meta/hashes/ Attempt: 0\n",
      "https://cityio.media.mit.edu/api/table/providence_test/meta/hashes/ Attempt: 0\n",
      "https://cityio.media.mit.edu/api/table/providence_test/meta/hashes/ Attempt: 0\n",
      "https://cityio.media.mit.edu/api/table/providence_test/meta/hashes/ Attempt: 0\n",
      "https://cityio.media.mit.edu/api/table/providence_test/meta/hashes/ Attempt: 0\n",
      "https://cityio.media.mit.edu/api/table/providence_test/meta/hashes/ Attempt: 0\n",
      "https://cityio.media.mit.edu/api/table/providence_test/meta/hashes/ Attempt: 0\n",
      "https://cityio.media.mit.edu/api/table/providence_test/meta/hashes/ Attempt: 0\n",
      "https://cityio.media.mit.edu/api/table/providence_test/meta/hashes/ Attempt: 0\n",
      "https://cityio.media.mit.edu/api/table/providence_test/meta/hashes/ Attempt: 0\n",
      "https://cityio.media.mit.edu/api/table/providence_test/meta/hashes/ Attempt: 0\n",
      "https://cityio.media.mit.edu/api/table/providence_test/meta/hashes/ Attempt: 0\n",
      "https://cityio.media.mit.edu/api/table/providence_test/meta/hashes/ Attempt: 0\n",
      "https://cityio.media.mit.edu/api/table/providence_test/meta/hashes/ Attempt: 0\n",
      "https://cityio.media.mit.edu/api/table/providence_test/meta/hashes/ Attempt: 0\n",
      "https://cityio.media.mit.edu/api/table/providence_test/meta/hashes/ Attempt: 0\n"
     ]
    },
    {
     "name": "stdout",
     "output_type": "stream",
     "text": [
      "https://cityio.media.mit.edu/api/table/providence_test/meta/hashes/ Attempt: 0\n",
      "https://cityio.media.mit.edu/api/table/providence_test/meta/hashes/ Attempt: 0\n",
      "https://cityio.media.mit.edu/api/table/providence_test/meta/hashes/ Attempt: 0\n",
      "https://cityio.media.mit.edu/api/table/providence_test/meta/hashes/ Attempt: 0\n",
      "https://cityio.media.mit.edu/api/table/providence_test/meta/hashes/ Attempt: 0\n",
      "https://cityio.media.mit.edu/api/table/providence_test/meta/hashes/ Attempt: 0\n",
      "https://cityio.media.mit.edu/api/table/providence_test/meta/hashes/ Attempt: 0\n",
      "https://cityio.media.mit.edu/api/table/providence_test/meta/hashes/ Attempt: 0\n",
      "https://cityio.media.mit.edu/api/table/providence_test/meta/hashes/ Attempt: 0\n",
      "https://cityio.media.mit.edu/api/table/providence_test/meta/hashes/ Attempt: 0\n",
      "https://cityio.media.mit.edu/api/table/providence_test/meta/hashes/ Attempt: 0\n",
      "https://cityio.media.mit.edu/api/table/providence_test/meta/hashes/ Attempt: 0\n",
      "https://cityio.media.mit.edu/api/table/providence_test/meta/hashes/ Attempt: 0\n",
      "https://cityio.media.mit.edu/api/table/providence_test/meta/hashes/ Attempt: 0\n",
      "https://cityio.media.mit.edu/api/table/providence_test/meta/hashes/ Attempt: 0\n",
      "https://cityio.media.mit.edu/api/table/providence_test/meta/hashes/ Attempt: 0\n",
      "https://cityio.media.mit.edu/api/table/providence_test/meta/hashes/ Attempt: 0\n",
      "https://cityio.media.mit.edu/api/table/providence_test/meta/hashes/ Attempt: 0\n",
      "https://cityio.media.mit.edu/api/table/providence_test/meta/hashes/ Attempt: 0\n",
      "https://cityio.media.mit.edu/api/table/providence_test/meta/hashes/ Attempt: 0\n",
      "https://cityio.media.mit.edu/api/table/providence_test/meta/hashes/ Attempt: 0\n",
      "https://cityio.media.mit.edu/api/table/providence_test/meta/hashes/ Attempt: 0\n",
      "https://cityio.media.mit.edu/api/table/providence_test/meta/hashes/ Attempt: 0\n",
      "https://cityio.media.mit.edu/api/table/providence_test/meta/hashes/ Attempt: 0\n",
      "https://cityio.media.mit.edu/api/table/providence_test/meta/hashes/ Attempt: 0\n",
      "https://cityio.media.mit.edu/api/table/providence_test/meta/hashes/ Attempt: 0\n",
      "https://cityio.media.mit.edu/api/table/providence_test/meta/hashes/ Attempt: 0\n",
      "https://cityio.media.mit.edu/api/table/providence_test/meta/hashes/ Attempt: 0\n",
      "Waking up!\n",
      "Updating geogrid_data\n",
      "https://cityio.media.mit.edu/api/table/providence_test/GEOGRIDDATA/ Attempt: 0\n",
      "Updating table with hash: EzfMs9fZ9kjep8S5CFNB8LhhDTUZ1MxrnnJiGmGdzTXF\n",
      "https://cityio.media.mit.edu/api/table/providence_test/GEOGRIDDATA/ Attempt: 0\n",
      "Starting MM Update\n",
      "Schedules and locations\n",
      "OD\n",
      "Trip table\n",
      "Route table\n"
     ]
    },
    {
     "name": "stderr",
     "output_type": "stream",
     "text": [
      "/Volumes/GoogleDrive/My Drive/Media Lab/NuevoScope/CS_Spatial_Modules/Simulation.py:406: SettingWithCopyWarning: \n",
      "A value is trying to be set on a copy of a slice from a DataFrame.\n",
      "Try using .loc[row_indexer,col_indexer] = value instead\n",
      "\n",
      "See the caveats in the documentation: https://pandas.pydata.org/pandas-docs/stable/user_guide/indexing.html#returning-a-view-versus-a-copy\n",
      "  route_table_this_mode['node_path']=routes['node_path']\n",
      "/Volumes/GoogleDrive/My Drive/Media Lab/NuevoScope/CS_Spatial_Modules/Simulation.py:407: SettingWithCopyWarning: \n",
      "A value is trying to be set on a copy of a slice from a DataFrame.\n",
      "Try using .loc[row_indexer,col_indexer] = value instead\n",
      "\n",
      "See the caveats in the documentation: https://pandas.pydata.org/pandas-docs/stable/user_guide/indexing.html#returning-a-view-versus-a-copy\n",
      "  route_table_this_mode['attributes']=routes['attributes']\n"
     ]
    },
    {
     "name": "stdout",
     "output_type": "stream",
     "text": [
      "DeckGL\n",
      "Post ABM: <Response [200]>\n",
      "Post OD: <Response [400]>\n",
      "Finished MM Update\n",
      "\t calculation took 0:00:05.605745\n",
      "\t trips post took 0:00:01.493063\n",
      "Done with update\n",
      "Local grid hash: EzfMs9fZ9kjep8S5CFNB8LhhDTUZ1MxrnnJiGmGdzTXF\n",
      "https://cityio.media.mit.edu/api/table/providence_test/meta/hashes/ Attempt: 0\n",
      "https://cityio.media.mit.edu/api/table/providence_test/meta/hashes/ Attempt: 0\n",
      "https://cityio.media.mit.edu/api/table/providence_test/meta/hashes/ Attempt: 0\n",
      "https://cityio.media.mit.edu/api/table/providence_test/meta/hashes/ Attempt: 0\n",
      "https://cityio.media.mit.edu/api/table/providence_test/meta/hashes/ Attempt: 0\n",
      "https://cityio.media.mit.edu/api/table/providence_test/meta/hashes/ Attempt: 0\n",
      "https://cityio.media.mit.edu/api/table/providence_test/meta/hashes/ Attempt: 0\n",
      "https://cityio.media.mit.edu/api/table/providence_test/meta/hashes/ Attempt: 0\n",
      "https://cityio.media.mit.edu/api/table/providence_test/meta/hashes/ Attempt: 0\n",
      "https://cityio.media.mit.edu/api/table/providence_test/meta/hashes/ Attempt: 0\n",
      "https://cityio.media.mit.edu/api/table/providence_test/meta/hashes/ Attempt: 0\n",
      "https://cityio.media.mit.edu/api/table/providence_test/meta/hashes/ Attempt: 0\n",
      "https://cityio.media.mit.edu/api/table/providence_test/meta/hashes/ Attempt: 0\n",
      "https://cityio.media.mit.edu/api/table/providence_test/meta/hashes/ Attempt: 0\n",
      "https://cityio.media.mit.edu/api/table/providence_test/meta/hashes/ Attempt: 0\n",
      "https://cityio.media.mit.edu/api/table/providence_test/meta/hashes/ Attempt: 0\n",
      "https://cityio.media.mit.edu/api/table/providence_test/meta/hashes/ Attempt: 0\n",
      "https://cityio.media.mit.edu/api/table/providence_test/meta/hashes/ Attempt: 0\n",
      "https://cityio.media.mit.edu/api/table/providence_test/meta/hashes/ Attempt: 0\n",
      "https://cityio.media.mit.edu/api/table/providence_test/meta/hashes/ Attempt: 0\n",
      "https://cityio.media.mit.edu/api/table/providence_test/meta/hashes/ Attempt: 0\n",
      "https://cityio.media.mit.edu/api/table/providence_test/meta/hashes/ Attempt: 0\n",
      "https://cityio.media.mit.edu/api/table/providence_test/meta/hashes/ Attempt: 0\n",
      "https://cityio.media.mit.edu/api/table/providence_test/meta/hashes/ Attempt: 0\n",
      "https://cityio.media.mit.edu/api/table/providence_test/meta/hashes/ Attempt: 0\n",
      "https://cityio.media.mit.edu/api/table/providence_test/meta/hashes/ Attempt: 0\n",
      "https://cityio.media.mit.edu/api/table/providence_test/meta/hashes/ Attempt: 0\n",
      "https://cityio.media.mit.edu/api/table/providence_test/meta/hashes/ Attempt: 0\n",
      "https://cityio.media.mit.edu/api/table/providence_test/meta/hashes/ Attempt: 0\n",
      "https://cityio.media.mit.edu/api/table/providence_test/meta/hashes/ Attempt: 0\n",
      "https://cityio.media.mit.edu/api/table/providence_test/meta/hashes/ Attempt: 0\n",
      "https://cityio.media.mit.edu/api/table/providence_test/meta/hashes/ Attempt: 0\n",
      "https://cityio.media.mit.edu/api/table/providence_test/meta/hashes/ Attempt: 0\n",
      "https://cityio.media.mit.edu/api/table/providence_test/meta/hashes/ Attempt: 0\n",
      "https://cityio.media.mit.edu/api/table/providence_test/meta/hashes/ Attempt: 0\n",
      "https://cityio.media.mit.edu/api/table/providence_test/meta/hashes/ Attempt: 0\n",
      "https://cityio.media.mit.edu/api/table/providence_test/meta/hashes/ Attempt: 0\n",
      "https://cityio.media.mit.edu/api/table/providence_test/meta/hashes/ Attempt: 0\n",
      "https://cityio.media.mit.edu/api/table/providence_test/meta/hashes/ Attempt: 0\n",
      "https://cityio.media.mit.edu/api/table/providence_test/meta/hashes/ Attempt: 0\n",
      "https://cityio.media.mit.edu/api/table/providence_test/meta/hashes/ Attempt: 0\n",
      "https://cityio.media.mit.edu/api/table/providence_test/meta/hashes/ Attempt: 0\n",
      "https://cityio.media.mit.edu/api/table/providence_test/meta/hashes/ Attempt: 0\n"
     ]
    },
    {
     "ename": "KeyboardInterrupt",
     "evalue": "",
     "output_type": "error",
     "traceback": [
      "\u001b[0;31m---------------------------------------------------------------------------\u001b[0m",
      "\u001b[0;31mKeyboardInterrupt\u001b[0m                         Traceback (most recent call last)",
      "\u001b[0;32m<ipython-input-9-e82ad833e0cb>\u001b[0m in \u001b[0;36m<module>\u001b[0;34m\u001b[0m\n\u001b[0;32m----> 1\u001b[0;31m \u001b[0mH\u001b[0m\u001b[0;34m.\u001b[0m\u001b[0mlisten\u001b[0m\u001b[0;34m(\u001b[0m\u001b[0;34m)\u001b[0m\u001b[0;34m\u001b[0m\u001b[0;34m\u001b[0m\u001b[0m\n\u001b[0m",
      "\u001b[0;32m~/anaconda3/envs/brix/lib/python3.9/site-packages/brix/classes.py\u001b[0m in \u001b[0;36mlisten\u001b[0;34m(self, new_thread, showFront, append, clear_endpoints, robust)\u001b[0m\n\u001b[1;32m   1575\u001b[0m                         \u001b[0mself\u001b[0m\u001b[0;34m.\u001b[0m\u001b[0mstart\u001b[0m\u001b[0;34m(\u001b[0m\u001b[0;34m)\u001b[0m\u001b[0;34m\u001b[0m\u001b[0;34m\u001b[0m\u001b[0m\n\u001b[1;32m   1576\u001b[0m                 \u001b[0;32melse\u001b[0m\u001b[0;34m:\u001b[0m\u001b[0;34m\u001b[0m\u001b[0;34m\u001b[0m\u001b[0m\n\u001b[0;32m-> 1577\u001b[0;31m                         \u001b[0mself\u001b[0m\u001b[0;34m.\u001b[0m\u001b[0m_listen\u001b[0m\u001b[0;34m(\u001b[0m\u001b[0mshowFront\u001b[0m\u001b[0;34m=\u001b[0m\u001b[0mshowFront\u001b[0m\u001b[0;34m,\u001b[0m\u001b[0mrobust\u001b[0m\u001b[0;34m=\u001b[0m\u001b[0mrobust\u001b[0m\u001b[0;34m)\u001b[0m\u001b[0;34m\u001b[0m\u001b[0;34m\u001b[0m\u001b[0m\n\u001b[0m\u001b[1;32m   1578\u001b[0m \u001b[0;34m\u001b[0m\u001b[0m\n\u001b[1;32m   1579\u001b[0m         \u001b[0;32mdef\u001b[0m \u001b[0mreset_geogrid_data\u001b[0m\u001b[0;34m(\u001b[0m\u001b[0mself\u001b[0m\u001b[0;34m,\u001b[0m\u001b[0moverride_verification\u001b[0m\u001b[0;34m=\u001b[0m\u001b[0;32mTrue\u001b[0m\u001b[0;34m)\u001b[0m\u001b[0;34m:\u001b[0m\u001b[0;34m\u001b[0m\u001b[0;34m\u001b[0m\u001b[0m\n",
      "\u001b[0;32m~/anaconda3/envs/brix/lib/python3.9/site-packages/brix/classes.py\u001b[0m in \u001b[0;36m_listen\u001b[0;34m(self, showFront, robust)\u001b[0m\n\u001b[1;32m   1510\u001b[0m                 \u001b[0mself\u001b[0m\u001b[0;34m.\u001b[0m\u001b[0mgrid_hash_id\u001b[0m \u001b[0;34m=\u001b[0m \u001b[0mself\u001b[0m\u001b[0;34m.\u001b[0m\u001b[0mget_grid_hash\u001b[0m\u001b[0;34m(\u001b[0m\u001b[0;34m)\u001b[0m\u001b[0;34m\u001b[0m\u001b[0;34m\u001b[0m\u001b[0m\n\u001b[1;32m   1511\u001b[0m                 \u001b[0;32mwhile\u001b[0m \u001b[0;32mTrue\u001b[0m\u001b[0;34m:\u001b[0m\u001b[0;34m\u001b[0m\u001b[0;34m\u001b[0m\u001b[0m\n\u001b[0;32m-> 1512\u001b[0;31m                         \u001b[0msleep\u001b[0m\u001b[0;34m(\u001b[0m\u001b[0mself\u001b[0m\u001b[0;34m.\u001b[0m\u001b[0msleep_time\u001b[0m\u001b[0;34m(\u001b[0m\u001b[0;34m)\u001b[0m\u001b[0;34m)\u001b[0m\u001b[0;34m\u001b[0m\u001b[0;34m\u001b[0m\u001b[0m\n\u001b[0m\u001b[1;32m   1513\u001b[0m                         \u001b[0mgrid_hash_id\u001b[0m \u001b[0;34m=\u001b[0m \u001b[0mself\u001b[0m\u001b[0;34m.\u001b[0m\u001b[0mget_grid_hash\u001b[0m\u001b[0;34m(\u001b[0m\u001b[0;34m)\u001b[0m\u001b[0;34m\u001b[0m\u001b[0;34m\u001b[0m\u001b[0m\n\u001b[1;32m   1514\u001b[0m                         \u001b[0;32mif\u001b[0m \u001b[0mgrid_hash_id\u001b[0m\u001b[0;34m!=\u001b[0m\u001b[0mself\u001b[0m\u001b[0;34m.\u001b[0m\u001b[0mgrid_hash_id\u001b[0m\u001b[0;34m:\u001b[0m\u001b[0;34m\u001b[0m\u001b[0;34m\u001b[0m\u001b[0m\n",
      "\u001b[0;31mKeyboardInterrupt\u001b[0m: "
     ]
    }
   ],
   "source": [
    "H.listen()"
   ]
  }
 ],
 "metadata": {
  "anaconda-cloud": {},
  "kernelspec": {
   "display_name": "Python [conda env:brix]",
   "language": "python",
   "name": "conda-env-brix-py"
  },
  "language_info": {
   "codemirror_mode": {
    "name": "ipython",
    "version": 3
   },
   "file_extension": ".py",
   "mimetype": "text/x-python",
   "name": "python",
   "nbconvert_exporter": "python",
   "pygments_lexer": "ipython3",
   "version": "3.9.2"
  }
 },
 "nbformat": 4,
 "nbformat_minor": 2
}
