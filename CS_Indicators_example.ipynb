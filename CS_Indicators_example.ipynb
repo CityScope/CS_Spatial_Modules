{
 "cells": [
  {
   "cell_type": "code",
   "execution_count": 1,
   "metadata": {},
   "outputs": [],
   "source": [
    "import CS_Indicators as CS\n",
    "from brix import Indicator, Handler\n",
    "import PreCompOsmNet\n",
    "import Simulation\n",
    "import geopandas as gpd\n",
    "import pandas as pd"
   ]
  },
  {
   "cell_type": "code",
   "execution_count": 2,
   "metadata": {},
   "outputs": [],
   "source": [
    "table_name='providence_test'"
   ]
  },
  {
   "cell_type": "markdown",
   "metadata": {},
   "source": [
    "### Load the Saved Data"
   ]
  },
  {
   "cell_type": "code",
   "execution_count": 3,
   "metadata": {},
   "outputs": [],
   "source": [
    "geogrid=gpd.read_file('tables/{}/geogrid.geojson'.format(table_name))\n",
    "zones=gpd.read_file('tables/{}/zones.geojson'.format(table_name))\n",
    "zones['GEOID']=zones['GEOID'].astype(int)\n",
    "zones=zones.set_index('GEOID')\n",
    "simpop_df=pd.read_csv('tables/{}/simpop_df.csv'.format(table_name))"
   ]
  },
  {
   "cell_type": "markdown",
   "metadata": {},
   "source": [
    "### Create the mobility system"
   ]
  },
  {
   "cell_type": "code",
   "execution_count": 4,
   "metadata": {},
   "outputs": [
    {
     "name": "stdout",
     "output_type": "stream",
     "text": [
      "getting internal roads\n",
      "Buffer : 200\n",
      "Doesnt contain external link types\n",
      "Buffer : 400\n",
      "getting external roads\n",
      "\t Simplified from 2143 to 1891 edges and 929 to 750 nodes\n",
      "\t Pre-computing paths\n"
     ]
    }
   ],
   "source": [
    "networks, mode_dicts, route_lengths=PreCompOsmNet.create_2_scale_osmnx_network(\n",
    "    zones.loc[zones['sim_area']], zones.loc[zones['model_area']],\n",
    "    add_modes=[{'name': 'walk', 'speed': 4800/3600},\n",
    "               {'name': 'cycle', 'speed': 14000/3600},\n",
    "               {'name': 'pt', 'speed': 25000/3600}])\n",
    "modes={mode: Simulation.Mode(mode_dicts[mode]) for mode in mode_dicts}\n",
    "mob_sys=Simulation.MobilitySystem(modes=modes, networks=networks)"
   ]
  },
  {
   "cell_type": "code",
   "execution_count": 5,
   "metadata": {},
   "outputs": [],
   "source": [
    "import numpy as np\n",
    "\n",
    "def new_mode_choice_model(all_trips_df):\n",
    "#     all_trips_df['mode']=random.choices(['walk', 'drive'], k=len(all_trips_df))\n",
    "    # all_trips_df['route_distance']=all_trips_df.apply(lambda row: m.route_lengths[row['from_possible_nodes_drive'][0]]\n",
    "    #                                                                     [row['to_possible_nodes_drive'][0]], axis=1)\n",
    "    options=['drive', 'cycle', 'walk', 'pt']\n",
    "    all_trips_df['mode']='drive'\n",
    "    ind_u1500=all_trips_df['route_distance']<1500\n",
    "    ind_1500_5k=((all_trips_df['route_distance']>1500)&(all_trips_df['route_distance']<5000))\n",
    "    ind_5k_10k=((all_trips_df['route_distance']>5000)&(all_trips_df['route_distance']<10000))\n",
    "    ind_10kplus=all_trips_df['route_distance']>10000\n",
    "\n",
    "    all_trips_df.loc[ind_u1500==True, 'mode']=np.random.choice(\n",
    "        options, size=sum(ind_u1500), \n",
    "        replace=True, p=[0.1, 0.2, 0.6, 0.1])\n",
    "\n",
    "    all_trips_df.loc[ind_1500_5k==True, 'mode']=np.random.choice(\n",
    "        options, size=sum(ind_1500_5k), \n",
    "        replace=True, p=[0.25, 0.15, 0.3, 0.3])\n",
    "\n",
    "    all_trips_df.loc[ind_5k_10k==True, 'mode']=np.random.choice(\n",
    "        options, size=sum(ind_5k_10k), \n",
    "        replace=True, p=[0.6, 0.04, 0.01, 0.35])\n",
    "\n",
    "    all_trips_df.loc[ind_10kplus==True, 'mode']=np.random.choice(\n",
    "        options, size=sum(ind_10kplus), \n",
    "        replace=True, p=[0.9, 0.01, 0.01, 0.08])\n",
    "    return all_trips_df\n",
    "\n",
    "mode_descriptions = [{\"name\": 'drive',\n",
    "                    'color': \"#e41a1d\"},\n",
    "                     {\"name\": 'cycle',\n",
    "                    'color': \"#377eb8\"},\n",
    "                     {\"name\": 'walk',\n",
    "                    'color': \"#4daf4a\"},\n",
    "                     {\"name\": 'pt',\n",
    "                    'color': \"#ffff33\"},\n",
    "                    ]"
   ]
  },
  {
   "cell_type": "markdown",
   "metadata": {},
   "source": [
    "### Create and run the Cityscope model"
   ]
  },
  {
   "cell_type": "code",
   "execution_count": 6,
   "metadata": {},
   "outputs": [
    {
     "name": "stdout",
     "output_type": "stream",
     "text": [
      "https://cityio.media.mit.edu/api/tables/list/ Attempt: 0\n",
      "https://cityio.media.mit.edu/api/table/providence_test/meta/hashes/ Attempt: 0\n",
      "https://cityio.media.mit.edu/api/table/providence_test/GEOGRID/ Attempt: 0\n",
      "Proceeding without reviewing GEOGRIDDATA\n",
      "https://cityio.media.mit.edu/api/table/providence_test/meta/hashes/ Attempt: 0\n",
      "GEOGRIDDATA successfully updated: 6i37RGg4CAEQAvtSa6fnnPaPCRjYMxc65r5q6Spcd5XY\n"
     ]
    }
   ],
   "source": [
    "H=Handler(table_name=table_name)\n",
    "H.reset_geogrid_data()"
   ]
  },
  {
   "cell_type": "code",
   "execution_count": null,
   "metadata": {},
   "outputs": [],
   "source": []
  },
  {
   "cell_type": "code",
   "execution_count": 7,
   "metadata": {},
   "outputs": [
    {
     "name": "stdout",
     "output_type": "stream",
     "text": [
      "Init simulation\n"
     ]
    },
    {
     "name": "stderr",
     "output_type": "stream",
     "text": [
      "/Volumes/GoogleDrive/My Drive/Media Lab/NuevoScope/CS_Spatial_Modules/CS_Indicators.py:599: UserWarning: Geometry is in a geographic CRS. Results from 'centroid' are likely incorrect. Use 'GeoSeries.to_crs()' to re-project geometries to a projected CRS before this operation.\n",
      "\n",
      "  centroids=grid_zones['geometry'].centroid\n"
     ]
    },
    {
     "name": "stdout",
     "output_type": "stream",
     "text": [
      "Getting internal nodes\n",
      "Finding closest nodes to every zone centroid\n",
      "Computing zone-zone dist mat\n"
     ]
    },
    {
     "name": "stderr",
     "output_type": "stream",
     "text": [
      "/Users/doorleyr/anaconda3/envs/brix/lib/python3.9/site-packages/osmnx/distance.py:426: UserWarning: The `get_nearest_nodes` function has been deprecated and will be removed in a future release. Use the more efficient `distance.nearest_nodes` instead.\n",
      "  warnings.warn(msg)\n"
     ]
    },
    {
     "name": "stdout",
     "output_type": "stream",
     "text": [
      "https://cityio.media.mit.edu/api/table/providence_test/GEOGRIDDATA/ Attempt: 0\n",
      "Starting MM Update\n",
      "Schedules and locations\n",
      "Trip table\n",
      "Route table\n"
     ]
    },
    {
     "name": "stderr",
     "output_type": "stream",
     "text": [
      "/Volumes/GoogleDrive/My Drive/Media Lab/NuevoScope/CS_Spatial_Modules/Simulation.py:425: SettingWithCopyWarning: \n",
      "A value is trying to be set on a copy of a slice from a DataFrame.\n",
      "Try using .loc[row_indexer,col_indexer] = value instead\n",
      "\n",
      "See the caveats in the documentation: https://pandas.pydata.org/pandas-docs/stable/user_guide/indexing.html#returning-a-view-versus-a-copy\n",
      "  route_table_this_mode['node_path']=routes['node_path']\n",
      "/Volumes/GoogleDrive/My Drive/Media Lab/NuevoScope/CS_Spatial_Modules/Simulation.py:426: SettingWithCopyWarning: \n",
      "A value is trying to be set on a copy of a slice from a DataFrame.\n",
      "Try using .loc[row_indexer,col_indexer] = value instead\n",
      "\n",
      "See the caveats in the documentation: https://pandas.pydata.org/pandas-docs/stable/user_guide/indexing.html#returning-a-view-versus-a-copy\n",
      "  route_table_this_mode['attributes']=routes['attributes']\n"
     ]
    },
    {
     "name": "stdout",
     "output_type": "stream",
     "text": [
      "DeckGL\n",
      "Post ABM: <Response [200]>\n",
      "Finished MM Update\n",
      "\t calculation took 0:00:00.675656\n",
      "\t trips post took 0:00:01.091954\n"
     ]
    }
   ],
   "source": [
    "# d=CS.Density_Indicator(zones=zones)\n",
    "# p=CS.Proximity_Indicator(zones=zones, geogrid=geogrid)\n",
    "\n",
    "\n",
    "m=CS.Mobility_indicator(zones, geogrid, table_name, simpop_df, mob_sys,\n",
    "#                        mode_choice_model=new_mode_choice_model,\n",
    "#                        mode_descriptions=mode_descriptions,\n",
    "                       route_lengths=route_lengths)\n",
    "H.add_indicators([\n",
    "#     d, p, \n",
    "    m\n",
    "])\n",
    "\n",
    "# H.add_indicator(m)"
   ]
  },
  {
   "cell_type": "code",
   "execution_count": 8,
   "metadata": {},
   "outputs": [
    {
     "name": "stdout",
     "output_type": "stream",
     "text": [
      "Table URL: https://cityscope.media.mit.edu/CS_cityscopeJS/?cityscope=providence_test\n",
      "Testing indicators\n",
      "https://cityio.media.mit.edu/api/table/providence_test/GEOGRIDDATA/ Attempt: 0\n",
      "Starting MM Update\n",
      "Schedules and locations\n",
      "Trip table\n",
      "Route table\n"
     ]
    },
    {
     "name": "stderr",
     "output_type": "stream",
     "text": [
      "/Volumes/GoogleDrive/My Drive/Media Lab/NuevoScope/CS_Spatial_Modules/Simulation.py:425: SettingWithCopyWarning: \n",
      "A value is trying to be set on a copy of a slice from a DataFrame.\n",
      "Try using .loc[row_indexer,col_indexer] = value instead\n",
      "\n",
      "See the caveats in the documentation: https://pandas.pydata.org/pandas-docs/stable/user_guide/indexing.html#returning-a-view-versus-a-copy\n",
      "  route_table_this_mode['node_path']=routes['node_path']\n",
      "/Volumes/GoogleDrive/My Drive/Media Lab/NuevoScope/CS_Spatial_Modules/Simulation.py:426: SettingWithCopyWarning: \n",
      "A value is trying to be set on a copy of a slice from a DataFrame.\n",
      "Try using .loc[row_indexer,col_indexer] = value instead\n",
      "\n",
      "See the caveats in the documentation: https://pandas.pydata.org/pandas-docs/stable/user_guide/indexing.html#returning-a-view-versus-a-copy\n",
      "  route_table_this_mode['attributes']=routes['attributes']\n"
     ]
    },
    {
     "name": "stdout",
     "output_type": "stream",
     "text": [
      "DeckGL\n",
      "Post ABM: <Response [200]>\n",
      "Finished MM Update\n",
      "\t calculation took 0:00:00.567062\n",
      "\t trips post took 0:00:01.084437\n",
      "Performing initial update\n",
      "Updating geogrid_data\n",
      "https://cityio.media.mit.edu/api/table/providence_test/GEOGRIDDATA/ Attempt: 0\n",
      "https://cityio.media.mit.edu/api/table/providence_test/meta/hashes/ Attempt: 0\n",
      "Updating table with hash: 6i37RGg4CAEQAvtSa6fnnPaPCRjYMxc65r5q6Spcd5XY\n",
      "https://cityio.media.mit.edu/api/table/providence_test/GEOGRIDDATA/ Attempt: 0\n",
      "Starting MM Update\n",
      "Schedules and locations\n",
      "Trip table\n",
      "Route table\n",
      "DeckGL\n"
     ]
    },
    {
     "name": "stderr",
     "output_type": "stream",
     "text": [
      "/Volumes/GoogleDrive/My Drive/Media Lab/NuevoScope/CS_Spatial_Modules/Simulation.py:425: SettingWithCopyWarning: \n",
      "A value is trying to be set on a copy of a slice from a DataFrame.\n",
      "Try using .loc[row_indexer,col_indexer] = value instead\n",
      "\n",
      "See the caveats in the documentation: https://pandas.pydata.org/pandas-docs/stable/user_guide/indexing.html#returning-a-view-versus-a-copy\n",
      "  route_table_this_mode['node_path']=routes['node_path']\n",
      "/Volumes/GoogleDrive/My Drive/Media Lab/NuevoScope/CS_Spatial_Modules/Simulation.py:426: SettingWithCopyWarning: \n",
      "A value is trying to be set on a copy of a slice from a DataFrame.\n",
      "Try using .loc[row_indexer,col_indexer] = value instead\n",
      "\n",
      "See the caveats in the documentation: https://pandas.pydata.org/pandas-docs/stable/user_guide/indexing.html#returning-a-view-versus-a-copy\n",
      "  route_table_this_mode['attributes']=routes['attributes']\n"
     ]
    },
    {
     "name": "stdout",
     "output_type": "stream",
     "text": [
      "Post ABM: <Response [200]>\n",
      "Finished MM Update\n",
      "\t calculation took 0:00:00.258236\n",
      "\t trips post took 0:00:01.044999\n",
      "Done with update\n",
      "Local grid hash: 6i37RGg4CAEQAvtSa6fnnPaPCRjYMxc65r5q6Spcd5XY\n",
      "https://cityio.media.mit.edu/api/table/providence_test/meta/hashes/ Attempt: 0\n",
      "https://cityio.media.mit.edu/api/table/providence_test/meta/hashes/ Attempt: 0\n",
      "https://cityio.media.mit.edu/api/table/providence_test/meta/hashes/ Attempt: 0\n",
      "https://cityio.media.mit.edu/api/table/providence_test/meta/hashes/ Attempt: 0\n",
      "https://cityio.media.mit.edu/api/table/providence_test/meta/hashes/ Attempt: 0\n",
      "https://cityio.media.mit.edu/api/table/providence_test/meta/hashes/ Attempt: 0\n",
      "https://cityio.media.mit.edu/api/table/providence_test/meta/hashes/ Attempt: 0\n",
      "https://cityio.media.mit.edu/api/table/providence_test/meta/hashes/ Attempt: 0\n",
      "https://cityio.media.mit.edu/api/table/providence_test/meta/hashes/ Attempt: 0\n",
      "https://cityio.media.mit.edu/api/table/providence_test/meta/hashes/ Attempt: 0\n",
      "https://cityio.media.mit.edu/api/table/providence_test/meta/hashes/ Attempt: 0\n",
      "https://cityio.media.mit.edu/api/table/providence_test/meta/hashes/ Attempt: 0\n",
      "https://cityio.media.mit.edu/api/table/providence_test/meta/hashes/ Attempt: 0\n",
      "https://cityio.media.mit.edu/api/table/providence_test/meta/hashes/ Attempt: 0\n",
      "https://cityio.media.mit.edu/api/table/providence_test/meta/hashes/ Attempt: 0\n",
      "https://cityio.media.mit.edu/api/table/providence_test/meta/hashes/ Attempt: 0\n",
      "https://cityio.media.mit.edu/api/table/providence_test/meta/hashes/ Attempt: 0\n",
      "https://cityio.media.mit.edu/api/table/providence_test/meta/hashes/ Attempt: 0\n",
      "https://cityio.media.mit.edu/api/table/providence_test/meta/hashes/ Attempt: 0\n",
      "https://cityio.media.mit.edu/api/table/providence_test/meta/hashes/ Attempt: 0\n",
      "https://cityio.media.mit.edu/api/table/providence_test/meta/hashes/ Attempt: 0\n",
      "https://cityio.media.mit.edu/api/table/providence_test/meta/hashes/ Attempt: 0\n",
      "https://cityio.media.mit.edu/api/table/providence_test/meta/hashes/ Attempt: 0\n",
      "https://cityio.media.mit.edu/api/table/providence_test/meta/hashes/ Attempt: 0\n",
      "https://cityio.media.mit.edu/api/table/providence_test/meta/hashes/ Attempt: 0\n",
      "https://cityio.media.mit.edu/api/table/providence_test/meta/hashes/ Attempt: 0\n",
      "https://cityio.media.mit.edu/api/table/providence_test/meta/hashes/ Attempt: 0\n",
      "https://cityio.media.mit.edu/api/table/providence_test/meta/hashes/ Attempt: 0\n",
      "https://cityio.media.mit.edu/api/table/providence_test/meta/hashes/ Attempt: 0\n",
      "https://cityio.media.mit.edu/api/table/providence_test/meta/hashes/ Attempt: 0\n",
      "https://cityio.media.mit.edu/api/table/providence_test/meta/hashes/ Attempt: 0\n",
      "https://cityio.media.mit.edu/api/table/providence_test/meta/hashes/ Attempt: 0\n",
      "https://cityio.media.mit.edu/api/table/providence_test/meta/hashes/ Attempt: 0\n",
      "https://cityio.media.mit.edu/api/table/providence_test/meta/hashes/ Attempt: 0\n",
      "https://cityio.media.mit.edu/api/table/providence_test/meta/hashes/ Attempt: 0\n",
      "https://cityio.media.mit.edu/api/table/providence_test/meta/hashes/ Attempt: 0\n",
      "https://cityio.media.mit.edu/api/table/providence_test/meta/hashes/ Attempt: 0\n",
      "https://cityio.media.mit.edu/api/table/providence_test/meta/hashes/ Attempt: 0\n",
      "https://cityio.media.mit.edu/api/table/providence_test/meta/hashes/ Attempt: 0\n",
      "https://cityio.media.mit.edu/api/table/providence_test/meta/hashes/ Attempt: 0\n",
      "https://cityio.media.mit.edu/api/table/providence_test/meta/hashes/ Attempt: 0\n",
      "https://cityio.media.mit.edu/api/table/providence_test/meta/hashes/ Attempt: 0\n",
      "https://cityio.media.mit.edu/api/table/providence_test/meta/hashes/ Attempt: 0\n",
      "https://cityio.media.mit.edu/api/table/providence_test/meta/hashes/ Attempt: 0\n",
      "https://cityio.media.mit.edu/api/table/providence_test/meta/hashes/ Attempt: 0\n",
      "https://cityio.media.mit.edu/api/table/providence_test/meta/hashes/ Attempt: 0\n",
      "https://cityio.media.mit.edu/api/table/providence_test/meta/hashes/ Attempt: 0\n",
      "https://cityio.media.mit.edu/api/table/providence_test/meta/hashes/ Attempt: 0\n",
      "https://cityio.media.mit.edu/api/table/providence_test/meta/hashes/ Attempt: 0\n",
      "https://cityio.media.mit.edu/api/table/providence_test/meta/hashes/ Attempt: 0\n",
      "https://cityio.media.mit.edu/api/table/providence_test/meta/hashes/ Attempt: 0\n",
      "https://cityio.media.mit.edu/api/table/providence_test/meta/hashes/ Attempt: 0\n",
      "https://cityio.media.mit.edu/api/table/providence_test/meta/hashes/ Attempt: 0\n",
      "https://cityio.media.mit.edu/api/table/providence_test/meta/hashes/ Attempt: 0\n",
      "https://cityio.media.mit.edu/api/table/providence_test/meta/hashes/ Attempt: 0\n",
      "https://cityio.media.mit.edu/api/table/providence_test/meta/hashes/ Attempt: 0\n",
      "https://cityio.media.mit.edu/api/table/providence_test/meta/hashes/ Attempt: 0\n",
      "https://cityio.media.mit.edu/api/table/providence_test/meta/hashes/ Attempt: 0\n",
      "https://cityio.media.mit.edu/api/table/providence_test/meta/hashes/ Attempt: 0\n",
      "https://cityio.media.mit.edu/api/table/providence_test/meta/hashes/ Attempt: 0\n",
      "https://cityio.media.mit.edu/api/table/providence_test/meta/hashes/ Attempt: 0\n",
      "https://cityio.media.mit.edu/api/table/providence_test/meta/hashes/ Attempt: 0\n",
      "https://cityio.media.mit.edu/api/table/providence_test/meta/hashes/ Attempt: 0\n",
      "https://cityio.media.mit.edu/api/table/providence_test/meta/hashes/ Attempt: 0\n",
      "https://cityio.media.mit.edu/api/table/providence_test/meta/hashes/ Attempt: 0\n",
      "https://cityio.media.mit.edu/api/table/providence_test/meta/hashes/ Attempt: 0\n",
      "https://cityio.media.mit.edu/api/table/providence_test/meta/hashes/ Attempt: 0\n",
      "https://cityio.media.mit.edu/api/table/providence_test/meta/hashes/ Attempt: 0\n",
      "https://cityio.media.mit.edu/api/table/providence_test/meta/hashes/ Attempt: 0\n",
      "https://cityio.media.mit.edu/api/table/providence_test/meta/hashes/ Attempt: 0\n",
      "https://cityio.media.mit.edu/api/table/providence_test/meta/hashes/ Attempt: 0\n",
      "https://cityio.media.mit.edu/api/table/providence_test/meta/hashes/ Attempt: 0\n",
      "https://cityio.media.mit.edu/api/table/providence_test/meta/hashes/ Attempt: 0\n",
      "https://cityio.media.mit.edu/api/table/providence_test/meta/hashes/ Attempt: 0\n",
      "https://cityio.media.mit.edu/api/table/providence_test/meta/hashes/ Attempt: 0\n",
      "https://cityio.media.mit.edu/api/table/providence_test/meta/hashes/ Attempt: 0\n",
      "https://cityio.media.mit.edu/api/table/providence_test/meta/hashes/ Attempt: 0\n",
      "https://cityio.media.mit.edu/api/table/providence_test/meta/hashes/ Attempt: 0\n",
      "https://cityio.media.mit.edu/api/table/providence_test/meta/hashes/ Attempt: 0\n",
      "https://cityio.media.mit.edu/api/table/providence_test/meta/hashes/ Attempt: 0\n",
      "https://cityio.media.mit.edu/api/table/providence_test/meta/hashes/ Attempt: 0\n",
      "https://cityio.media.mit.edu/api/table/providence_test/meta/hashes/ Attempt: 0\n",
      "https://cityio.media.mit.edu/api/table/providence_test/meta/hashes/ Attempt: 0\n",
      "https://cityio.media.mit.edu/api/table/providence_test/meta/hashes/ Attempt: 0\n",
      "https://cityio.media.mit.edu/api/table/providence_test/meta/hashes/ Attempt: 0\n",
      "https://cityio.media.mit.edu/api/table/providence_test/meta/hashes/ Attempt: 0\n",
      "https://cityio.media.mit.edu/api/table/providence_test/meta/hashes/ Attempt: 0\n",
      "https://cityio.media.mit.edu/api/table/providence_test/meta/hashes/ Attempt: 0\n",
      "https://cityio.media.mit.edu/api/table/providence_test/meta/hashes/ Attempt: 0\n",
      "https://cityio.media.mit.edu/api/table/providence_test/meta/hashes/ Attempt: 0\n",
      "https://cityio.media.mit.edu/api/table/providence_test/meta/hashes/ Attempt: 0\n",
      "https://cityio.media.mit.edu/api/table/providence_test/meta/hashes/ Attempt: 0\n",
      "https://cityio.media.mit.edu/api/table/providence_test/meta/hashes/ Attempt: 0\n",
      "https://cityio.media.mit.edu/api/table/providence_test/meta/hashes/ Attempt: 0\n",
      "https://cityio.media.mit.edu/api/table/providence_test/meta/hashes/ Attempt: 0\n",
      "https://cityio.media.mit.edu/api/table/providence_test/meta/hashes/ Attempt: 0\n",
      "https://cityio.media.mit.edu/api/table/providence_test/meta/hashes/ Attempt: 0\n",
      "https://cityio.media.mit.edu/api/table/providence_test/meta/hashes/ Attempt: 0\n",
      "https://cityio.media.mit.edu/api/table/providence_test/meta/hashes/ Attempt: 0\n",
      "https://cityio.media.mit.edu/api/table/providence_test/meta/hashes/ Attempt: 0\n",
      "https://cityio.media.mit.edu/api/table/providence_test/meta/hashes/ Attempt: 0\n",
      "https://cityio.media.mit.edu/api/table/providence_test/meta/hashes/ Attempt: 0\n"
     ]
    },
    {
     "name": "stdout",
     "output_type": "stream",
     "text": [
      "https://cityio.media.mit.edu/api/table/providence_test/meta/hashes/ Attempt: 0\n",
      "https://cityio.media.mit.edu/api/table/providence_test/meta/hashes/ Attempt: 0\n",
      "https://cityio.media.mit.edu/api/table/providence_test/meta/hashes/ Attempt: 0\n",
      "https://cityio.media.mit.edu/api/table/providence_test/meta/hashes/ Attempt: 0\n",
      "https://cityio.media.mit.edu/api/table/providence_test/meta/hashes/ Attempt: 0\n",
      "https://cityio.media.mit.edu/api/table/providence_test/meta/hashes/ Attempt: 0\n",
      "https://cityio.media.mit.edu/api/table/providence_test/meta/hashes/ Attempt: 0\n",
      "https://cityio.media.mit.edu/api/table/providence_test/meta/hashes/ Attempt: 0\n",
      "https://cityio.media.mit.edu/api/table/providence_test/meta/hashes/ Attempt: 0\n",
      "https://cityio.media.mit.edu/api/table/providence_test/meta/hashes/ Attempt: 0\n",
      "https://cityio.media.mit.edu/api/table/providence_test/meta/hashes/ Attempt: 0\n",
      "https://cityio.media.mit.edu/api/table/providence_test/meta/hashes/ Attempt: 0\n",
      "https://cityio.media.mit.edu/api/table/providence_test/meta/hashes/ Attempt: 0\n",
      "https://cityio.media.mit.edu/api/table/providence_test/meta/hashes/ Attempt: 0\n",
      "https://cityio.media.mit.edu/api/table/providence_test/meta/hashes/ Attempt: 0\n",
      "https://cityio.media.mit.edu/api/table/providence_test/meta/hashes/ Attempt: 0\n",
      "https://cityio.media.mit.edu/api/table/providence_test/meta/hashes/ Attempt: 0\n",
      "https://cityio.media.mit.edu/api/table/providence_test/meta/hashes/ Attempt: 0\n",
      "https://cityio.media.mit.edu/api/table/providence_test/meta/hashes/ Attempt: 0\n",
      "https://cityio.media.mit.edu/api/table/providence_test/meta/hashes/ Attempt: 0\n",
      "https://cityio.media.mit.edu/api/table/providence_test/meta/hashes/ Attempt: 0\n",
      "https://cityio.media.mit.edu/api/table/providence_test/meta/hashes/ Attempt: 0\n",
      "https://cityio.media.mit.edu/api/table/providence_test/meta/hashes/ Attempt: 0\n",
      "https://cityio.media.mit.edu/api/table/providence_test/meta/hashes/ Attempt: 0\n",
      "https://cityio.media.mit.edu/api/table/providence_test/meta/hashes/ Attempt: 0\n",
      "https://cityio.media.mit.edu/api/table/providence_test/meta/hashes/ Attempt: 0\n",
      "https://cityio.media.mit.edu/api/table/providence_test/meta/hashes/ Attempt: 0\n",
      "https://cityio.media.mit.edu/api/table/providence_test/meta/hashes/ Attempt: 0\n",
      "https://cityio.media.mit.edu/api/table/providence_test/meta/hashes/ Attempt: 0\n",
      "https://cityio.media.mit.edu/api/table/providence_test/meta/hashes/ Attempt: 0\n",
      "https://cityio.media.mit.edu/api/table/providence_test/meta/hashes/ Attempt: 0\n",
      "https://cityio.media.mit.edu/api/table/providence_test/meta/hashes/ Attempt: 0\n",
      "https://cityio.media.mit.edu/api/table/providence_test/meta/hashes/ Attempt: 0\n",
      "https://cityio.media.mit.edu/api/table/providence_test/meta/hashes/ Attempt: 0\n",
      "https://cityio.media.mit.edu/api/table/providence_test/meta/hashes/ Attempt: 0\n",
      "https://cityio.media.mit.edu/api/table/providence_test/meta/hashes/ Attempt: 0\n",
      "https://cityio.media.mit.edu/api/table/providence_test/meta/hashes/ Attempt: 0\n",
      "https://cityio.media.mit.edu/api/table/providence_test/meta/hashes/ Attempt: 0\n",
      "https://cityio.media.mit.edu/api/table/providence_test/meta/hashes/ Attempt: 0\n",
      "https://cityio.media.mit.edu/api/table/providence_test/meta/hashes/ Attempt: 0\n",
      "https://cityio.media.mit.edu/api/table/providence_test/meta/hashes/ Attempt: 0\n",
      "https://cityio.media.mit.edu/api/table/providence_test/meta/hashes/ Attempt: 0\n",
      "https://cityio.media.mit.edu/api/table/providence_test/meta/hashes/ Attempt: 0\n",
      "https://cityio.media.mit.edu/api/table/providence_test/meta/hashes/ Attempt: 0\n",
      "https://cityio.media.mit.edu/api/table/providence_test/meta/hashes/ Attempt: 0\n",
      "https://cityio.media.mit.edu/api/table/providence_test/meta/hashes/ Attempt: 0\n",
      "https://cityio.media.mit.edu/api/table/providence_test/meta/hashes/ Attempt: 0\n",
      "https://cityio.media.mit.edu/api/table/providence_test/meta/hashes/ Attempt: 0\n",
      "https://cityio.media.mit.edu/api/table/providence_test/meta/hashes/ Attempt: 0\n",
      "https://cityio.media.mit.edu/api/table/providence_test/meta/hashes/ Attempt: 0\n",
      "https://cityio.media.mit.edu/api/table/providence_test/meta/hashes/ Attempt: 0\n",
      "https://cityio.media.mit.edu/api/table/providence_test/meta/hashes/ Attempt: 0\n",
      "https://cityio.media.mit.edu/api/table/providence_test/meta/hashes/ Attempt: 0\n",
      "https://cityio.media.mit.edu/api/table/providence_test/meta/hashes/ Attempt: 0\n",
      "https://cityio.media.mit.edu/api/table/providence_test/meta/hashes/ Attempt: 0\n",
      "https://cityio.media.mit.edu/api/table/providence_test/meta/hashes/ Attempt: 0\n",
      "https://cityio.media.mit.edu/api/table/providence_test/meta/hashes/ Attempt: 0\n",
      "https://cityio.media.mit.edu/api/table/providence_test/meta/hashes/ Attempt: 0\n",
      "https://cityio.media.mit.edu/api/table/providence_test/meta/hashes/ Attempt: 0\n",
      "https://cityio.media.mit.edu/api/table/providence_test/meta/hashes/ Attempt: 0\n",
      "https://cityio.media.mit.edu/api/table/providence_test/meta/hashes/ Attempt: 0\n",
      "https://cityio.media.mit.edu/api/table/providence_test/meta/hashes/ Attempt: 0\n",
      "https://cityio.media.mit.edu/api/table/providence_test/meta/hashes/ Attempt: 0\n",
      "https://cityio.media.mit.edu/api/table/providence_test/meta/hashes/ Attempt: 0\n",
      "https://cityio.media.mit.edu/api/table/providence_test/meta/hashes/ Attempt: 0\n",
      "https://cityio.media.mit.edu/api/table/providence_test/meta/hashes/ Attempt: 0\n",
      "https://cityio.media.mit.edu/api/table/providence_test/meta/hashes/ Attempt: 0\n",
      "https://cityio.media.mit.edu/api/table/providence_test/meta/hashes/ Attempt: 0\n",
      "https://cityio.media.mit.edu/api/table/providence_test/meta/hashes/ Attempt: 0\n",
      "https://cityio.media.mit.edu/api/table/providence_test/meta/hashes/ Attempt: 0\n",
      "https://cityio.media.mit.edu/api/table/providence_test/meta/hashes/ Attempt: 0\n",
      "https://cityio.media.mit.edu/api/table/providence_test/meta/hashes/ Attempt: 0\n",
      "https://cityio.media.mit.edu/api/table/providence_test/meta/hashes/ Attempt: 0\n",
      "https://cityio.media.mit.edu/api/table/providence_test/meta/hashes/ Attempt: 0\n",
      "https://cityio.media.mit.edu/api/table/providence_test/meta/hashes/ Attempt: 0\n",
      "https://cityio.media.mit.edu/api/table/providence_test/meta/hashes/ Attempt: 0\n",
      "https://cityio.media.mit.edu/api/table/providence_test/meta/hashes/ Attempt: 0\n",
      "https://cityio.media.mit.edu/api/table/providence_test/meta/hashes/ Attempt: 0\n",
      "https://cityio.media.mit.edu/api/table/providence_test/meta/hashes/ Attempt: 0\n",
      "https://cityio.media.mit.edu/api/table/providence_test/meta/hashes/ Attempt: 0\n",
      "https://cityio.media.mit.edu/api/table/providence_test/meta/hashes/ Attempt: 0\n",
      "https://cityio.media.mit.edu/api/table/providence_test/meta/hashes/ Attempt: 0\n",
      "https://cityio.media.mit.edu/api/table/providence_test/meta/hashes/ Attempt: 0\n",
      "https://cityio.media.mit.edu/api/table/providence_test/meta/hashes/ Attempt: 0\n",
      "https://cityio.media.mit.edu/api/table/providence_test/meta/hashes/ Attempt: 0\n",
      "https://cityio.media.mit.edu/api/table/providence_test/meta/hashes/ Attempt: 0\n",
      "https://cityio.media.mit.edu/api/table/providence_test/meta/hashes/ Attempt: 0\n",
      "https://cityio.media.mit.edu/api/table/providence_test/meta/hashes/ Attempt: 0\n",
      "https://cityio.media.mit.edu/api/table/providence_test/meta/hashes/ Attempt: 0\n",
      "https://cityio.media.mit.edu/api/table/providence_test/meta/hashes/ Attempt: 0\n",
      "https://cityio.media.mit.edu/api/table/providence_test/meta/hashes/ Attempt: 0\n",
      "https://cityio.media.mit.edu/api/table/providence_test/meta/hashes/ Attempt: 0\n",
      "https://cityio.media.mit.edu/api/table/providence_test/meta/hashes/ Attempt: 0\n",
      "https://cityio.media.mit.edu/api/table/providence_test/meta/hashes/ Attempt: 0\n",
      "https://cityio.media.mit.edu/api/table/providence_test/meta/hashes/ Attempt: 0\n",
      "https://cityio.media.mit.edu/api/table/providence_test/meta/hashes/ Attempt: 0\n",
      "https://cityio.media.mit.edu/api/table/providence_test/meta/hashes/ Attempt: 0\n",
      "https://cityio.media.mit.edu/api/table/providence_test/meta/hashes/ Attempt: 0\n",
      "https://cityio.media.mit.edu/api/table/providence_test/meta/hashes/ Attempt: 0\n",
      "https://cityio.media.mit.edu/api/table/providence_test/meta/hashes/ Attempt: 0\n",
      "https://cityio.media.mit.edu/api/table/providence_test/meta/hashes/ Attempt: 0\n",
      "https://cityio.media.mit.edu/api/table/providence_test/meta/hashes/ Attempt: 0\n",
      "https://cityio.media.mit.edu/api/table/providence_test/meta/hashes/ Attempt: 0\n",
      "https://cityio.media.mit.edu/api/table/providence_test/meta/hashes/ Attempt: 0\n"
     ]
    },
    {
     "name": "stdout",
     "output_type": "stream",
     "text": [
      "https://cityio.media.mit.edu/api/table/providence_test/meta/hashes/ Attempt: 0\n",
      "https://cityio.media.mit.edu/api/table/providence_test/meta/hashes/ Attempt: 0\n",
      "https://cityio.media.mit.edu/api/table/providence_test/meta/hashes/ Attempt: 0\n",
      "https://cityio.media.mit.edu/api/table/providence_test/meta/hashes/ Attempt: 0\n",
      "https://cityio.media.mit.edu/api/table/providence_test/meta/hashes/ Attempt: 0\n",
      "https://cityio.media.mit.edu/api/table/providence_test/meta/hashes/ Attempt: 0\n",
      "https://cityio.media.mit.edu/api/table/providence_test/meta/hashes/ Attempt: 0\n",
      "https://cityio.media.mit.edu/api/table/providence_test/meta/hashes/ Attempt: 0\n",
      "https://cityio.media.mit.edu/api/table/providence_test/meta/hashes/ Attempt: 0\n",
      "https://cityio.media.mit.edu/api/table/providence_test/meta/hashes/ Attempt: 0\n",
      "https://cityio.media.mit.edu/api/table/providence_test/meta/hashes/ Attempt: 0\n",
      "https://cityio.media.mit.edu/api/table/providence_test/meta/hashes/ Attempt: 0\n",
      "https://cityio.media.mit.edu/api/table/providence_test/meta/hashes/ Attempt: 0\n",
      "https://cityio.media.mit.edu/api/table/providence_test/meta/hashes/ Attempt: 0\n",
      "https://cityio.media.mit.edu/api/table/providence_test/meta/hashes/ Attempt: 0\n",
      "https://cityio.media.mit.edu/api/table/providence_test/meta/hashes/ Attempt: 0\n",
      "https://cityio.media.mit.edu/api/table/providence_test/meta/hashes/ Attempt: 0\n",
      "https://cityio.media.mit.edu/api/table/providence_test/meta/hashes/ Attempt: 0\n",
      "https://cityio.media.mit.edu/api/table/providence_test/meta/hashes/ Attempt: 0\n",
      "https://cityio.media.mit.edu/api/table/providence_test/meta/hashes/ Attempt: 0\n",
      "https://cityio.media.mit.edu/api/table/providence_test/meta/hashes/ Attempt: 0\n",
      "https://cityio.media.mit.edu/api/table/providence_test/meta/hashes/ Attempt: 0\n",
      "https://cityio.media.mit.edu/api/table/providence_test/meta/hashes/ Attempt: 0\n",
      "https://cityio.media.mit.edu/api/table/providence_test/meta/hashes/ Attempt: 0\n",
      "https://cityio.media.mit.edu/api/table/providence_test/meta/hashes/ Attempt: 0\n",
      "https://cityio.media.mit.edu/api/table/providence_test/meta/hashes/ Attempt: 0\n",
      "https://cityio.media.mit.edu/api/table/providence_test/meta/hashes/ Attempt: 0\n",
      "https://cityio.media.mit.edu/api/table/providence_test/meta/hashes/ Attempt: 0\n",
      "https://cityio.media.mit.edu/api/table/providence_test/meta/hashes/ Attempt: 0\n",
      "https://cityio.media.mit.edu/api/table/providence_test/meta/hashes/ Attempt: 0\n",
      "https://cityio.media.mit.edu/api/table/providence_test/meta/hashes/ Attempt: 0\n",
      "https://cityio.media.mit.edu/api/table/providence_test/meta/hashes/ Attempt: 0\n",
      "https://cityio.media.mit.edu/api/table/providence_test/meta/hashes/ Attempt: 0\n",
      "https://cityio.media.mit.edu/api/table/providence_test/meta/hashes/ Attempt: 0\n",
      "https://cityio.media.mit.edu/api/table/providence_test/meta/hashes/ Attempt: 0\n",
      "https://cityio.media.mit.edu/api/table/providence_test/meta/hashes/ Attempt: 0\n",
      "https://cityio.media.mit.edu/api/table/providence_test/meta/hashes/ Attempt: 0\n",
      "https://cityio.media.mit.edu/api/table/providence_test/meta/hashes/ Attempt: 0\n",
      "https://cityio.media.mit.edu/api/table/providence_test/meta/hashes/ Attempt: 0\n",
      "https://cityio.media.mit.edu/api/table/providence_test/meta/hashes/ Attempt: 0\n",
      "https://cityio.media.mit.edu/api/table/providence_test/meta/hashes/ Attempt: 0\n",
      "https://cityio.media.mit.edu/api/table/providence_test/meta/hashes/ Attempt: 0\n",
      "https://cityio.media.mit.edu/api/table/providence_test/meta/hashes/ Attempt: 0\n",
      "https://cityio.media.mit.edu/api/table/providence_test/meta/hashes/ Attempt: 0\n",
      "https://cityio.media.mit.edu/api/table/providence_test/meta/hashes/ Attempt: 0\n",
      "https://cityio.media.mit.edu/api/table/providence_test/meta/hashes/ Attempt: 0\n",
      "https://cityio.media.mit.edu/api/table/providence_test/meta/hashes/ Attempt: 0\n",
      "https://cityio.media.mit.edu/api/table/providence_test/meta/hashes/ Attempt: 0\n",
      "Going into rest mode\n",
      "Time active: 300.53908586502075\n",
      "https://cityio.media.mit.edu/api/table/providence_test/meta/hashes/ Attempt: 0\n",
      "https://cityio.media.mit.edu/api/table/providence_test/meta/hashes/ Attempt: 0\n"
     ]
    },
    {
     "ename": "ConnectionError",
     "evalue": "HTTPSConnectionPool(host='cityio.media.mit.edu', port=443): Max retries exceeded with url: /api/table/providence_test/meta/hashes/ (Caused by NewConnectionError('<urllib3.connection.HTTPSConnection object at 0x1487ee8b0>: Failed to establish a new connection: [Errno 51] Network is unreachable'))",
     "output_type": "error",
     "traceback": [
      "\u001b[0;31m---------------------------------------------------------------------------\u001b[0m",
      "\u001b[0;31mOSError\u001b[0m                                   Traceback (most recent call last)",
      "\u001b[0;32m~/anaconda3/envs/brix/lib/python3.9/site-packages/urllib3/connection.py\u001b[0m in \u001b[0;36m_new_conn\u001b[0;34m(self)\u001b[0m\n\u001b[1;32m    168\u001b[0m         \u001b[0;32mtry\u001b[0m\u001b[0;34m:\u001b[0m\u001b[0;34m\u001b[0m\u001b[0;34m\u001b[0m\u001b[0m\n\u001b[0;32m--> 169\u001b[0;31m             conn = connection.create_connection(\n\u001b[0m\u001b[1;32m    170\u001b[0m                 \u001b[0;34m(\u001b[0m\u001b[0mself\u001b[0m\u001b[0;34m.\u001b[0m\u001b[0m_dns_host\u001b[0m\u001b[0;34m,\u001b[0m \u001b[0mself\u001b[0m\u001b[0;34m.\u001b[0m\u001b[0mport\u001b[0m\u001b[0;34m)\u001b[0m\u001b[0;34m,\u001b[0m \u001b[0mself\u001b[0m\u001b[0;34m.\u001b[0m\u001b[0mtimeout\u001b[0m\u001b[0;34m,\u001b[0m \u001b[0;34m**\u001b[0m\u001b[0mextra_kw\u001b[0m\u001b[0;34m\u001b[0m\u001b[0;34m\u001b[0m\u001b[0m\n",
      "\u001b[0;32m~/anaconda3/envs/brix/lib/python3.9/site-packages/urllib3/util/connection.py\u001b[0m in \u001b[0;36mcreate_connection\u001b[0;34m(address, timeout, source_address, socket_options)\u001b[0m\n\u001b[1;32m     95\u001b[0m     \u001b[0;32mif\u001b[0m \u001b[0merr\u001b[0m \u001b[0;32mis\u001b[0m \u001b[0;32mnot\u001b[0m \u001b[0;32mNone\u001b[0m\u001b[0;34m:\u001b[0m\u001b[0;34m\u001b[0m\u001b[0;34m\u001b[0m\u001b[0m\n\u001b[0;32m---> 96\u001b[0;31m         \u001b[0;32mraise\u001b[0m \u001b[0merr\u001b[0m\u001b[0;34m\u001b[0m\u001b[0;34m\u001b[0m\u001b[0m\n\u001b[0m\u001b[1;32m     97\u001b[0m \u001b[0;34m\u001b[0m\u001b[0m\n",
      "\u001b[0;32m~/anaconda3/envs/brix/lib/python3.9/site-packages/urllib3/util/connection.py\u001b[0m in \u001b[0;36mcreate_connection\u001b[0;34m(address, timeout, source_address, socket_options)\u001b[0m\n\u001b[1;32m     85\u001b[0m                 \u001b[0msock\u001b[0m\u001b[0;34m.\u001b[0m\u001b[0mbind\u001b[0m\u001b[0;34m(\u001b[0m\u001b[0msource_address\u001b[0m\u001b[0;34m)\u001b[0m\u001b[0;34m\u001b[0m\u001b[0;34m\u001b[0m\u001b[0m\n\u001b[0;32m---> 86\u001b[0;31m             \u001b[0msock\u001b[0m\u001b[0;34m.\u001b[0m\u001b[0mconnect\u001b[0m\u001b[0;34m(\u001b[0m\u001b[0msa\u001b[0m\u001b[0;34m)\u001b[0m\u001b[0;34m\u001b[0m\u001b[0;34m\u001b[0m\u001b[0m\n\u001b[0m\u001b[1;32m     87\u001b[0m             \u001b[0;32mreturn\u001b[0m \u001b[0msock\u001b[0m\u001b[0;34m\u001b[0m\u001b[0;34m\u001b[0m\u001b[0m\n",
      "\u001b[0;31mOSError\u001b[0m: [Errno 51] Network is unreachable",
      "\nDuring handling of the above exception, another exception occurred:\n",
      "\u001b[0;31mNewConnectionError\u001b[0m                        Traceback (most recent call last)",
      "\u001b[0;32m~/anaconda3/envs/brix/lib/python3.9/site-packages/urllib3/connectionpool.py\u001b[0m in \u001b[0;36murlopen\u001b[0;34m(self, method, url, body, headers, retries, redirect, assert_same_host, timeout, pool_timeout, release_conn, chunked, body_pos, **response_kw)\u001b[0m\n\u001b[1;32m    698\u001b[0m             \u001b[0;31m# Make the request on the httplib connection object.\u001b[0m\u001b[0;34m\u001b[0m\u001b[0;34m\u001b[0m\u001b[0;34m\u001b[0m\u001b[0m\n\u001b[0;32m--> 699\u001b[0;31m             httplib_response = self._make_request(\n\u001b[0m\u001b[1;32m    700\u001b[0m                 \u001b[0mconn\u001b[0m\u001b[0;34m,\u001b[0m\u001b[0;34m\u001b[0m\u001b[0;34m\u001b[0m\u001b[0m\n",
      "\u001b[0;32m~/anaconda3/envs/brix/lib/python3.9/site-packages/urllib3/connectionpool.py\u001b[0m in \u001b[0;36m_make_request\u001b[0;34m(self, conn, method, url, timeout, chunked, **httplib_request_kw)\u001b[0m\n\u001b[1;32m    381\u001b[0m         \u001b[0;32mtry\u001b[0m\u001b[0;34m:\u001b[0m\u001b[0;34m\u001b[0m\u001b[0;34m\u001b[0m\u001b[0m\n\u001b[0;32m--> 382\u001b[0;31m             \u001b[0mself\u001b[0m\u001b[0;34m.\u001b[0m\u001b[0m_validate_conn\u001b[0m\u001b[0;34m(\u001b[0m\u001b[0mconn\u001b[0m\u001b[0;34m)\u001b[0m\u001b[0;34m\u001b[0m\u001b[0;34m\u001b[0m\u001b[0m\n\u001b[0m\u001b[1;32m    383\u001b[0m         \u001b[0;32mexcept\u001b[0m \u001b[0;34m(\u001b[0m\u001b[0mSocketTimeout\u001b[0m\u001b[0;34m,\u001b[0m \u001b[0mBaseSSLError\u001b[0m\u001b[0;34m)\u001b[0m \u001b[0;32mas\u001b[0m \u001b[0me\u001b[0m\u001b[0;34m:\u001b[0m\u001b[0;34m\u001b[0m\u001b[0;34m\u001b[0m\u001b[0m\n",
      "\u001b[0;32m~/anaconda3/envs/brix/lib/python3.9/site-packages/urllib3/connectionpool.py\u001b[0m in \u001b[0;36m_validate_conn\u001b[0;34m(self, conn)\u001b[0m\n\u001b[1;32m   1009\u001b[0m         \u001b[0;32mif\u001b[0m \u001b[0;32mnot\u001b[0m \u001b[0mgetattr\u001b[0m\u001b[0;34m(\u001b[0m\u001b[0mconn\u001b[0m\u001b[0;34m,\u001b[0m \u001b[0;34m\"sock\"\u001b[0m\u001b[0;34m,\u001b[0m \u001b[0;32mNone\u001b[0m\u001b[0;34m)\u001b[0m\u001b[0;34m:\u001b[0m  \u001b[0;31m# AppEngine might not have  `.sock`\u001b[0m\u001b[0;34m\u001b[0m\u001b[0;34m\u001b[0m\u001b[0m\n\u001b[0;32m-> 1010\u001b[0;31m             \u001b[0mconn\u001b[0m\u001b[0;34m.\u001b[0m\u001b[0mconnect\u001b[0m\u001b[0;34m(\u001b[0m\u001b[0;34m)\u001b[0m\u001b[0;34m\u001b[0m\u001b[0;34m\u001b[0m\u001b[0m\n\u001b[0m\u001b[1;32m   1011\u001b[0m \u001b[0;34m\u001b[0m\u001b[0m\n",
      "\u001b[0;32m~/anaconda3/envs/brix/lib/python3.9/site-packages/urllib3/connection.py\u001b[0m in \u001b[0;36mconnect\u001b[0;34m(self)\u001b[0m\n\u001b[1;32m    352\u001b[0m         \u001b[0;31m# Add certificate verification\u001b[0m\u001b[0;34m\u001b[0m\u001b[0;34m\u001b[0m\u001b[0;34m\u001b[0m\u001b[0m\n\u001b[0;32m--> 353\u001b[0;31m         \u001b[0mconn\u001b[0m \u001b[0;34m=\u001b[0m \u001b[0mself\u001b[0m\u001b[0;34m.\u001b[0m\u001b[0m_new_conn\u001b[0m\u001b[0;34m(\u001b[0m\u001b[0;34m)\u001b[0m\u001b[0;34m\u001b[0m\u001b[0;34m\u001b[0m\u001b[0m\n\u001b[0m\u001b[1;32m    354\u001b[0m         \u001b[0mhostname\u001b[0m \u001b[0;34m=\u001b[0m \u001b[0mself\u001b[0m\u001b[0;34m.\u001b[0m\u001b[0mhost\u001b[0m\u001b[0;34m\u001b[0m\u001b[0;34m\u001b[0m\u001b[0m\n",
      "\u001b[0;32m~/anaconda3/envs/brix/lib/python3.9/site-packages/urllib3/connection.py\u001b[0m in \u001b[0;36m_new_conn\u001b[0;34m(self)\u001b[0m\n\u001b[1;32m    180\u001b[0m         \u001b[0;32mexcept\u001b[0m \u001b[0mSocketError\u001b[0m \u001b[0;32mas\u001b[0m \u001b[0me\u001b[0m\u001b[0;34m:\u001b[0m\u001b[0;34m\u001b[0m\u001b[0;34m\u001b[0m\u001b[0m\n\u001b[0;32m--> 181\u001b[0;31m             raise NewConnectionError(\n\u001b[0m\u001b[1;32m    182\u001b[0m                 \u001b[0mself\u001b[0m\u001b[0;34m,\u001b[0m \u001b[0;34m\"Failed to establish a new connection: %s\"\u001b[0m \u001b[0;34m%\u001b[0m \u001b[0me\u001b[0m\u001b[0;34m\u001b[0m\u001b[0;34m\u001b[0m\u001b[0m\n",
      "\u001b[0;31mNewConnectionError\u001b[0m: <urllib3.connection.HTTPSConnection object at 0x1487ee8b0>: Failed to establish a new connection: [Errno 51] Network is unreachable",
      "\nDuring handling of the above exception, another exception occurred:\n",
      "\u001b[0;31mMaxRetryError\u001b[0m                             Traceback (most recent call last)",
      "\u001b[0;32m~/anaconda3/envs/brix/lib/python3.9/site-packages/requests/adapters.py\u001b[0m in \u001b[0;36msend\u001b[0;34m(self, request, stream, timeout, verify, cert, proxies)\u001b[0m\n\u001b[1;32m    438\u001b[0m             \u001b[0;32mif\u001b[0m \u001b[0;32mnot\u001b[0m \u001b[0mchunked\u001b[0m\u001b[0;34m:\u001b[0m\u001b[0;34m\u001b[0m\u001b[0;34m\u001b[0m\u001b[0m\n\u001b[0;32m--> 439\u001b[0;31m                 resp = conn.urlopen(\n\u001b[0m\u001b[1;32m    440\u001b[0m                     \u001b[0mmethod\u001b[0m\u001b[0;34m=\u001b[0m\u001b[0mrequest\u001b[0m\u001b[0;34m.\u001b[0m\u001b[0mmethod\u001b[0m\u001b[0;34m,\u001b[0m\u001b[0;34m\u001b[0m\u001b[0;34m\u001b[0m\u001b[0m\n",
      "\u001b[0;32m~/anaconda3/envs/brix/lib/python3.9/site-packages/urllib3/connectionpool.py\u001b[0m in \u001b[0;36murlopen\u001b[0;34m(self, method, url, body, headers, retries, redirect, assert_same_host, timeout, pool_timeout, release_conn, chunked, body_pos, **response_kw)\u001b[0m\n\u001b[1;32m    754\u001b[0m \u001b[0;34m\u001b[0m\u001b[0m\n\u001b[0;32m--> 755\u001b[0;31m             retries = retries.increment(\n\u001b[0m\u001b[1;32m    756\u001b[0m                 \u001b[0mmethod\u001b[0m\u001b[0;34m,\u001b[0m \u001b[0murl\u001b[0m\u001b[0;34m,\u001b[0m \u001b[0merror\u001b[0m\u001b[0;34m=\u001b[0m\u001b[0me\u001b[0m\u001b[0;34m,\u001b[0m \u001b[0m_pool\u001b[0m\u001b[0;34m=\u001b[0m\u001b[0mself\u001b[0m\u001b[0;34m,\u001b[0m \u001b[0m_stacktrace\u001b[0m\u001b[0;34m=\u001b[0m\u001b[0msys\u001b[0m\u001b[0;34m.\u001b[0m\u001b[0mexc_info\u001b[0m\u001b[0;34m(\u001b[0m\u001b[0;34m)\u001b[0m\u001b[0;34m[\u001b[0m\u001b[0;36m2\u001b[0m\u001b[0;34m]\u001b[0m\u001b[0;34m\u001b[0m\u001b[0;34m\u001b[0m\u001b[0m\n",
      "\u001b[0;32m~/anaconda3/envs/brix/lib/python3.9/site-packages/urllib3/util/retry.py\u001b[0m in \u001b[0;36mincrement\u001b[0;34m(self, method, url, response, error, _pool, _stacktrace)\u001b[0m\n\u001b[1;32m    573\u001b[0m         \u001b[0;32mif\u001b[0m \u001b[0mnew_retry\u001b[0m\u001b[0;34m.\u001b[0m\u001b[0mis_exhausted\u001b[0m\u001b[0;34m(\u001b[0m\u001b[0;34m)\u001b[0m\u001b[0;34m:\u001b[0m\u001b[0;34m\u001b[0m\u001b[0;34m\u001b[0m\u001b[0m\n\u001b[0;32m--> 574\u001b[0;31m             \u001b[0;32mraise\u001b[0m \u001b[0mMaxRetryError\u001b[0m\u001b[0;34m(\u001b[0m\u001b[0m_pool\u001b[0m\u001b[0;34m,\u001b[0m \u001b[0murl\u001b[0m\u001b[0;34m,\u001b[0m \u001b[0merror\u001b[0m \u001b[0;32mor\u001b[0m \u001b[0mResponseError\u001b[0m\u001b[0;34m(\u001b[0m\u001b[0mcause\u001b[0m\u001b[0;34m)\u001b[0m\u001b[0;34m)\u001b[0m\u001b[0;34m\u001b[0m\u001b[0;34m\u001b[0m\u001b[0m\n\u001b[0m\u001b[1;32m    575\u001b[0m \u001b[0;34m\u001b[0m\u001b[0m\n",
      "\u001b[0;31mMaxRetryError\u001b[0m: HTTPSConnectionPool(host='cityio.media.mit.edu', port=443): Max retries exceeded with url: /api/table/providence_test/meta/hashes/ (Caused by NewConnectionError('<urllib3.connection.HTTPSConnection object at 0x1487ee8b0>: Failed to establish a new connection: [Errno 51] Network is unreachable'))",
      "\nDuring handling of the above exception, another exception occurred:\n",
      "\u001b[0;31mConnectionError\u001b[0m                           Traceback (most recent call last)",
      "\u001b[0;32m<ipython-input-8-e82ad833e0cb>\u001b[0m in \u001b[0;36m<module>\u001b[0;34m\u001b[0m\n\u001b[0;32m----> 1\u001b[0;31m \u001b[0mH\u001b[0m\u001b[0;34m.\u001b[0m\u001b[0mlisten\u001b[0m\u001b[0;34m(\u001b[0m\u001b[0;34m)\u001b[0m\u001b[0;34m\u001b[0m\u001b[0;34m\u001b[0m\u001b[0m\n\u001b[0m",
      "\u001b[0;32m~/anaconda3/envs/brix/lib/python3.9/site-packages/brix/classes.py\u001b[0m in \u001b[0;36mlisten\u001b[0;34m(self, new_thread, showFront, append, clear_endpoints, robust)\u001b[0m\n\u001b[1;32m   1575\u001b[0m                         \u001b[0mself\u001b[0m\u001b[0;34m.\u001b[0m\u001b[0mstart\u001b[0m\u001b[0;34m(\u001b[0m\u001b[0;34m)\u001b[0m\u001b[0;34m\u001b[0m\u001b[0;34m\u001b[0m\u001b[0m\n\u001b[1;32m   1576\u001b[0m                 \u001b[0;32melse\u001b[0m\u001b[0;34m:\u001b[0m\u001b[0;34m\u001b[0m\u001b[0;34m\u001b[0m\u001b[0m\n\u001b[0;32m-> 1577\u001b[0;31m                         \u001b[0mself\u001b[0m\u001b[0;34m.\u001b[0m\u001b[0m_listen\u001b[0m\u001b[0;34m(\u001b[0m\u001b[0mshowFront\u001b[0m\u001b[0;34m=\u001b[0m\u001b[0mshowFront\u001b[0m\u001b[0;34m,\u001b[0m\u001b[0mrobust\u001b[0m\u001b[0;34m=\u001b[0m\u001b[0mrobust\u001b[0m\u001b[0;34m)\u001b[0m\u001b[0;34m\u001b[0m\u001b[0;34m\u001b[0m\u001b[0m\n\u001b[0m\u001b[1;32m   1578\u001b[0m \u001b[0;34m\u001b[0m\u001b[0m\n\u001b[1;32m   1579\u001b[0m         \u001b[0;32mdef\u001b[0m \u001b[0mreset_geogrid_data\u001b[0m\u001b[0;34m(\u001b[0m\u001b[0mself\u001b[0m\u001b[0;34m,\u001b[0m\u001b[0moverride_verification\u001b[0m\u001b[0;34m=\u001b[0m\u001b[0;32mTrue\u001b[0m\u001b[0;34m)\u001b[0m\u001b[0;34m:\u001b[0m\u001b[0;34m\u001b[0m\u001b[0;34m\u001b[0m\u001b[0m\n",
      "\u001b[0;32m~/anaconda3/envs/brix/lib/python3.9/site-packages/brix/classes.py\u001b[0m in \u001b[0;36m_listen\u001b[0;34m(self, showFront, robust)\u001b[0m\n\u001b[1;32m   1511\u001b[0m                 \u001b[0;32mwhile\u001b[0m \u001b[0;32mTrue\u001b[0m\u001b[0;34m:\u001b[0m\u001b[0;34m\u001b[0m\u001b[0;34m\u001b[0m\u001b[0m\n\u001b[1;32m   1512\u001b[0m                         \u001b[0msleep\u001b[0m\u001b[0;34m(\u001b[0m\u001b[0mself\u001b[0m\u001b[0;34m.\u001b[0m\u001b[0msleep_time\u001b[0m\u001b[0;34m(\u001b[0m\u001b[0;34m)\u001b[0m\u001b[0;34m)\u001b[0m\u001b[0;34m\u001b[0m\u001b[0;34m\u001b[0m\u001b[0m\n\u001b[0;32m-> 1513\u001b[0;31m                         \u001b[0mgrid_hash_id\u001b[0m \u001b[0;34m=\u001b[0m \u001b[0mself\u001b[0m\u001b[0;34m.\u001b[0m\u001b[0mget_grid_hash\u001b[0m\u001b[0;34m(\u001b[0m\u001b[0;34m)\u001b[0m\u001b[0;34m\u001b[0m\u001b[0;34m\u001b[0m\u001b[0m\n\u001b[0m\u001b[1;32m   1514\u001b[0m                         \u001b[0;32mif\u001b[0m \u001b[0mgrid_hash_id\u001b[0m\u001b[0;34m!=\u001b[0m\u001b[0mself\u001b[0m\u001b[0;34m.\u001b[0m\u001b[0mgrid_hash_id\u001b[0m\u001b[0;34m:\u001b[0m\u001b[0;34m\u001b[0m\u001b[0;34m\u001b[0m\u001b[0m\n\u001b[1;32m   1515\u001b[0m                                 \u001b[0mself\u001b[0m\u001b[0;34m.\u001b[0m\u001b[0mwake_up\u001b[0m\u001b[0;34m(\u001b[0m\u001b[0;34m)\u001b[0m\u001b[0;34m\u001b[0m\u001b[0;34m\u001b[0m\u001b[0m\n",
      "\u001b[0;32m~/anaconda3/envs/brix/lib/python3.9/site-packages/brix/classes.py\u001b[0m in \u001b[0;36mget_grid_hash\u001b[0;34m(self)\u001b[0m\n\u001b[1;32m   1172\u001b[0m                 \u001b[0mhttp\u001b[0m\u001b[0;34m:\u001b[0m\u001b[0;34m//\u001b[0m\u001b[0mcityio\u001b[0m\u001b[0;34m.\u001b[0m\u001b[0mmedia\u001b[0m\u001b[0;34m.\u001b[0m\u001b[0mmit\u001b[0m\u001b[0;34m.\u001b[0m\u001b[0medu\u001b[0m\u001b[0;34m/\u001b[0m\u001b[0mapi\u001b[0m\u001b[0;34m/\u001b[0m\u001b[0mtable\u001b[0m\u001b[0;34m/\u001b[0m\u001b[0mtable_name\u001b[0m\u001b[0;34m/\u001b[0m\u001b[0mmeta\u001b[0m\u001b[0;34m/\u001b[0m\u001b[0mhashes\u001b[0m\u001b[0;34m\u001b[0m\u001b[0;34m\u001b[0m\u001b[0m\n\u001b[1;32m   1173\u001b[0m \t\t'''\n\u001b[0;32m-> 1174\u001b[0;31m                 \u001b[0mr\u001b[0m \u001b[0;34m=\u001b[0m \u001b[0mself\u001b[0m\u001b[0;34m.\u001b[0m\u001b[0m_get_url\u001b[0m\u001b[0;34m(\u001b[0m\u001b[0murljoin\u001b[0m\u001b[0;34m(\u001b[0m\u001b[0mself\u001b[0m\u001b[0;34m.\u001b[0m\u001b[0mcityIO_get_url\u001b[0m\u001b[0;34m,\u001b[0m\u001b[0;34m'meta/hashes'\u001b[0m\u001b[0;34m)\u001b[0m\u001b[0;34m)\u001b[0m\u001b[0;34m\u001b[0m\u001b[0;34m\u001b[0m\u001b[0m\n\u001b[0m\u001b[1;32m   1175\u001b[0m                 \u001b[0;32mif\u001b[0m \u001b[0mr\u001b[0m\u001b[0;34m.\u001b[0m\u001b[0mstatus_code\u001b[0m\u001b[0;34m==\u001b[0m\u001b[0;36m200\u001b[0m\u001b[0;34m:\u001b[0m\u001b[0;34m\u001b[0m\u001b[0;34m\u001b[0m\u001b[0m\n\u001b[1;32m   1176\u001b[0m                         \u001b[0mhashes\u001b[0m \u001b[0;34m=\u001b[0m \u001b[0mr\u001b[0m\u001b[0;34m.\u001b[0m\u001b[0mjson\u001b[0m\u001b[0;34m(\u001b[0m\u001b[0;34m)\u001b[0m\u001b[0;34m\u001b[0m\u001b[0;34m\u001b[0m\u001b[0m\n",
      "\u001b[0;32m~/anaconda3/envs/brix/lib/python3.9/site-packages/brix/classes.py\u001b[0m in \u001b[0;36m_get_url\u001b[0;34m(self, url, params, raise_warning)\u001b[0m\n\u001b[1;32m   1324\u001b[0m                         \u001b[0;32mif\u001b[0m \u001b[0;32mnot\u001b[0m \u001b[0mself\u001b[0m\u001b[0;34m.\u001b[0m\u001b[0mquietly\u001b[0m\u001b[0;34m:\u001b[0m\u001b[0;34m\u001b[0m\u001b[0;34m\u001b[0m\u001b[0m\n\u001b[1;32m   1325\u001b[0m                                 \u001b[0mprint\u001b[0m\u001b[0;34m(\u001b[0m\u001b[0murl\u001b[0m\u001b[0;34m,\u001b[0m\u001b[0;34m'Attempt:'\u001b[0m\u001b[0;34m,\u001b[0m\u001b[0mattempts\u001b[0m\u001b[0;34m)\u001b[0m\u001b[0;34m\u001b[0m\u001b[0;34m\u001b[0m\u001b[0m\n\u001b[0;32m-> 1326\u001b[0;31m                         \u001b[0mr\u001b[0m \u001b[0;34m=\u001b[0m \u001b[0mrequests\u001b[0m\u001b[0;34m.\u001b[0m\u001b[0mget\u001b[0m\u001b[0;34m(\u001b[0m\u001b[0murl\u001b[0m\u001b[0;34m,\u001b[0m\u001b[0mparams\u001b[0m\u001b[0;34m=\u001b[0m\u001b[0mparams\u001b[0m\u001b[0;34m)\u001b[0m\u001b[0;34m\u001b[0m\u001b[0;34m\u001b[0m\u001b[0m\n\u001b[0m\u001b[1;32m   1327\u001b[0m                         \u001b[0;32mif\u001b[0m \u001b[0mr\u001b[0m\u001b[0;34m.\u001b[0m\u001b[0mstatus_code\u001b[0m\u001b[0;34m==\u001b[0m\u001b[0;36m200\u001b[0m\u001b[0;34m:\u001b[0m\u001b[0;34m\u001b[0m\u001b[0;34m\u001b[0m\u001b[0m\n\u001b[1;32m   1328\u001b[0m                                 \u001b[0msuccess\u001b[0m\u001b[0;34m=\u001b[0m\u001b[0;32mTrue\u001b[0m\u001b[0;34m\u001b[0m\u001b[0;34m\u001b[0m\u001b[0m\n",
      "\u001b[0;32m~/anaconda3/envs/brix/lib/python3.9/site-packages/requests/api.py\u001b[0m in \u001b[0;36mget\u001b[0;34m(url, params, **kwargs)\u001b[0m\n\u001b[1;32m     74\u001b[0m \u001b[0;34m\u001b[0m\u001b[0m\n\u001b[1;32m     75\u001b[0m     \u001b[0mkwargs\u001b[0m\u001b[0;34m.\u001b[0m\u001b[0msetdefault\u001b[0m\u001b[0;34m(\u001b[0m\u001b[0;34m'allow_redirects'\u001b[0m\u001b[0;34m,\u001b[0m \u001b[0;32mTrue\u001b[0m\u001b[0;34m)\u001b[0m\u001b[0;34m\u001b[0m\u001b[0;34m\u001b[0m\u001b[0m\n\u001b[0;32m---> 76\u001b[0;31m     \u001b[0;32mreturn\u001b[0m \u001b[0mrequest\u001b[0m\u001b[0;34m(\u001b[0m\u001b[0;34m'get'\u001b[0m\u001b[0;34m,\u001b[0m \u001b[0murl\u001b[0m\u001b[0;34m,\u001b[0m \u001b[0mparams\u001b[0m\u001b[0;34m=\u001b[0m\u001b[0mparams\u001b[0m\u001b[0;34m,\u001b[0m \u001b[0;34m**\u001b[0m\u001b[0mkwargs\u001b[0m\u001b[0;34m)\u001b[0m\u001b[0;34m\u001b[0m\u001b[0;34m\u001b[0m\u001b[0m\n\u001b[0m\u001b[1;32m     77\u001b[0m \u001b[0;34m\u001b[0m\u001b[0m\n\u001b[1;32m     78\u001b[0m \u001b[0;34m\u001b[0m\u001b[0m\n",
      "\u001b[0;32m~/anaconda3/envs/brix/lib/python3.9/site-packages/requests/api.py\u001b[0m in \u001b[0;36mrequest\u001b[0;34m(method, url, **kwargs)\u001b[0m\n\u001b[1;32m     59\u001b[0m     \u001b[0;31m# cases, and look like a memory leak in others.\u001b[0m\u001b[0;34m\u001b[0m\u001b[0;34m\u001b[0m\u001b[0;34m\u001b[0m\u001b[0m\n\u001b[1;32m     60\u001b[0m     \u001b[0;32mwith\u001b[0m \u001b[0msessions\u001b[0m\u001b[0;34m.\u001b[0m\u001b[0mSession\u001b[0m\u001b[0;34m(\u001b[0m\u001b[0;34m)\u001b[0m \u001b[0;32mas\u001b[0m \u001b[0msession\u001b[0m\u001b[0;34m:\u001b[0m\u001b[0;34m\u001b[0m\u001b[0;34m\u001b[0m\u001b[0m\n\u001b[0;32m---> 61\u001b[0;31m         \u001b[0;32mreturn\u001b[0m \u001b[0msession\u001b[0m\u001b[0;34m.\u001b[0m\u001b[0mrequest\u001b[0m\u001b[0;34m(\u001b[0m\u001b[0mmethod\u001b[0m\u001b[0;34m=\u001b[0m\u001b[0mmethod\u001b[0m\u001b[0;34m,\u001b[0m \u001b[0murl\u001b[0m\u001b[0;34m=\u001b[0m\u001b[0murl\u001b[0m\u001b[0;34m,\u001b[0m \u001b[0;34m**\u001b[0m\u001b[0mkwargs\u001b[0m\u001b[0;34m)\u001b[0m\u001b[0;34m\u001b[0m\u001b[0;34m\u001b[0m\u001b[0m\n\u001b[0m\u001b[1;32m     62\u001b[0m \u001b[0;34m\u001b[0m\u001b[0m\n\u001b[1;32m     63\u001b[0m \u001b[0;34m\u001b[0m\u001b[0m\n",
      "\u001b[0;32m~/anaconda3/envs/brix/lib/python3.9/site-packages/requests/sessions.py\u001b[0m in \u001b[0;36mrequest\u001b[0;34m(self, method, url, params, data, headers, cookies, files, auth, timeout, allow_redirects, proxies, hooks, stream, verify, cert, json)\u001b[0m\n\u001b[1;32m    540\u001b[0m         }\n\u001b[1;32m    541\u001b[0m         \u001b[0msend_kwargs\u001b[0m\u001b[0;34m.\u001b[0m\u001b[0mupdate\u001b[0m\u001b[0;34m(\u001b[0m\u001b[0msettings\u001b[0m\u001b[0;34m)\u001b[0m\u001b[0;34m\u001b[0m\u001b[0;34m\u001b[0m\u001b[0m\n\u001b[0;32m--> 542\u001b[0;31m         \u001b[0mresp\u001b[0m \u001b[0;34m=\u001b[0m \u001b[0mself\u001b[0m\u001b[0;34m.\u001b[0m\u001b[0msend\u001b[0m\u001b[0;34m(\u001b[0m\u001b[0mprep\u001b[0m\u001b[0;34m,\u001b[0m \u001b[0;34m**\u001b[0m\u001b[0msend_kwargs\u001b[0m\u001b[0;34m)\u001b[0m\u001b[0;34m\u001b[0m\u001b[0;34m\u001b[0m\u001b[0m\n\u001b[0m\u001b[1;32m    543\u001b[0m \u001b[0;34m\u001b[0m\u001b[0m\n\u001b[1;32m    544\u001b[0m         \u001b[0;32mreturn\u001b[0m \u001b[0mresp\u001b[0m\u001b[0;34m\u001b[0m\u001b[0;34m\u001b[0m\u001b[0m\n",
      "\u001b[0;32m~/anaconda3/envs/brix/lib/python3.9/site-packages/requests/sessions.py\u001b[0m in \u001b[0;36msend\u001b[0;34m(self, request, **kwargs)\u001b[0m\n\u001b[1;32m    653\u001b[0m \u001b[0;34m\u001b[0m\u001b[0m\n\u001b[1;32m    654\u001b[0m         \u001b[0;31m# Send the request\u001b[0m\u001b[0;34m\u001b[0m\u001b[0;34m\u001b[0m\u001b[0;34m\u001b[0m\u001b[0m\n\u001b[0;32m--> 655\u001b[0;31m         \u001b[0mr\u001b[0m \u001b[0;34m=\u001b[0m \u001b[0madapter\u001b[0m\u001b[0;34m.\u001b[0m\u001b[0msend\u001b[0m\u001b[0;34m(\u001b[0m\u001b[0mrequest\u001b[0m\u001b[0;34m,\u001b[0m \u001b[0;34m**\u001b[0m\u001b[0mkwargs\u001b[0m\u001b[0;34m)\u001b[0m\u001b[0;34m\u001b[0m\u001b[0;34m\u001b[0m\u001b[0m\n\u001b[0m\u001b[1;32m    656\u001b[0m \u001b[0;34m\u001b[0m\u001b[0m\n\u001b[1;32m    657\u001b[0m         \u001b[0;31m# Total elapsed time of the request (approximately)\u001b[0m\u001b[0;34m\u001b[0m\u001b[0;34m\u001b[0m\u001b[0;34m\u001b[0m\u001b[0m\n",
      "\u001b[0;32m~/anaconda3/envs/brix/lib/python3.9/site-packages/requests/adapters.py\u001b[0m in \u001b[0;36msend\u001b[0;34m(self, request, stream, timeout, verify, cert, proxies)\u001b[0m\n\u001b[1;32m    514\u001b[0m                 \u001b[0;32mraise\u001b[0m \u001b[0mSSLError\u001b[0m\u001b[0;34m(\u001b[0m\u001b[0me\u001b[0m\u001b[0;34m,\u001b[0m \u001b[0mrequest\u001b[0m\u001b[0;34m=\u001b[0m\u001b[0mrequest\u001b[0m\u001b[0;34m)\u001b[0m\u001b[0;34m\u001b[0m\u001b[0;34m\u001b[0m\u001b[0m\n\u001b[1;32m    515\u001b[0m \u001b[0;34m\u001b[0m\u001b[0m\n\u001b[0;32m--> 516\u001b[0;31m             \u001b[0;32mraise\u001b[0m \u001b[0mConnectionError\u001b[0m\u001b[0;34m(\u001b[0m\u001b[0me\u001b[0m\u001b[0;34m,\u001b[0m \u001b[0mrequest\u001b[0m\u001b[0;34m=\u001b[0m\u001b[0mrequest\u001b[0m\u001b[0;34m)\u001b[0m\u001b[0;34m\u001b[0m\u001b[0;34m\u001b[0m\u001b[0m\n\u001b[0m\u001b[1;32m    517\u001b[0m \u001b[0;34m\u001b[0m\u001b[0m\n\u001b[1;32m    518\u001b[0m         \u001b[0;32mexcept\u001b[0m \u001b[0mClosedPoolError\u001b[0m \u001b[0;32mas\u001b[0m \u001b[0me\u001b[0m\u001b[0;34m:\u001b[0m\u001b[0;34m\u001b[0m\u001b[0;34m\u001b[0m\u001b[0m\n",
      "\u001b[0;31mConnectionError\u001b[0m: HTTPSConnectionPool(host='cityio.media.mit.edu', port=443): Max retries exceeded with url: /api/table/providence_test/meta/hashes/ (Caused by NewConnectionError('<urllib3.connection.HTTPSConnection object at 0x1487ee8b0>: Failed to establish a new connection: [Errno 51] Network is unreachable'))"
     ]
    }
   ],
   "source": [
    "H.listen()"
   ]
  },
  {
   "cell_type": "code",
   "execution_count": null,
   "metadata": {},
   "outputs": [],
   "source": [
    "m.sim.mode_descriptions"
   ]
  },
  {
   "cell_type": "code",
   "execution_count": null,
   "metadata": {},
   "outputs": [],
   "source": []
  }
 ],
 "metadata": {
  "anaconda-cloud": {},
  "kernelspec": {
   "display_name": "Python [conda env:brix]",
   "language": "python",
   "name": "conda-env-brix-py"
  },
  "language_info": {
   "codemirror_mode": {
    "name": "ipython",
    "version": 3
   },
   "file_extension": ".py",
   "mimetype": "text/x-python",
   "name": "python",
   "nbconvert_exporter": "python",
   "pygments_lexer": "ipython3",
   "version": "3.9.2"
  }
 },
 "nbformat": 4,
 "nbformat_minor": 2
}
