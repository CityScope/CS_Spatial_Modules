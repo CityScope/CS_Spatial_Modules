{
 "cells": [
  {
   "cell_type": "code",
   "execution_count": 1,
   "metadata": {},
   "outputs": [],
   "source": [
    "import CS_Indicators as CS\n",
    "from brix import Indicator, Handler\n",
    "import geopandas as gpd\n",
    "import pandas as pd"
   ]
  },
  {
   "cell_type": "code",
   "execution_count": 2,
   "metadata": {},
   "outputs": [],
   "source": [
    "table_name='providence_test'"
   ]
  },
  {
   "cell_type": "markdown",
   "metadata": {},
   "source": [
    "### Load the Saved Data"
   ]
  },
  {
   "cell_type": "code",
   "execution_count": 3,
   "metadata": {},
   "outputs": [],
   "source": [
    "geogrid=gpd.read_file('tables/{}/geogrid.geojson'.format(table_name))\n",
    "zones=gpd.read_file('tables/{}/zones.geojson'.format(table_name))\n",
    "zones['GEOID']=zones['GEOID'].astype(int)\n",
    "zones=zones.set_index('GEOID')\n",
    "simpop_df=pd.read_csv('tables/{}/simpop_df.csv'.format(table_name))"
   ]
  },
  {
   "cell_type": "code",
   "execution_count": 7,
   "metadata": {},
   "outputs": [
    {
     "data": {
      "text/plain": [
       "Index(['STATEFP', 'COUNTYFP', 'TRACTCE', 'BLKGRPCE', 'NAMELSAD', 'MTFCC',\n",
       "       'FUNCSTAT', 'area', 'AWATER', 'INTPTLAT', 'INTPTLON', 'x_centroid',\n",
       "       'y_centroid', 'res_total', 'res_income_low', 'res_income_mid',\n",
       "       'res_income_high', 'res_age_low', 'res_age_mid', 'res_age_high',\n",
       "       'res_edu_no_highsch', 'res_edu_highsch', 'res_edu_some_college',\n",
       "       'res_edu_bach_or_higher', 'emp_total', 'emp_income_low',\n",
       "       'emp_income_mid', 'emp_income_high', 'emp_age_low', 'emp_age_mid',\n",
       "       'emp_age_high', 'emp_edu_no_highsch', 'emp_edu_highsch',\n",
       "       'emp_edu_some_college', 'emp_edu_bach_or_higher', 'emp_naics_11',\n",
       "       'emp_naics_21', 'emp_naics_22', 'emp_naics_23', 'emp_naics_31-33',\n",
       "       'emp_naics_42', 'emp_naics_44-45', 'emp_naics_48-49', 'emp_naics_51',\n",
       "       'emp_naics_52', 'emp_naics_53', 'emp_naics_54', 'emp_naics_55',\n",
       "       'emp_naics_56', 'emp_naics_61', 'emp_naics_62', 'emp_naics_71',\n",
       "       'emp_naics_72', 'emp_naics_81', 'emp_naics_92', 'reference_area',\n",
       "       'model_area', 'copy_GEOID', 'sim_area', 'geometry'],\n",
       "      dtype='object')"
      ]
     },
     "execution_count": 7,
     "metadata": {},
     "output_type": "execute_result"
    }
   ],
   "source": [
    "zones.columns"
   ]
  },
  {
   "cell_type": "code",
   "execution_count": 4,
   "metadata": {},
   "outputs": [
    {
     "data": {
      "text/html": [
       "<div>\n",
       "<style scoped>\n",
       "    .dataframe tbody tr th:only-of-type {\n",
       "        vertical-align: middle;\n",
       "    }\n",
       "\n",
       "    .dataframe tbody tr th {\n",
       "        vertical-align: top;\n",
       "    }\n",
       "\n",
       "    .dataframe thead th {\n",
       "        text-align: right;\n",
       "    }\n",
       "</style>\n",
       "<table border=\"1\" class=\"dataframe\">\n",
       "  <thead>\n",
       "    <tr style=\"text-align: right;\">\n",
       "      <th></th>\n",
       "      <th>STATEFP</th>\n",
       "      <th>COUNTYFP</th>\n",
       "      <th>TRACTCE</th>\n",
       "      <th>BLKGRPCE</th>\n",
       "      <th>NAMELSAD</th>\n",
       "      <th>MTFCC</th>\n",
       "      <th>FUNCSTAT</th>\n",
       "      <th>area</th>\n",
       "      <th>AWATER</th>\n",
       "      <th>INTPTLAT</th>\n",
       "      <th>...</th>\n",
       "      <th>emp_naics_62</th>\n",
       "      <th>emp_naics_71</th>\n",
       "      <th>emp_naics_72</th>\n",
       "      <th>emp_naics_81</th>\n",
       "      <th>emp_naics_92</th>\n",
       "      <th>reference_area</th>\n",
       "      <th>model_area</th>\n",
       "      <th>copy_GEOID</th>\n",
       "      <th>sim_area</th>\n",
       "      <th>geometry</th>\n",
       "    </tr>\n",
       "    <tr>\n",
       "      <th>GEOID</th>\n",
       "      <th></th>\n",
       "      <th></th>\n",
       "      <th></th>\n",
       "      <th></th>\n",
       "      <th></th>\n",
       "      <th></th>\n",
       "      <th></th>\n",
       "      <th></th>\n",
       "      <th></th>\n",
       "      <th></th>\n",
       "      <th></th>\n",
       "      <th></th>\n",
       "      <th></th>\n",
       "      <th></th>\n",
       "      <th></th>\n",
       "      <th></th>\n",
       "      <th></th>\n",
       "      <th></th>\n",
       "      <th></th>\n",
       "      <th></th>\n",
       "      <th></th>\n",
       "    </tr>\n",
       "  </thead>\n",
       "  <tbody>\n",
       "    <tr>\n",
       "      <th>440070031002</th>\n",
       "      <td>44</td>\n",
       "      <td>007</td>\n",
       "      <td>003100</td>\n",
       "      <td>2</td>\n",
       "      <td>Block Group 2</td>\n",
       "      <td>G5030</td>\n",
       "      <td>S</td>\n",
       "      <td>162044</td>\n",
       "      <td>0</td>\n",
       "      <td>+41.8403235</td>\n",
       "      <td>...</td>\n",
       "      <td>2.0</td>\n",
       "      <td>21.0</td>\n",
       "      <td>49.0</td>\n",
       "      <td>0.0</td>\n",
       "      <td>0.0</td>\n",
       "      <td>False</td>\n",
       "      <td>True</td>\n",
       "      <td>440070031002</td>\n",
       "      <td>False</td>\n",
       "      <td>POLYGON ((-71.40922 41.83841, -71.40906 41.839...</td>\n",
       "    </tr>\n",
       "    <tr>\n",
       "      <th>440070031003</th>\n",
       "      <td>44</td>\n",
       "      <td>007</td>\n",
       "      <td>003100</td>\n",
       "      <td>3</td>\n",
       "      <td>Block Group 3</td>\n",
       "      <td>G5030</td>\n",
       "      <td>S</td>\n",
       "      <td>141613</td>\n",
       "      <td>0</td>\n",
       "      <td>+41.8369783</td>\n",
       "      <td>...</td>\n",
       "      <td>2.0</td>\n",
       "      <td>15.0</td>\n",
       "      <td>5.0</td>\n",
       "      <td>2.0</td>\n",
       "      <td>0.0</td>\n",
       "      <td>False</td>\n",
       "      <td>True</td>\n",
       "      <td>440070031003</td>\n",
       "      <td>False</td>\n",
       "      <td>POLYGON ((-71.40978 41.83535, -71.40973 41.835...</td>\n",
       "    </tr>\n",
       "    <tr>\n",
       "      <th>440070031004</th>\n",
       "      <td>44</td>\n",
       "      <td>007</td>\n",
       "      <td>003100</td>\n",
       "      <td>4</td>\n",
       "      <td>Block Group 4</td>\n",
       "      <td>G5030</td>\n",
       "      <td>S</td>\n",
       "      <td>172471</td>\n",
       "      <td>0</td>\n",
       "      <td>+41.8325863</td>\n",
       "      <td>...</td>\n",
       "      <td>112.0</td>\n",
       "      <td>0.0</td>\n",
       "      <td>4.0</td>\n",
       "      <td>35.0</td>\n",
       "      <td>0.0</td>\n",
       "      <td>False</td>\n",
       "      <td>True</td>\n",
       "      <td>440070031004</td>\n",
       "      <td>False</td>\n",
       "      <td>POLYGON ((-71.41133 41.83168, -71.41131 41.831...</td>\n",
       "    </tr>\n",
       "    <tr>\n",
       "      <th>440070031005</th>\n",
       "      <td>44</td>\n",
       "      <td>007</td>\n",
       "      <td>003100</td>\n",
       "      <td>5</td>\n",
       "      <td>Block Group 5</td>\n",
       "      <td>G5030</td>\n",
       "      <td>S</td>\n",
       "      <td>508043</td>\n",
       "      <td>2607</td>\n",
       "      <td>+41.8382690</td>\n",
       "      <td>...</td>\n",
       "      <td>1065.0</td>\n",
       "      <td>16.0</td>\n",
       "      <td>172.0</td>\n",
       "      <td>236.0</td>\n",
       "      <td>2499.0</td>\n",
       "      <td>False</td>\n",
       "      <td>True</td>\n",
       "      <td>440070031005</td>\n",
       "      <td>False</td>\n",
       "      <td>POLYGON ((-71.41745 41.83201, -71.41715 41.832...</td>\n",
       "    </tr>\n",
       "    <tr>\n",
       "      <th>440070032001</th>\n",
       "      <td>44</td>\n",
       "      <td>007</td>\n",
       "      <td>003200</td>\n",
       "      <td>1</td>\n",
       "      <td>Block Group 1</td>\n",
       "      <td>G5030</td>\n",
       "      <td>S</td>\n",
       "      <td>200964</td>\n",
       "      <td>0</td>\n",
       "      <td>+41.8438499</td>\n",
       "      <td>...</td>\n",
       "      <td>0.0</td>\n",
       "      <td>0.0</td>\n",
       "      <td>13.0</td>\n",
       "      <td>17.0</td>\n",
       "      <td>0.0</td>\n",
       "      <td>False</td>\n",
       "      <td>True</td>\n",
       "      <td>440070032001</td>\n",
       "      <td>False</td>\n",
       "      <td>POLYGON ((-71.39705 41.84132, -71.39697 41.841...</td>\n",
       "    </tr>\n",
       "  </tbody>\n",
       "</table>\n",
       "<p>5 rows × 60 columns</p>\n",
       "</div>"
      ],
      "text/plain": [
       "             STATEFP COUNTYFP TRACTCE BLKGRPCE       NAMELSAD  MTFCC FUNCSTAT  \\\n",
       "GEOID                                                                           \n",
       "440070031002      44      007  003100        2  Block Group 2  G5030        S   \n",
       "440070031003      44      007  003100        3  Block Group 3  G5030        S   \n",
       "440070031004      44      007  003100        4  Block Group 4  G5030        S   \n",
       "440070031005      44      007  003100        5  Block Group 5  G5030        S   \n",
       "440070032001      44      007  003200        1  Block Group 1  G5030        S   \n",
       "\n",
       "                area  AWATER     INTPTLAT  ... emp_naics_62  emp_naics_71  \\\n",
       "GEOID                                      ...                              \n",
       "440070031002  162044       0  +41.8403235  ...          2.0          21.0   \n",
       "440070031003  141613       0  +41.8369783  ...          2.0          15.0   \n",
       "440070031004  172471       0  +41.8325863  ...        112.0           0.0   \n",
       "440070031005  508043    2607  +41.8382690  ...       1065.0          16.0   \n",
       "440070032001  200964       0  +41.8438499  ...          0.0           0.0   \n",
       "\n",
       "              emp_naics_72  emp_naics_81  emp_naics_92  reference_area  \\\n",
       "GEOID                                                                    \n",
       "440070031002          49.0           0.0           0.0           False   \n",
       "440070031003           5.0           2.0           0.0           False   \n",
       "440070031004           4.0          35.0           0.0           False   \n",
       "440070031005         172.0         236.0        2499.0           False   \n",
       "440070032001          13.0          17.0           0.0           False   \n",
       "\n",
       "              model_area    copy_GEOID  sim_area  \\\n",
       "GEOID                                              \n",
       "440070031002        True  440070031002     False   \n",
       "440070031003        True  440070031003     False   \n",
       "440070031004        True  440070031004     False   \n",
       "440070031005        True  440070031005     False   \n",
       "440070032001        True  440070032001     False   \n",
       "\n",
       "                                                       geometry  \n",
       "GEOID                                                            \n",
       "440070031002  POLYGON ((-71.40922 41.83841, -71.40906 41.839...  \n",
       "440070031003  POLYGON ((-71.40978 41.83535, -71.40973 41.835...  \n",
       "440070031004  POLYGON ((-71.41133 41.83168, -71.41131 41.831...  \n",
       "440070031005  POLYGON ((-71.41745 41.83201, -71.41715 41.832...  \n",
       "440070032001  POLYGON ((-71.39705 41.84132, -71.39697 41.841...  \n",
       "\n",
       "[5 rows x 60 columns]"
      ]
     },
     "execution_count": 4,
     "metadata": {},
     "output_type": "execute_result"
    }
   ],
   "source": [
    "zones.head()"
   ]
  },
  {
   "cell_type": "code",
   "execution_count": 5,
   "metadata": {},
   "outputs": [
    {
     "data": {
      "text/html": [
       "<div>\n",
       "<style scoped>\n",
       "    .dataframe tbody tr th:only-of-type {\n",
       "        vertical-align: middle;\n",
       "    }\n",
       "\n",
       "    .dataframe tbody tr th {\n",
       "        vertical-align: top;\n",
       "    }\n",
       "\n",
       "    .dataframe thead th {\n",
       "        text-align: right;\n",
       "    }\n",
       "</style>\n",
       "<table border=\"1\" class=\"dataframe\">\n",
       "  <thead>\n",
       "    <tr style=\"text-align: right;\">\n",
       "      <th></th>\n",
       "      <th>age</th>\n",
       "      <th>earnings</th>\n",
       "      <th>industry</th>\n",
       "      <th>home_geoid</th>\n",
       "      <th>work_geoid</th>\n",
       "    </tr>\n",
       "  </thead>\n",
       "  <tbody>\n",
       "    <tr>\n",
       "      <th>0</th>\n",
       "      <td>low</td>\n",
       "      <td>mid</td>\n",
       "      <td>trade_trans_util</td>\n",
       "      <td>440070001011</td>\n",
       "      <td>440070003001</td>\n",
       "    </tr>\n",
       "    <tr>\n",
       "      <th>1</th>\n",
       "      <td>mid</td>\n",
       "      <td>mid</td>\n",
       "      <td>other</td>\n",
       "      <td>440070001011</td>\n",
       "      <td>440070003002</td>\n",
       "    </tr>\n",
       "    <tr>\n",
       "      <th>2</th>\n",
       "      <td>high</td>\n",
       "      <td>low</td>\n",
       "      <td>other</td>\n",
       "      <td>440070001011</td>\n",
       "      <td>440070003005</td>\n",
       "    </tr>\n",
       "    <tr>\n",
       "      <th>3</th>\n",
       "      <td>mid</td>\n",
       "      <td>mid</td>\n",
       "      <td>other</td>\n",
       "      <td>440070001011</td>\n",
       "      <td>440070004001</td>\n",
       "    </tr>\n",
       "    <tr>\n",
       "      <th>4</th>\n",
       "      <td>mid</td>\n",
       "      <td>low</td>\n",
       "      <td>other</td>\n",
       "      <td>440070001011</td>\n",
       "      <td>440070007002</td>\n",
       "    </tr>\n",
       "  </tbody>\n",
       "</table>\n",
       "</div>"
      ],
      "text/plain": [
       "    age earnings          industry    home_geoid    work_geoid\n",
       "0   low      mid  trade_trans_util  440070001011  440070003001\n",
       "1   mid      mid             other  440070001011  440070003002\n",
       "2  high      low             other  440070001011  440070003005\n",
       "3   mid      mid             other  440070001011  440070004001\n",
       "4   mid      low             other  440070001011  440070007002"
      ]
     },
     "execution_count": 5,
     "metadata": {},
     "output_type": "execute_result"
    }
   ],
   "source": [
    "simpop_df.head()"
   ]
  },
  {
   "cell_type": "code",
   "execution_count": 6,
   "metadata": {},
   "outputs": [
    {
     "data": {
      "text/html": [
       "<div>\n",
       "<style scoped>\n",
       "    .dataframe tbody tr th:only-of-type {\n",
       "        vertical-align: middle;\n",
       "    }\n",
       "\n",
       "    .dataframe tbody tr th {\n",
       "        vertical-align: top;\n",
       "    }\n",
       "\n",
       "    .dataframe thead th {\n",
       "        text-align: right;\n",
       "    }\n",
       "</style>\n",
       "<table border=\"1\" class=\"dataframe\">\n",
       "  <thead>\n",
       "    <tr style=\"text-align: right;\">\n",
       "      <th></th>\n",
       "      <th>id</th>\n",
       "      <th>interactive</th>\n",
       "      <th>name</th>\n",
       "      <th>x_centroid</th>\n",
       "      <th>y_centroid</th>\n",
       "      <th>geometry</th>\n",
       "    </tr>\n",
       "  </thead>\n",
       "  <tbody>\n",
       "    <tr>\n",
       "      <th>0</th>\n",
       "      <td>0</td>\n",
       "      <td>Web</td>\n",
       "      <td>None</td>\n",
       "      <td>-71.429212</td>\n",
       "      <td>41.81517</td>\n",
       "      <td>POLYGON ((-71.42951 41.81539, -71.42951 41.814...</td>\n",
       "    </tr>\n",
       "    <tr>\n",
       "      <th>1</th>\n",
       "      <td>1</td>\n",
       "      <td>Web</td>\n",
       "      <td>None</td>\n",
       "      <td>-71.428610</td>\n",
       "      <td>41.81517</td>\n",
       "      <td>POLYGON ((-71.42891 41.81539, -71.42891 41.814...</td>\n",
       "    </tr>\n",
       "    <tr>\n",
       "      <th>2</th>\n",
       "      <td>2</td>\n",
       "      <td>Web</td>\n",
       "      <td>None</td>\n",
       "      <td>-71.428009</td>\n",
       "      <td>41.81517</td>\n",
       "      <td>POLYGON ((-71.42831 41.81539, -71.42831 41.814...</td>\n",
       "    </tr>\n",
       "    <tr>\n",
       "      <th>3</th>\n",
       "      <td>3</td>\n",
       "      <td>Web</td>\n",
       "      <td>None</td>\n",
       "      <td>-71.427407</td>\n",
       "      <td>41.81517</td>\n",
       "      <td>POLYGON ((-71.42771 41.81539, -71.42771 41.814...</td>\n",
       "    </tr>\n",
       "    <tr>\n",
       "      <th>4</th>\n",
       "      <td>4</td>\n",
       "      <td>Web</td>\n",
       "      <td>None</td>\n",
       "      <td>-71.426805</td>\n",
       "      <td>41.81517</td>\n",
       "      <td>POLYGON ((-71.42711 41.81539, -71.42711 41.814...</td>\n",
       "    </tr>\n",
       "  </tbody>\n",
       "</table>\n",
       "</div>"
      ],
      "text/plain": [
       "   id interactive  name  x_centroid  y_centroid  \\\n",
       "0   0         Web  None  -71.429212    41.81517   \n",
       "1   1         Web  None  -71.428610    41.81517   \n",
       "2   2         Web  None  -71.428009    41.81517   \n",
       "3   3         Web  None  -71.427407    41.81517   \n",
       "4   4         Web  None  -71.426805    41.81517   \n",
       "\n",
       "                                            geometry  \n",
       "0  POLYGON ((-71.42951 41.81539, -71.42951 41.814...  \n",
       "1  POLYGON ((-71.42891 41.81539, -71.42891 41.814...  \n",
       "2  POLYGON ((-71.42831 41.81539, -71.42831 41.814...  \n",
       "3  POLYGON ((-71.42771 41.81539, -71.42771 41.814...  \n",
       "4  POLYGON ((-71.42711 41.81539, -71.42711 41.814...  "
      ]
     },
     "execution_count": 6,
     "metadata": {},
     "output_type": "execute_result"
    }
   ],
   "source": [
    "geogrid.head()"
   ]
  },
  {
   "cell_type": "markdown",
   "metadata": {},
   "source": [
    "### Create and run the Cityscope model"
   ]
  },
  {
   "cell_type": "code",
   "execution_count": 5,
   "metadata": {},
   "outputs": [],
   "source": [
    "H=Handler(table_name=table_name)\n",
    "H.reset_geogrid_data()"
   ]
  },
  {
   "cell_type": "code",
   "execution_count": 9,
   "metadata": {},
   "outputs": [
    {
     "name": "stdout",
     "output_type": "stream",
     "text": [
      "Setting up Proximity Indicator\n",
      "\t Downloading graph for reference area\n",
      "\t Getting central nodes\n",
      "\t Finding all reachable geometries from each geometry\n",
      "\t Calculating baseline scores\n",
      "Dens Ind: 0:00:00.005466\n",
      "Prox Ind: 0:00:00.105349\n",
      "Prox HM: 0:00:00.005028\n"
     ]
    },
    {
     "name": "stderr",
     "output_type": "stream",
     "text": [
      "/Users/doorleyr/anaconda3/envs/brix/lib/python3.9/site-packages/brix/classes.py:575: UserWarning: Indicator Mobility already exists and will be overwritten\n",
      "  warn(f'Indicator {indicatorName} already exists and will be overwritten')\n"
     ]
    },
    {
     "name": "stdout",
     "output_type": "stream",
     "text": [
      "Starting MM Update\n",
      "Schedules and locations\n",
      "Trip table\n",
      "Route table\n"
     ]
    },
    {
     "name": "stderr",
     "output_type": "stream",
     "text": [
      "/Volumes/GoogleDrive/My Drive/OpenCity/OpenCity.py:671: SettingWithCopyWarning: \n",
      "A value is trying to be set on a copy of a slice from a DataFrame.\n",
      "Try using .loc[row_indexer,col_indexer] = value instead\n",
      "\n",
      "See the caveats in the documentation: https://pandas.pydata.org/pandas-docs/stable/user_guide/indexing.html#returning-a-view-versus-a-copy\n",
      "  route_table_this_mode['node_path']=routes['node_path']\n",
      "/Volumes/GoogleDrive/My Drive/OpenCity/OpenCity.py:672: SettingWithCopyWarning: \n",
      "A value is trying to be set on a copy of a slice from a DataFrame.\n",
      "Try using .loc[row_indexer,col_indexer] = value instead\n",
      "\n",
      "See the caveats in the documentation: https://pandas.pydata.org/pandas-docs/stable/user_guide/indexing.html#returning-a-view-versus-a-copy\n",
      "  route_table_this_mode['attributes']=routes['attributes']\n"
     ]
    },
    {
     "name": "stdout",
     "output_type": "stream",
     "text": [
      "DeckGL\n",
      "Post ABM: <Response [200]>\n",
      "Finished MM Update\n"
     ]
    }
   ],
   "source": [
    "d=CS.Density_Indicator(zones=zones)\n",
    "p=CS.Proximity_Indicator(zones=zones, geogrid=geogrid)\n",
    "m=CS.Mobility_indicator(zones, geogrid, table_name, simpop_df)\n",
    "H.add_indicators([\n",
    "    d, p, \n",
    "    m\n",
    "])\n",
    "\n",
    "# H.add_indicator(m)"
   ]
  },
  {
   "cell_type": "code",
   "execution_count": null,
   "metadata": {},
   "outputs": [
    {
     "name": "stdout",
     "output_type": "stream",
     "text": [
      "Starting MM Update\n",
      "Schedules and locations\n",
      "Trip table\n",
      "Route table\n"
     ]
    },
    {
     "name": "stderr",
     "output_type": "stream",
     "text": [
      "/Volumes/GoogleDrive/My Drive/OpenCity/OpenCity.py:671: SettingWithCopyWarning: \n",
      "A value is trying to be set on a copy of a slice from a DataFrame.\n",
      "Try using .loc[row_indexer,col_indexer] = value instead\n",
      "\n",
      "See the caveats in the documentation: https://pandas.pydata.org/pandas-docs/stable/user_guide/indexing.html#returning-a-view-versus-a-copy\n",
      "  route_table_this_mode['node_path']=routes['node_path']\n",
      "/Volumes/GoogleDrive/My Drive/OpenCity/OpenCity.py:672: SettingWithCopyWarning: \n",
      "A value is trying to be set on a copy of a slice from a DataFrame.\n",
      "Try using .loc[row_indexer,col_indexer] = value instead\n",
      "\n",
      "See the caveats in the documentation: https://pandas.pydata.org/pandas-docs/stable/user_guide/indexing.html#returning-a-view-versus-a-copy\n",
      "  route_table_this_mode['attributes']=routes['attributes']\n"
     ]
    },
    {
     "name": "stdout",
     "output_type": "stream",
     "text": [
      "DeckGL\n",
      "Post ABM: <Response [200]>\n",
      "Finished MM Update\n",
      "Dens Ind: 0:00:00.005202\n",
      "Prox Ind: 0:00:00.107899\n",
      "Prox HM: 0:00:00.005441\n",
      "Starting MM Update\n",
      "Schedules and locations\n",
      "Trip table\n",
      "Route table\n"
     ]
    },
    {
     "name": "stderr",
     "output_type": "stream",
     "text": [
      "/Volumes/GoogleDrive/My Drive/OpenCity/OpenCity.py:671: SettingWithCopyWarning: \n",
      "A value is trying to be set on a copy of a slice from a DataFrame.\n",
      "Try using .loc[row_indexer,col_indexer] = value instead\n",
      "\n",
      "See the caveats in the documentation: https://pandas.pydata.org/pandas-docs/stable/user_guide/indexing.html#returning-a-view-versus-a-copy\n",
      "  route_table_this_mode['node_path']=routes['node_path']\n",
      "/Volumes/GoogleDrive/My Drive/OpenCity/OpenCity.py:672: SettingWithCopyWarning: \n",
      "A value is trying to be set on a copy of a slice from a DataFrame.\n",
      "Try using .loc[row_indexer,col_indexer] = value instead\n",
      "\n",
      "See the caveats in the documentation: https://pandas.pydata.org/pandas-docs/stable/user_guide/indexing.html#returning-a-view-versus-a-copy\n",
      "  route_table_this_mode['attributes']=routes['attributes']\n"
     ]
    },
    {
     "name": "stdout",
     "output_type": "stream",
     "text": [
      "DeckGL\n",
      "Post ABM: <Response [200]>\n",
      "Finished MM Update\n",
      "Dens Ind: 0:00:00.006239\n",
      "Prox Ind: 0:00:00.109959\n",
      "Prox HM: 0:00:00.004966\n",
      "Starting MM Update\n",
      "Schedules and locations\n",
      "Trip table\n",
      "Route table\n"
     ]
    },
    {
     "name": "stderr",
     "output_type": "stream",
     "text": [
      "/Volumes/GoogleDrive/My Drive/OpenCity/OpenCity.py:671: SettingWithCopyWarning: \n",
      "A value is trying to be set on a copy of a slice from a DataFrame.\n",
      "Try using .loc[row_indexer,col_indexer] = value instead\n",
      "\n",
      "See the caveats in the documentation: https://pandas.pydata.org/pandas-docs/stable/user_guide/indexing.html#returning-a-view-versus-a-copy\n",
      "  route_table_this_mode['node_path']=routes['node_path']\n",
      "/Volumes/GoogleDrive/My Drive/OpenCity/OpenCity.py:672: SettingWithCopyWarning: \n",
      "A value is trying to be set on a copy of a slice from a DataFrame.\n",
      "Try using .loc[row_indexer,col_indexer] = value instead\n",
      "\n",
      "See the caveats in the documentation: https://pandas.pydata.org/pandas-docs/stable/user_guide/indexing.html#returning-a-view-versus-a-copy\n",
      "  route_table_this_mode['attributes']=routes['attributes']\n"
     ]
    },
    {
     "name": "stdout",
     "output_type": "stream",
     "text": [
      "DeckGL\n",
      "Post ABM: <Response [200]>\n",
      "Finished MM Update\n",
      "Dens Ind: 0:00:00.009228\n",
      "Prox Ind: 0:00:00.336471\n",
      "Prox HM: 0:00:00.010609\n",
      "Starting MM Update\n",
      "Schedules and locations\n",
      "Trip table\n",
      "Route table\n"
     ]
    },
    {
     "name": "stderr",
     "output_type": "stream",
     "text": [
      "/Volumes/GoogleDrive/My Drive/OpenCity/OpenCity.py:671: SettingWithCopyWarning: \n",
      "A value is trying to be set on a copy of a slice from a DataFrame.\n",
      "Try using .loc[row_indexer,col_indexer] = value instead\n",
      "\n",
      "See the caveats in the documentation: https://pandas.pydata.org/pandas-docs/stable/user_guide/indexing.html#returning-a-view-versus-a-copy\n",
      "  route_table_this_mode['node_path']=routes['node_path']\n",
      "/Volumes/GoogleDrive/My Drive/OpenCity/OpenCity.py:672: SettingWithCopyWarning: \n",
      "A value is trying to be set on a copy of a slice from a DataFrame.\n",
      "Try using .loc[row_indexer,col_indexer] = value instead\n",
      "\n",
      "See the caveats in the documentation: https://pandas.pydata.org/pandas-docs/stable/user_guide/indexing.html#returning-a-view-versus-a-copy\n",
      "  route_table_this_mode['attributes']=routes['attributes']\n"
     ]
    },
    {
     "name": "stdout",
     "output_type": "stream",
     "text": [
      "DeckGL\n",
      "Post ABM: <Response [200]>\n",
      "Finished MM Update\n",
      "Dens Ind: 0:00:00.006785\n",
      "Prox Ind: 0:00:00.261256\n",
      "Prox HM: 0:00:00.009170\n"
     ]
    }
   ],
   "source": [
    "H.listen()"
   ]
  },
  {
   "cell_type": "code",
   "execution_count": null,
   "metadata": {},
   "outputs": [],
   "source": []
  },
  {
   "cell_type": "code",
   "execution_count": null,
   "metadata": {},
   "outputs": [],
   "source": []
  }
 ],
 "metadata": {
  "anaconda-cloud": {},
  "kernelspec": {
   "display_name": "Python [conda env:brix]",
   "language": "python",
   "name": "conda-env-brix-py"
  },
  "language_info": {
   "codemirror_mode": {
    "name": "ipython",
    "version": 3
   },
   "file_extension": ".py",
   "mimetype": "text/x-python",
   "name": "python",
   "nbconvert_exporter": "python",
   "pygments_lexer": "ipython3",
   "version": "3.9.2"
  }
 },
 "nbformat": 4,
 "nbformat_minor": 2
}
